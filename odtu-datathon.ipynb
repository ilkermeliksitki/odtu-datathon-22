{
 "cells": [
  {
   "cell_type": "code",
   "execution_count": 1,
   "id": "24c1dadb",
   "metadata": {
    "_cell_guid": "b1076dfc-b9ad-4769-8c92-a6c4dae69d19",
    "_uuid": "8f2839f25d086af736a60e9eeb907d3b93b6e0e5",
    "execution": {
     "iopub.execute_input": "2022-03-14T18:00:07.294377Z",
     "iopub.status.busy": "2022-03-14T18:00:07.292713Z",
     "iopub.status.idle": "2022-03-14T18:00:08.359335Z",
     "shell.execute_reply": "2022-03-14T18:00:08.358512Z",
     "shell.execute_reply.started": "2022-03-14T17:53:55.229469Z"
    },
    "papermill": {
     "duration": 1.105527,
     "end_time": "2022-03-14T18:00:08.359634",
     "exception": false,
     "start_time": "2022-03-14T18:00:07.254107",
     "status": "completed"
    },
    "tags": []
   },
   "outputs": [],
   "source": [
    "import numpy as np\n",
    "import pandas as pd\n",
    "import matplotlib.pyplot as plt\n",
    "import seaborn as sns\n",
    "from scipy.stats import pearsonr\n",
    "\n",
    "df = pd.read_csv(\"../input/odtu-datathon-22/data.set.csv\", encoding=\"latin5\", delimiter=\";\")"
   ]
  },
  {
   "cell_type": "markdown",
   "id": "bdc382e9",
   "metadata": {
    "papermill": {
     "duration": 0.032526,
     "end_time": "2022-03-14T18:00:08.419850",
     "exception": false,
     "start_time": "2022-03-14T18:00:08.387324",
     "status": "completed"
    },
    "tags": []
   },
   "source": [
    "### <b style=\"color:blue\">SORU 1: Verilen veri setini minimum kayıpla üzerinde çalışılabilir bir formata getirin. Bu doğrultuda yaptığınız operasyonları açıklayın. </b>"
   ]
  },
  {
   "cell_type": "code",
   "execution_count": 2,
   "id": "1ef3448f",
   "metadata": {
    "execution": {
     "iopub.execute_input": "2022-03-14T18:00:08.502296Z",
     "iopub.status.busy": "2022-03-14T18:00:08.501649Z",
     "iopub.status.idle": "2022-03-14T18:00:08.530025Z",
     "shell.execute_reply": "2022-03-14T18:00:08.530530Z",
     "shell.execute_reply.started": "2022-03-14T17:53:55.256758Z"
    },
    "papermill": {
     "duration": 0.073656,
     "end_time": "2022-03-14T18:00:08.530704",
     "exception": false,
     "start_time": "2022-03-14T18:00:08.457048",
     "status": "completed"
    },
    "tags": []
   },
   "outputs": [
    {
     "data": {
      "text/html": [
       "<div>\n",
       "<style scoped>\n",
       "    .dataframe tbody tr th:only-of-type {\n",
       "        vertical-align: middle;\n",
       "    }\n",
       "\n",
       "    .dataframe tbody tr th {\n",
       "        vertical-align: top;\n",
       "    }\n",
       "\n",
       "    .dataframe thead th {\n",
       "        text-align: right;\n",
       "    }\n",
       "</style>\n",
       "<table border=\"1\" class=\"dataframe\">\n",
       "  <thead>\n",
       "    <tr style=\"text-align: right;\">\n",
       "      <th></th>\n",
       "      <th>Sütun1</th>\n",
       "      <th>id</th>\n",
       "      <th>fiyat</th>\n",
       "      <th>oda_salon_sayisi</th>\n",
       "      <th>net_m2</th>\n",
       "      <th>bina_yasi</th>\n",
       "      <th>isinma_tipi</th>\n",
       "      <th>krediye_uygunluk</th>\n",
       "      <th>bulundugu_kat</th>\n",
       "      <th>banyo_sayisi</th>\n",
       "      <th>ilce</th>\n",
       "      <th>nüfus</th>\n",
       "      <th>eğitim</th>\n",
       "      <th>okuma_yazma_bilmeyen</th>\n",
       "    </tr>\n",
       "  </thead>\n",
       "  <tbody>\n",
       "    <tr>\n",
       "      <th>0</th>\n",
       "      <td>2612</td>\n",
       "      <td>2612.0</td>\n",
       "      <td>275000</td>\n",
       "      <td>4.0</td>\n",
       "      <td>120.0</td>\n",
       "      <td>12.0</td>\n",
       "      <td>Kombi</td>\n",
       "      <td>Uygun</td>\n",
       "      <td>Kot 1</td>\n",
       "      <td>1.0</td>\n",
       "      <td>Çankaya</td>\n",
       "      <td>925828.0</td>\n",
       "      <td>Lisans</td>\n",
       "      <td>0,7</td>\n",
       "    </tr>\n",
       "    <tr>\n",
       "      <th>1</th>\n",
       "      <td>4819</td>\n",
       "      <td>4819.0</td>\n",
       "      <td>700000</td>\n",
       "      <td>3.0</td>\n",
       "      <td>88.0</td>\n",
       "      <td>0.0</td>\n",
       "      <td>Merkezi(PayÖlçer)</td>\n",
       "      <td>Uygun</td>\n",
       "      <td>1. Kat</td>\n",
       "      <td>1.0</td>\n",
       "      <td>Çankaya</td>\n",
       "      <td>925828.0</td>\n",
       "      <td>Lisans</td>\n",
       "      <td>0,7</td>\n",
       "    </tr>\n",
       "    <tr>\n",
       "      <th>2</th>\n",
       "      <td>149</td>\n",
       "      <td>149.0</td>\n",
       "      <td>980000</td>\n",
       "      <td>5.0</td>\n",
       "      <td>230.0</td>\n",
       "      <td>30.0</td>\n",
       "      <td>Kombi</td>\n",
       "      <td>Uygun</td>\n",
       "      <td>3. Kat</td>\n",
       "      <td>2.0</td>\n",
       "      <td>Çankaya</td>\n",
       "      <td>925828.0</td>\n",
       "      <td>liSans</td>\n",
       "      <td>0,7</td>\n",
       "    </tr>\n",
       "    <tr>\n",
       "      <th>3</th>\n",
       "      <td>3628</td>\n",
       "      <td>3628.0</td>\n",
       "      <td>385000</td>\n",
       "      <td>4.0</td>\n",
       "      <td>120.0</td>\n",
       "      <td>22.0</td>\n",
       "      <td>Kombi</td>\n",
       "      <td>Uygun</td>\n",
       "      <td>2. Kat</td>\n",
       "      <td>1.0</td>\n",
       "      <td>Keçiören</td>\n",
       "      <td>938565.0</td>\n",
       "      <td>Lise</td>\n",
       "      <td>1,43</td>\n",
       "    </tr>\n",
       "    <tr>\n",
       "      <th>4</th>\n",
       "      <td>3936</td>\n",
       "      <td>3936.0</td>\n",
       "      <td>700000</td>\n",
       "      <td>5.0</td>\n",
       "      <td>150.0</td>\n",
       "      <td>0.0</td>\n",
       "      <td>Kombi</td>\n",
       "      <td>Uygun</td>\n",
       "      <td>Ara Kat</td>\n",
       "      <td>2.0</td>\n",
       "      <td>Çankaya</td>\n",
       "      <td>925828.0</td>\n",
       "      <td>Lisans</td>\n",
       "      <td>0,7</td>\n",
       "    </tr>\n",
       "  </tbody>\n",
       "</table>\n",
       "</div>"
      ],
      "text/plain": [
       "   Sütun1      id   fiyat  oda_salon_sayisi  net_m2  bina_yasi  \\\n",
       "0    2612  2612.0  275000               4.0   120.0       12.0   \n",
       "1    4819  4819.0  700000               3.0    88.0        0.0   \n",
       "2     149   149.0  980000               5.0   230.0       30.0   \n",
       "3    3628  3628.0  385000               4.0   120.0       22.0   \n",
       "4    3936  3936.0  700000               5.0   150.0        0.0   \n",
       "\n",
       "         isinma_tipi krediye_uygunluk bulundugu_kat  banyo_sayisi      ilce  \\\n",
       "0              Kombi            Uygun         Kot 1           1.0   Çankaya   \n",
       "1  Merkezi(PayÖlçer)            Uygun        1. Kat           1.0   Çankaya   \n",
       "2              Kombi            Uygun        3. Kat           2.0   Çankaya   \n",
       "3              Kombi            Uygun        2. Kat           1.0  Keçiören   \n",
       "4              Kombi            Uygun       Ara Kat           2.0   Çankaya   \n",
       "\n",
       "      nüfus  eğitim okuma_yazma_bilmeyen  \n",
       "0  925828.0  Lisans                  0,7  \n",
       "1  925828.0  Lisans                  0,7  \n",
       "2  925828.0  liSans                  0,7  \n",
       "3  938565.0    Lise                 1,43  \n",
       "4  925828.0  Lisans                  0,7  "
      ]
     },
     "execution_count": 2,
     "metadata": {},
     "output_type": "execute_result"
    }
   ],
   "source": [
    "df.head()"
   ]
  },
  {
   "cell_type": "markdown",
   "id": "1aafe15b",
   "metadata": {
    "papermill": {
     "duration": 0.027259,
     "end_time": "2022-03-14T18:00:08.589657",
     "exception": false,
     "start_time": "2022-03-14T18:00:08.562398",
     "status": "completed"
    },
    "tags": []
   },
   "source": [
    "##### The dtype of id is float and there are two nan values in id column. So I will drop that column and use \"Sütun1\" as \"id\" column. Because its dtype is int and doesn't include nan value. Furthermore, I change the name of \"Sütun1\" column as \"id\"."
   ]
  },
  {
   "cell_type": "code",
   "execution_count": 3,
   "id": "f2a12045",
   "metadata": {
    "execution": {
     "iopub.execute_input": "2022-03-14T18:00:08.652072Z",
     "iopub.status.busy": "2022-03-14T18:00:08.651404Z",
     "iopub.status.idle": "2022-03-14T18:00:08.673203Z",
     "shell.execute_reply": "2022-03-14T18:00:08.673755Z",
     "shell.execute_reply.started": "2022-03-14T17:53:55.281620Z"
    },
    "papermill": {
     "duration": 0.056789,
     "end_time": "2022-03-14T18:00:08.673928",
     "exception": false,
     "start_time": "2022-03-14T18:00:08.617139",
     "status": "completed"
    },
    "tags": []
   },
   "outputs": [
    {
     "name": "stdout",
     "output_type": "stream",
     "text": [
      "<class 'pandas.core.frame.DataFrame'>\n",
      "RangeIndex: 4222 entries, 0 to 4221\n",
      "Data columns (total 14 columns):\n",
      " #   Column                Non-Null Count  Dtype  \n",
      "---  ------                --------------  -----  \n",
      " 0   Sütun1                4222 non-null   int64  \n",
      " 1   id                    4220 non-null   float64\n",
      " 2   fiyat                 4212 non-null   object \n",
      " 3   oda_salon_sayisi      4213 non-null   float64\n",
      " 4   net_m2                4213 non-null   float64\n",
      " 5   bina_yasi             4216 non-null   float64\n",
      " 6   isinma_tipi           4218 non-null   object \n",
      " 7   krediye_uygunluk      4218 non-null   object \n",
      " 8   bulundugu_kat         4218 non-null   object \n",
      " 9   banyo_sayisi          4214 non-null   float64\n",
      " 10  ilce                  4215 non-null   object \n",
      " 11  nüfus                 4214 non-null   float64\n",
      " 12  eğitim                4217 non-null   object \n",
      " 13  okuma_yazma_bilmeyen  4217 non-null   object \n",
      "dtypes: float64(6), int64(1), object(7)\n",
      "memory usage: 461.9+ KB\n"
     ]
    }
   ],
   "source": [
    "df.info()"
   ]
  },
  {
   "cell_type": "code",
   "execution_count": 4,
   "id": "267942ee",
   "metadata": {
    "execution": {
     "iopub.execute_input": "2022-03-14T18:00:08.752573Z",
     "iopub.status.busy": "2022-03-14T18:00:08.751837Z",
     "iopub.status.idle": "2022-03-14T18:00:08.755789Z",
     "shell.execute_reply": "2022-03-14T18:00:08.756300Z",
     "shell.execute_reply.started": "2022-03-14T17:53:55.306127Z"
    },
    "papermill": {
     "duration": 0.053803,
     "end_time": "2022-03-14T18:00:08.756483",
     "exception": false,
     "start_time": "2022-03-14T18:00:08.702680",
     "status": "completed"
    },
    "tags": []
   },
   "outputs": [
    {
     "data": {
      "text/html": [
       "<div>\n",
       "<style scoped>\n",
       "    .dataframe tbody tr th:only-of-type {\n",
       "        vertical-align: middle;\n",
       "    }\n",
       "\n",
       "    .dataframe tbody tr th {\n",
       "        vertical-align: top;\n",
       "    }\n",
       "\n",
       "    .dataframe thead th {\n",
       "        text-align: right;\n",
       "    }\n",
       "</style>\n",
       "<table border=\"1\" class=\"dataframe\">\n",
       "  <thead>\n",
       "    <tr style=\"text-align: right;\">\n",
       "      <th></th>\n",
       "      <th>id</th>\n",
       "      <th>fiyat</th>\n",
       "      <th>oda_salon_sayisi</th>\n",
       "      <th>net_m2</th>\n",
       "      <th>bina_yasi</th>\n",
       "      <th>isinma_tipi</th>\n",
       "      <th>krediye_uygunluk</th>\n",
       "      <th>bulundugu_kat</th>\n",
       "      <th>banyo_sayisi</th>\n",
       "      <th>ilce</th>\n",
       "      <th>nüfus</th>\n",
       "      <th>eğitim</th>\n",
       "      <th>okuma_yazma_bilmeyen</th>\n",
       "    </tr>\n",
       "  </thead>\n",
       "  <tbody>\n",
       "    <tr>\n",
       "      <th>0</th>\n",
       "      <td>2612</td>\n",
       "      <td>275000</td>\n",
       "      <td>4.0</td>\n",
       "      <td>120.0</td>\n",
       "      <td>12.0</td>\n",
       "      <td>Kombi</td>\n",
       "      <td>Uygun</td>\n",
       "      <td>Kot 1</td>\n",
       "      <td>1.0</td>\n",
       "      <td>Çankaya</td>\n",
       "      <td>925828.0</td>\n",
       "      <td>Lisans</td>\n",
       "      <td>0,7</td>\n",
       "    </tr>\n",
       "    <tr>\n",
       "      <th>1</th>\n",
       "      <td>4819</td>\n",
       "      <td>700000</td>\n",
       "      <td>3.0</td>\n",
       "      <td>88.0</td>\n",
       "      <td>0.0</td>\n",
       "      <td>Merkezi(PayÖlçer)</td>\n",
       "      <td>Uygun</td>\n",
       "      <td>1. Kat</td>\n",
       "      <td>1.0</td>\n",
       "      <td>Çankaya</td>\n",
       "      <td>925828.0</td>\n",
       "      <td>Lisans</td>\n",
       "      <td>0,7</td>\n",
       "    </tr>\n",
       "    <tr>\n",
       "      <th>2</th>\n",
       "      <td>149</td>\n",
       "      <td>980000</td>\n",
       "      <td>5.0</td>\n",
       "      <td>230.0</td>\n",
       "      <td>30.0</td>\n",
       "      <td>Kombi</td>\n",
       "      <td>Uygun</td>\n",
       "      <td>3. Kat</td>\n",
       "      <td>2.0</td>\n",
       "      <td>Çankaya</td>\n",
       "      <td>925828.0</td>\n",
       "      <td>liSans</td>\n",
       "      <td>0,7</td>\n",
       "    </tr>\n",
       "    <tr>\n",
       "      <th>3</th>\n",
       "      <td>3628</td>\n",
       "      <td>385000</td>\n",
       "      <td>4.0</td>\n",
       "      <td>120.0</td>\n",
       "      <td>22.0</td>\n",
       "      <td>Kombi</td>\n",
       "      <td>Uygun</td>\n",
       "      <td>2. Kat</td>\n",
       "      <td>1.0</td>\n",
       "      <td>Keçiören</td>\n",
       "      <td>938565.0</td>\n",
       "      <td>Lise</td>\n",
       "      <td>1,43</td>\n",
       "    </tr>\n",
       "    <tr>\n",
       "      <th>4</th>\n",
       "      <td>3936</td>\n",
       "      <td>700000</td>\n",
       "      <td>5.0</td>\n",
       "      <td>150.0</td>\n",
       "      <td>0.0</td>\n",
       "      <td>Kombi</td>\n",
       "      <td>Uygun</td>\n",
       "      <td>Ara Kat</td>\n",
       "      <td>2.0</td>\n",
       "      <td>Çankaya</td>\n",
       "      <td>925828.0</td>\n",
       "      <td>Lisans</td>\n",
       "      <td>0,7</td>\n",
       "    </tr>\n",
       "  </tbody>\n",
       "</table>\n",
       "</div>"
      ],
      "text/plain": [
       "     id   fiyat  oda_salon_sayisi  net_m2  bina_yasi        isinma_tipi  \\\n",
       "0  2612  275000               4.0   120.0       12.0              Kombi   \n",
       "1  4819  700000               3.0    88.0        0.0  Merkezi(PayÖlçer)   \n",
       "2   149  980000               5.0   230.0       30.0              Kombi   \n",
       "3  3628  385000               4.0   120.0       22.0              Kombi   \n",
       "4  3936  700000               5.0   150.0        0.0              Kombi   \n",
       "\n",
       "  krediye_uygunluk bulundugu_kat  banyo_sayisi      ilce     nüfus  eğitim  \\\n",
       "0            Uygun         Kot 1           1.0   Çankaya  925828.0  Lisans   \n",
       "1            Uygun        1. Kat           1.0   Çankaya  925828.0  Lisans   \n",
       "2            Uygun        3. Kat           2.0   Çankaya  925828.0  liSans   \n",
       "3            Uygun        2. Kat           1.0  Keçiören  938565.0    Lise   \n",
       "4            Uygun       Ara Kat           2.0   Çankaya  925828.0  Lisans   \n",
       "\n",
       "  okuma_yazma_bilmeyen  \n",
       "0                  0,7  \n",
       "1                  0,7  \n",
       "2                  0,7  \n",
       "3                 1,43  \n",
       "4                  0,7  "
      ]
     },
     "execution_count": 4,
     "metadata": {},
     "output_type": "execute_result"
    }
   ],
   "source": [
    "df = df.drop(labels=[\"id\"], axis=1)\n",
    "column_ls = list(df.columns)\n",
    "column_ls\n",
    "column_ls[0] = \"id\"\n",
    "df.columns = column_ls\n",
    "df.head()"
   ]
  },
  {
   "cell_type": "markdown",
   "id": "4234c40d",
   "metadata": {
    "papermill": {
     "duration": 0.028077,
     "end_time": "2022-03-14T18:00:08.813030",
     "exception": false,
     "start_time": "2022-03-14T18:00:08.784953",
     "status": "completed"
    },
    "tags": []
   },
   "source": [
    "##### There are duplicated ids. Some of them are more informative, i.e. includes more knowledge. So I will drop the less informative ones. For more clarity, look at the following cell."
   ]
  },
  {
   "cell_type": "code",
   "execution_count": 5,
   "id": "7c201fcb",
   "metadata": {
    "execution": {
     "iopub.execute_input": "2022-03-14T18:00:08.872714Z",
     "iopub.status.busy": "2022-03-14T18:00:08.872085Z",
     "iopub.status.idle": "2022-03-14T18:00:08.879146Z",
     "shell.execute_reply": "2022-03-14T18:00:08.879631Z",
     "shell.execute_reply.started": "2022-03-14T17:53:55.334755Z"
    },
    "papermill": {
     "duration": 0.038536,
     "end_time": "2022-03-14T18:00:08.879801",
     "exception": false,
     "start_time": "2022-03-14T18:00:08.841265",
     "status": "completed"
    },
    "tags": []
   },
   "outputs": [
    {
     "data": {
      "text/plain": [
       "396     2\n",
       "2603    2\n",
       "2671    2\n",
       "4815    2\n",
       "3977    2\n",
       "       ..\n",
       "2854    1\n",
       "425     1\n",
       "4693    1\n",
       "543     1\n",
       "762     1\n",
       "Name: id, Length: 3965, dtype: int64"
      ]
     },
     "execution_count": 5,
     "metadata": {},
     "output_type": "execute_result"
    }
   ],
   "source": [
    "df[\"id\"].value_counts()"
   ]
  },
  {
   "cell_type": "markdown",
   "id": "6bc2a1d3",
   "metadata": {
    "papermill": {
     "duration": 0.02824,
     "end_time": "2022-03-14T18:00:08.937515",
     "exception": false,
     "start_time": "2022-03-14T18:00:08.909275",
     "status": "completed"
    },
    "tags": []
   },
   "source": [
    "##### For example, the second one includes a nan values whereas the first one doesn't. So it would be better to drop the second row. "
   ]
  },
  {
   "cell_type": "code",
   "execution_count": 6,
   "id": "dec0e71c",
   "metadata": {
    "execution": {
     "iopub.execute_input": "2022-03-14T18:00:08.999456Z",
     "iopub.status.busy": "2022-03-14T18:00:08.998840Z",
     "iopub.status.idle": "2022-03-14T18:00:09.015369Z",
     "shell.execute_reply": "2022-03-14T18:00:09.015835Z",
     "shell.execute_reply.started": "2022-03-14T17:53:55.348158Z"
    },
    "papermill": {
     "duration": 0.048125,
     "end_time": "2022-03-14T18:00:09.016020",
     "exception": false,
     "start_time": "2022-03-14T18:00:08.967895",
     "status": "completed"
    },
    "tags": []
   },
   "outputs": [
    {
     "data": {
      "text/html": [
       "<div>\n",
       "<style scoped>\n",
       "    .dataframe tbody tr th:only-of-type {\n",
       "        vertical-align: middle;\n",
       "    }\n",
       "\n",
       "    .dataframe tbody tr th {\n",
       "        vertical-align: top;\n",
       "    }\n",
       "\n",
       "    .dataframe thead th {\n",
       "        text-align: right;\n",
       "    }\n",
       "</style>\n",
       "<table border=\"1\" class=\"dataframe\">\n",
       "  <thead>\n",
       "    <tr style=\"text-align: right;\">\n",
       "      <th></th>\n",
       "      <th>id</th>\n",
       "      <th>fiyat</th>\n",
       "      <th>oda_salon_sayisi</th>\n",
       "      <th>net_m2</th>\n",
       "      <th>bina_yasi</th>\n",
       "      <th>isinma_tipi</th>\n",
       "      <th>krediye_uygunluk</th>\n",
       "      <th>bulundugu_kat</th>\n",
       "      <th>banyo_sayisi</th>\n",
       "      <th>ilce</th>\n",
       "      <th>nüfus</th>\n",
       "      <th>eğitim</th>\n",
       "      <th>okuma_yazma_bilmeyen</th>\n",
       "    </tr>\n",
       "  </thead>\n",
       "  <tbody>\n",
       "    <tr>\n",
       "      <th>847</th>\n",
       "      <td>2603</td>\n",
       "      <td>595000</td>\n",
       "      <td>4.0</td>\n",
       "      <td>98.0</td>\n",
       "      <td>24.0</td>\n",
       "      <td>Merkezi</td>\n",
       "      <td>Uygun</td>\n",
       "      <td>4. Kat</td>\n",
       "      <td>1.0</td>\n",
       "      <td>Keçiören</td>\n",
       "      <td>938565.0</td>\n",
       "      <td>Lise</td>\n",
       "      <td>1,43</td>\n",
       "    </tr>\n",
       "    <tr>\n",
       "      <th>3634</th>\n",
       "      <td>2603</td>\n",
       "      <td>595000</td>\n",
       "      <td>4.0</td>\n",
       "      <td>NaN</td>\n",
       "      <td>24.0</td>\n",
       "      <td>Merkezi</td>\n",
       "      <td>Uygun</td>\n",
       "      <td>4. Kat</td>\n",
       "      <td>1.0</td>\n",
       "      <td>Keçiören</td>\n",
       "      <td>938565.0</td>\n",
       "      <td>Lise</td>\n",
       "      <td>1,43</td>\n",
       "    </tr>\n",
       "  </tbody>\n",
       "</table>\n",
       "</div>"
      ],
      "text/plain": [
       "        id   fiyat  oda_salon_sayisi  net_m2  bina_yasi isinma_tipi  \\\n",
       "847   2603  595000               4.0    98.0       24.0     Merkezi   \n",
       "3634  2603  595000               4.0     NaN       24.0     Merkezi   \n",
       "\n",
       "     krediye_uygunluk bulundugu_kat  banyo_sayisi      ilce     nüfus eğitim  \\\n",
       "847             Uygun        4. Kat           1.0  Keçiören  938565.0   Lise   \n",
       "3634            Uygun        4. Kat           1.0  Keçiören  938565.0   Lise   \n",
       "\n",
       "     okuma_yazma_bilmeyen  \n",
       "847                  1,43  \n",
       "3634                 1,43  "
      ]
     },
     "execution_count": 6,
     "metadata": {},
     "output_type": "execute_result"
    }
   ],
   "source": [
    "df[df[\"id\"] == 2603]"
   ]
  },
  {
   "cell_type": "markdown",
   "id": "d5802528",
   "metadata": {
    "papermill": {
     "duration": 0.02907,
     "end_time": "2022-03-14T18:00:09.075114",
     "exception": false,
     "start_time": "2022-03-14T18:00:09.046044",
     "status": "completed"
    },
    "tags": []
   },
   "source": [
    "##### Additionally, there can be bad formatting in fiyat column like the following. I will also fix this problem."
   ]
  },
  {
   "cell_type": "code",
   "execution_count": 7,
   "id": "9edea59a",
   "metadata": {
    "execution": {
     "iopub.execute_input": "2022-03-14T18:00:09.150347Z",
     "iopub.status.busy": "2022-03-14T18:00:09.139396Z",
     "iopub.status.idle": "2022-03-14T18:00:09.153119Z",
     "shell.execute_reply": "2022-03-14T18:00:09.153591Z",
     "shell.execute_reply.started": "2022-03-14T17:53:55.372426Z"
    },
    "papermill": {
     "duration": 0.049547,
     "end_time": "2022-03-14T18:00:09.153769",
     "exception": false,
     "start_time": "2022-03-14T18:00:09.104222",
     "status": "completed"
    },
    "tags": []
   },
   "outputs": [
    {
     "data": {
      "text/html": [
       "<div>\n",
       "<style scoped>\n",
       "    .dataframe tbody tr th:only-of-type {\n",
       "        vertical-align: middle;\n",
       "    }\n",
       "\n",
       "    .dataframe tbody tr th {\n",
       "        vertical-align: top;\n",
       "    }\n",
       "\n",
       "    .dataframe thead th {\n",
       "        text-align: right;\n",
       "    }\n",
       "</style>\n",
       "<table border=\"1\" class=\"dataframe\">\n",
       "  <thead>\n",
       "    <tr style=\"text-align: right;\">\n",
       "      <th></th>\n",
       "      <th>id</th>\n",
       "      <th>fiyat</th>\n",
       "      <th>oda_salon_sayisi</th>\n",
       "      <th>net_m2</th>\n",
       "      <th>bina_yasi</th>\n",
       "      <th>isinma_tipi</th>\n",
       "      <th>krediye_uygunluk</th>\n",
       "      <th>bulundugu_kat</th>\n",
       "      <th>banyo_sayisi</th>\n",
       "      <th>ilce</th>\n",
       "      <th>nüfus</th>\n",
       "      <th>eğitim</th>\n",
       "      <th>okuma_yazma_bilmeyen</th>\n",
       "    </tr>\n",
       "  </thead>\n",
       "  <tbody>\n",
       "    <tr>\n",
       "      <th>1491</th>\n",
       "      <td>3342</td>\n",
       "      <td>725000</td>\n",
       "      <td>2.0</td>\n",
       "      <td>62.0</td>\n",
       "      <td>1.0</td>\n",
       "      <td>Merkezi</td>\n",
       "      <td>Uygun</td>\n",
       "      <td>19. Kat</td>\n",
       "      <td>1.0</td>\n",
       "      <td>Çankaya</td>\n",
       "      <td>925828.0</td>\n",
       "      <td>Lisans</td>\n",
       "      <td>0,7</td>\n",
       "    </tr>\n",
       "    <tr>\n",
       "      <th>3949</th>\n",
       "      <td>3342</td>\n",
       "      <td>7,25E+05</td>\n",
       "      <td>2.0</td>\n",
       "      <td>62.0</td>\n",
       "      <td>1.0</td>\n",
       "      <td>Merkezi</td>\n",
       "      <td>Uygun</td>\n",
       "      <td>19. Kat</td>\n",
       "      <td>1.0</td>\n",
       "      <td>Çankaya</td>\n",
       "      <td>925828.0</td>\n",
       "      <td>Lisans</td>\n",
       "      <td>0,7</td>\n",
       "    </tr>\n",
       "  </tbody>\n",
       "</table>\n",
       "</div>"
      ],
      "text/plain": [
       "        id     fiyat  oda_salon_sayisi  net_m2  bina_yasi isinma_tipi  \\\n",
       "1491  3342    725000               2.0    62.0        1.0     Merkezi   \n",
       "3949  3342  7,25E+05               2.0    62.0        1.0     Merkezi   \n",
       "\n",
       "     krediye_uygunluk bulundugu_kat  banyo_sayisi     ilce     nüfus  eğitim  \\\n",
       "1491            Uygun       19. Kat           1.0  Çankaya  925828.0  Lisans   \n",
       "3949            Uygun       19. Kat           1.0  Çankaya  925828.0  Lisans   \n",
       "\n",
       "     okuma_yazma_bilmeyen  \n",
       "1491                  0,7  \n",
       "3949                  0,7  "
      ]
     },
     "execution_count": 7,
     "metadata": {},
     "output_type": "execute_result"
    }
   ],
   "source": [
    "df[df[\"id\"] == 3342]"
   ]
  },
  {
   "cell_type": "markdown",
   "id": "25523131",
   "metadata": {
    "papermill": {
     "duration": 0.030443,
     "end_time": "2022-03-14T18:00:09.214232",
     "exception": false,
     "start_time": "2022-03-14T18:00:09.183789",
     "status": "completed"
    },
    "tags": []
   },
   "source": [
    "##### The following ids are the duplicated id numbers. Let us investigate them."
   ]
  },
  {
   "cell_type": "code",
   "execution_count": 8,
   "id": "b48d50fe",
   "metadata": {
    "execution": {
     "iopub.execute_input": "2022-03-14T18:00:09.276259Z",
     "iopub.status.busy": "2022-03-14T18:00:09.275690Z",
     "iopub.status.idle": "2022-03-14T18:00:09.284573Z",
     "shell.execute_reply": "2022-03-14T18:00:09.285078Z",
     "shell.execute_reply.started": "2022-03-14T17:53:55.394868Z"
    },
    "papermill": {
     "duration": 0.041354,
     "end_time": "2022-03-14T18:00:09.285241",
     "exception": false,
     "start_time": "2022-03-14T18:00:09.243887",
     "status": "completed"
    },
    "tags": []
   },
   "outputs": [
    {
     "name": "stdout",
     "output_type": "stream",
     "text": [
      "[ 396 2603 2671 4815 3977 4773 4448 4229 2620 1385 3942 2606 3520 1011\n",
      " 1030 3199  404 3364 3543 2264  394  973 3538 4641  681 1746  769 2829\n",
      "  595 1469  142 4940 3923 2339 4950 1123  503 1845 3469 3018  285 3069\n",
      " 4832 4157 2634 3241 2568  741 1539 1642  351 1282 3956 2873 2221 4865\n",
      "  114 3441 3002 1953 2163 3231 2629  405 4433  261 1278 3618 2762 1594\n",
      " 1320 2102 3983 2246 1650 4533  138  866 4208 1592 4636 1668 1976 1023\n",
      " 3074 4676 1989 1589 2647 4755 2028  357 3757 2314 3395 4482  495  635\n",
      " 1804 1144 4699 4912  721 2430 4191 4283 3982 4490 1168  744 1528 3342\n",
      " 1791 1608 1446 1961  615 3948 1936 3980  999 2948 3407 4936  627 4218\n",
      " 3361 3946 1584  433   24 3076   35  316 3566  777 2311 4092 2995 4480\n",
      " 1154 1963  941 2982  938 2925 1163 2139 1987  470 4082 3006 4451 4309\n",
      " 3107 2267 1731 4665   19 4638 2331 3666 2642  154 2985 3711 1884 1702\n",
      " 2644 2684 2901 1172 4525 2990 3287  853  828 4894 3128 1505 4014 4926\n",
      "  224  655 3153  304 4241 3059 1942  667 4452 1684 1641  844 1739 3175\n",
      " 4314 2185 4023 4286 3874 4721  843 4051 3123 3166 4367  165 2137 4217\n",
      " 3984  500 4856 2926 3293 4192 2798 2002 2608 1482 1392  879 2529 4357\n",
      " 3535  117 4224 3972 1548   90  674 2125 3696 1960 3313 3936 1090  672\n",
      " 4598 2923 3758 2444 4010 2905 4794  174 4226  499    1 1644 2858 1244\n",
      " 3531 1178 2188 4297    8]\n"
     ]
    }
   ],
   "source": [
    "np.set_printoptions(threshold=np.inf)\n",
    "duplicated_ids = df[\"id\"].value_counts()[df[\"id\"].value_counts() != 1].index.values\n",
    "print(duplicated_ids)\n",
    "np.set_printoptions(threshold=5)"
   ]
  },
  {
   "cell_type": "code",
   "execution_count": 9,
   "id": "36284bde",
   "metadata": {
    "execution": {
     "iopub.execute_input": "2022-03-14T18:00:09.348230Z",
     "iopub.status.busy": "2022-03-14T18:00:09.347643Z",
     "iopub.status.idle": "2022-03-14T18:00:10.103917Z",
     "shell.execute_reply": "2022-03-14T18:00:10.102730Z",
     "shell.execute_reply.started": "2022-03-14T17:53:55.406320Z"
    },
    "papermill": {
     "duration": 0.78908,
     "end_time": "2022-03-14T18:00:10.104129",
     "exception": false,
     "start_time": "2022-03-14T18:00:09.315049",
     "status": "completed"
    },
    "tags": []
   },
   "outputs": [
    {
     "name": "stdout",
     "output_type": "stream",
     "text": [
      "2603\n",
      "4773\n",
      "4448\n",
      "3520\n",
      "1011\n",
      "404\n",
      "142\n",
      "1642\n",
      "1282\n",
      "2221\n",
      "114\n",
      "357\n",
      "4482\n",
      "3982\n",
      "1528\n",
      "3342\n",
      "2311\n",
      "2139\n",
      "4451\n",
      "4309\n",
      "828\n",
      "4926\n",
      "224\n",
      "4314\n",
      "4217\n",
      "3293\n",
      "1482\n"
     ]
    }
   ],
   "source": [
    "# The following ids are the duplicated ids and one of them includes nan values.\n",
    "# or one of them includes bad formatting like 9,50E+05 instead of 950000.\n",
    "def duplicated_id_printer():\n",
    "    for i in duplicated_ids:\n",
    "        sub_df = df[df[\"id\"] == i].drop_duplicates()\n",
    "        if len(sub_df) == 2:\n",
    "            # if len == 2 then they are not identical. if len == 1, they were identical, but one of them is dropped with .drop_duplicates() method.\n",
    "            # So the non-identical ones is printed. Note that their ids are identical.\n",
    "            print(i)\n",
    "duplicated_id_printer()"
   ]
  },
  {
   "cell_type": "markdown",
   "id": "b40c79fa",
   "metadata": {
    "papermill": {
     "duration": 0.032433,
     "end_time": "2022-03-14T18:00:10.168819",
     "exception": false,
     "start_time": "2022-03-14T18:00:10.136386",
     "status": "completed"
    },
    "tags": []
   },
   "source": [
    "##### The bad formatted rows in fiyat column are fixed an the data type is changed to float64."
   ]
  },
  {
   "cell_type": "code",
   "execution_count": 10,
   "id": "5cff8433",
   "metadata": {
    "execution": {
     "iopub.execute_input": "2022-03-14T18:00:10.236390Z",
     "iopub.status.busy": "2022-03-14T18:00:10.235427Z",
     "iopub.status.idle": "2022-03-14T18:00:10.254719Z",
     "shell.execute_reply": "2022-03-14T18:00:10.255223Z",
     "shell.execute_reply.started": "2022-03-14T17:53:56.187155Z"
    },
    "papermill": {
     "duration": 0.054393,
     "end_time": "2022-03-14T18:00:10.255388",
     "exception": false,
     "start_time": "2022-03-14T18:00:10.200995",
     "status": "completed"
    },
    "tags": []
   },
   "outputs": [],
   "source": [
    "# So, now I will fix the data type and format of the \"fiyat\" column.\n",
    "# fiyat column is change to float64 from object.\n",
    "df[\"fiyat\"] = df[\"fiyat\"].replace(to_replace=\",\", value=\".\", regex=True).astype(\"float64\")\n",
    "df[\"okuma_yazma_bilmeyen\"] = df[\"okuma_yazma_bilmeyen\"].replace(to_replace=\",\", value=\".\", regex=True).astype(\"float64\")"
   ]
  },
  {
   "cell_type": "markdown",
   "id": "aa843f84",
   "metadata": {
    "papermill": {
     "duration": 0.032974,
     "end_time": "2022-03-14T18:00:10.320026",
     "exception": false,
     "start_time": "2022-03-14T18:00:10.287052",
     "status": "completed"
    },
    "tags": []
   },
   "source": [
    "##### Manually, nan-included duplicated rows are dropped, and the other meaningful row is preserved."
   ]
  },
  {
   "cell_type": "code",
   "execution_count": 11,
   "id": "f55d329e",
   "metadata": {
    "execution": {
     "iopub.execute_input": "2022-03-14T18:00:10.387294Z",
     "iopub.status.busy": "2022-03-14T18:00:10.386389Z",
     "iopub.status.idle": "2022-03-14T18:00:11.079705Z",
     "shell.execute_reply": "2022-03-14T18:00:11.080210Z",
     "shell.execute_reply.started": "2022-03-14T17:53:56.216295Z"
    },
    "papermill": {
     "duration": 0.729155,
     "end_time": "2022-03-14T18:00:11.080376",
     "exception": false,
     "start_time": "2022-03-14T18:00:10.351221",
     "status": "completed"
    },
    "tags": []
   },
   "outputs": [
    {
     "name": "stdout",
     "output_type": "stream",
     "text": [
      "These are the ids including nan values of duplicated rows.\n",
      "2603\n",
      "4773\n",
      "4448\n",
      "3520\n",
      "357\n",
      "828\n",
      "224\n",
      "\n",
      "These are the indexes including nan values of duplicated rows.\n",
      "3634\n",
      "2161\n",
      "1813\n",
      "4204\n",
      "2589\n",
      "1457\n",
      "3633\n"
     ]
    }
   ],
   "source": [
    "print(\"These are the ids including nan values of duplicated rows.\")\n",
    "duplicated_id_printer()\n",
    "print(\"\\nThese are the indexes including nan values of duplicated rows.\")\n",
    "\n",
    "# let us drop these them.\n",
    "for i in [2603, 4773, 4448, 3520, 357, 828, 224]:\n",
    "    temp_s = pd.isnull(df[df[\"id\"] == i]).sum(axis=1)\n",
    "    the_index = temp_s[temp_s == 1].index.values[0]\n",
    "    print(the_index)\n",
    "    df.drop(the_index, inplace=True)"
   ]
  },
  {
   "cell_type": "markdown",
   "id": "bcb722d0",
   "metadata": {
    "papermill": {
     "duration": 0.032015,
     "end_time": "2022-03-14T18:00:11.145635",
     "exception": false,
     "start_time": "2022-03-14T18:00:11.113620",
     "status": "completed"
    },
    "tags": []
   },
   "source": [
    "##### Every distinct has a unique education level. So we can fill some of the nan values(nüfus, eğitim) by using the distinct names. But to do this properly, I have to fix some formatting problem in \"ilce\" and \"eğitim\" columns."
   ]
  },
  {
   "cell_type": "code",
   "execution_count": 12,
   "id": "9e7a16eb",
   "metadata": {
    "execution": {
     "iopub.execute_input": "2022-03-14T18:00:11.222643Z",
     "iopub.status.busy": "2022-03-14T18:00:11.218054Z",
     "iopub.status.idle": "2022-03-14T18:00:11.277167Z",
     "shell.execute_reply": "2022-03-14T18:00:11.276668Z",
     "shell.execute_reply.started": "2022-03-14T17:53:56.942634Z"
    },
    "papermill": {
     "duration": 0.099531,
     "end_time": "2022-03-14T18:00:11.277307",
     "exception": false,
     "start_time": "2022-03-14T18:00:11.177776",
     "status": "completed"
    },
    "tags": []
   },
   "outputs": [
    {
     "name": "stdout",
     "output_type": "stream",
     "text": [
      "Before formatting 'eğitim' and 'nüfus' column\n",
      "Çankaya: liSans, Lisans\n",
      "Keçiören: liS3, Lise\n",
      "Sincan: liS3, Lise\n",
      "Mamak: Lise\n",
      "cankaya: Lisans\n",
      "nan: \n",
      "------------\n",
      "Çankaya: 925828.0\n",
      "Keçiören: 938565.0\n",
      "Sincan: 549108.0\n",
      "Mamak: 669465.0\n",
      "cankaya: 925828.0\n",
      "nan: \n",
      "###########\n",
      "After formatting 'eğitim' and 'nüfus' column\n",
      "çankaya: lisans\n",
      "keçiören: lise\n",
      "sincan: lise\n",
      "mamak: lise\n",
      "nan: \n",
      "------------\n",
      "çankaya: 925828.0\n",
      "keçiören: 938565.0\n",
      "sincan: 549108.0\n",
      "mamak: 669465.0\n",
      "nan: \n",
      "------------\n",
      "The illeteracy rate\n",
      "çankaya: 0.7, 0.0\n",
      "keçiören: 0.0, 1.43\n",
      "sincan: 0.0, 1.44\n",
      "mamak: 1.9\n",
      "nan: \n"
     ]
    }
   ],
   "source": [
    "print(\"Before formatting 'eğitim' and 'nüfus' column\")\n",
    "for i in df[\"ilce\"].unique():\n",
    "    print(str(i)+\":\", \", \".join( str(i) for i in list(set(df[df[\"ilce\"] == i][\"eğitim\"])) if not pd.isnull(i)))\n",
    "print(\"------------\")\n",
    "for i in df[\"ilce\"].unique():\n",
    "    print(str(i)+\":\", \", \".join( str(i) for i in list(set(df[df[\"ilce\"] == i][\"nüfus\"])) if not pd.isnull(i)))\n",
    "\n",
    "# cankaya becomes çankaya in the following series and ilce column data type is maden category.\n",
    "df[\"ilce\"] = df[\"ilce\"].str.lower().replace(\"(c)ank\", \"çank\", regex=True).astype(\"category\")\n",
    "# lis3 becomees lise in eğitim column.\n",
    "df[\"eğitim\"] = df[\"eğitim\"].str.lower().replace(\"lis3\", \"lise\").astype(\"category\")\n",
    "\n",
    "print(\"###########\")\n",
    "\n",
    "print(\"After formatting 'eğitim' and 'nüfus' column\")\n",
    "for i in df[\"ilce\"].unique():\n",
    "    print(str(i)+\":\", \", \".join( str(i) for i in list(set(df[df[\"ilce\"] == i][\"eğitim\"])) if not pd.isnull(i)))\n",
    "print(\"------------\")\n",
    "for i in df[\"ilce\"].unique():\n",
    "    print(str(i)+\":\", \", \".join( str(i) for i in list(set(df[df[\"ilce\"] == i][\"nüfus\"])) if not pd.isnull(i)))\n",
    "\n",
    "print(\"------------\")\n",
    "print(\"The illeteracy rate\")\n",
    "for i in df[\"ilce\"].unique():\n",
    "    print(str(i)+\":\", \", \".join( str(i) for i in list(set(df[df[\"ilce\"] == i][\"okuma_yazma_bilmeyen\"])) if not pd.isnull(i)))"
   ]
  },
  {
   "cell_type": "code",
   "execution_count": 13,
   "id": "92e365c3",
   "metadata": {
    "execution": {
     "iopub.execute_input": "2022-03-14T18:00:11.352367Z",
     "iopub.status.busy": "2022-03-14T18:00:11.351745Z",
     "iopub.status.idle": "2022-03-14T18:00:12.179499Z",
     "shell.execute_reply": "2022-03-14T18:00:12.178932Z",
     "shell.execute_reply.started": "2022-03-14T17:53:57.027925Z"
    },
    "papermill": {
     "duration": 0.869016,
     "end_time": "2022-03-14T18:00:12.179638",
     "exception": false,
     "start_time": "2022-03-14T18:00:11.310622",
     "status": "completed"
    },
    "tags": []
   },
   "outputs": [],
   "source": [
    "# Nan values of \"nüfus\" and \"eğitim\", \"ilce\" and \"okuma_yazma_bilmeyen\" columns are filled.\n",
    "\n",
    "educ_dict = {\"çankaya\": \"lisans\", \"keçiören\": \"lise\", \"sincan\": \"lise\", \"mamak\": \"lise\"}\n",
    "cons_dict = {\"çankaya\": 925828.0, \"keçiören\": 938565.0, \"sincan\": 549108.0, \"mamak\": 669465.0}\n",
    "cons2_dict = {925828.0: 'çankaya', 938565.0: 'keçiören', 549108.0: 'sincan', 669465.0: 'mamak'}\n",
    "\n",
    "\n",
    "def nan_filler(row, target_col_name, base_col_name, d):\n",
    "    \"\"\"This function is used to fill nan values of target_col_name column based on base_col_name column.\"\"\"\n",
    "    if pd.isnull(row[target_col_name]):\n",
    "        row[target_col_name] = d[row[base_col_name]]\n",
    "    return row\n",
    "\n",
    "df = df.apply(func=nan_filler, args=(\"nüfus\", \"ilce\", cons_dict) ,axis=1)\n",
    "df = df.apply(func=nan_filler, args=(\"eğitim\", \"ilce\", educ_dict) ,axis=1)\n",
    "df = df.apply(func=nan_filler, args=(\"ilce\", \"nüfus\", cons2_dict) ,axis=1)"
   ]
  },
  {
   "cell_type": "markdown",
   "id": "292902d9",
   "metadata": {
    "papermill": {
     "duration": 0.033037,
     "end_time": "2022-03-14T18:00:12.246208",
     "exception": false,
     "start_time": "2022-03-14T18:00:12.213171",
     "status": "completed"
    },
    "tags": []
   },
   "source": [
    "##### I also fill the nan and zero values of \"okuma_yazma_bilmeyen\" column because the illeteracy rate of a specific distict should be same but these are filled with 0 instead of the correct values."
   ]
  },
  {
   "cell_type": "code",
   "execution_count": 14,
   "id": "7d82b99e",
   "metadata": {
    "execution": {
     "iopub.execute_input": "2022-03-14T18:00:12.318263Z",
     "iopub.status.busy": "2022-03-14T18:00:12.317594Z",
     "iopub.status.idle": "2022-03-14T18:00:12.644986Z",
     "shell.execute_reply": "2022-03-14T18:00:12.644491Z",
     "shell.execute_reply.started": "2022-03-14T17:53:58.204999Z"
    },
    "papermill": {
     "duration": 0.365821,
     "end_time": "2022-03-14T18:00:12.645125",
     "exception": false,
     "start_time": "2022-03-14T18:00:12.279304",
     "status": "completed"
    },
    "tags": []
   },
   "outputs": [
    {
     "data": {
      "text/html": [
       "<div>\n",
       "<style scoped>\n",
       "    .dataframe tbody tr th:only-of-type {\n",
       "        vertical-align: middle;\n",
       "    }\n",
       "\n",
       "    .dataframe tbody tr th {\n",
       "        vertical-align: top;\n",
       "    }\n",
       "\n",
       "    .dataframe thead th {\n",
       "        text-align: right;\n",
       "    }\n",
       "</style>\n",
       "<table border=\"1\" class=\"dataframe\">\n",
       "  <thead>\n",
       "    <tr style=\"text-align: right;\">\n",
       "      <th></th>\n",
       "      <th>id</th>\n",
       "      <th>fiyat</th>\n",
       "      <th>oda_salon_sayisi</th>\n",
       "      <th>net_m2</th>\n",
       "      <th>bina_yasi</th>\n",
       "      <th>isinma_tipi</th>\n",
       "      <th>krediye_uygunluk</th>\n",
       "      <th>bulundugu_kat</th>\n",
       "      <th>banyo_sayisi</th>\n",
       "      <th>ilce</th>\n",
       "      <th>nüfus</th>\n",
       "      <th>eğitim</th>\n",
       "      <th>okuma_yazma_bilmeyen</th>\n",
       "    </tr>\n",
       "  </thead>\n",
       "  <tbody>\n",
       "    <tr>\n",
       "      <th>25</th>\n",
       "      <td>4898</td>\n",
       "      <td>4250000.0</td>\n",
       "      <td>5.0</td>\n",
       "      <td>280.0</td>\n",
       "      <td>30.0</td>\n",
       "      <td>Merkezi</td>\n",
       "      <td>Uygun</td>\n",
       "      <td>4. Kat</td>\n",
       "      <td>4.0</td>\n",
       "      <td>keçiören</td>\n",
       "      <td>938565.0</td>\n",
       "      <td>lise</td>\n",
       "      <td>0.0</td>\n",
       "    </tr>\n",
       "    <tr>\n",
       "      <th>409</th>\n",
       "      <td>2389</td>\n",
       "      <td>780000.0</td>\n",
       "      <td>4.0</td>\n",
       "      <td>90.0</td>\n",
       "      <td>5.0</td>\n",
       "      <td>Kombi</td>\n",
       "      <td>Uygun</td>\n",
       "      <td>Yüksek Giriş</td>\n",
       "      <td>1.0</td>\n",
       "      <td>keçiören</td>\n",
       "      <td>938565.0</td>\n",
       "      <td>lise</td>\n",
       "      <td>0.0</td>\n",
       "    </tr>\n",
       "    <tr>\n",
       "      <th>503</th>\n",
       "      <td>3591</td>\n",
       "      <td>575000.0</td>\n",
       "      <td>5.0</td>\n",
       "      <td>155.0</td>\n",
       "      <td>14.0</td>\n",
       "      <td>Kombi</td>\n",
       "      <td>Uygun</td>\n",
       "      <td>3. Kat</td>\n",
       "      <td>2.0</td>\n",
       "      <td>çankaya</td>\n",
       "      <td>925828.0</td>\n",
       "      <td>lisans</td>\n",
       "      <td>0.0</td>\n",
       "    </tr>\n",
       "    <tr>\n",
       "      <th>587</th>\n",
       "      <td>3319</td>\n",
       "      <td>260000.0</td>\n",
       "      <td>4.0</td>\n",
       "      <td>110.0</td>\n",
       "      <td>27.0</td>\n",
       "      <td>Kombi</td>\n",
       "      <td>Uygun</td>\n",
       "      <td>Kot 1</td>\n",
       "      <td>1.0</td>\n",
       "      <td>keçiören</td>\n",
       "      <td>938565.0</td>\n",
       "      <td>lise</td>\n",
       "      <td>0.0</td>\n",
       "    </tr>\n",
       "    <tr>\n",
       "      <th>604</th>\n",
       "      <td>3454</td>\n",
       "      <td>695000.0</td>\n",
       "      <td>7.0</td>\n",
       "      <td>NaN</td>\n",
       "      <td>25.0</td>\n",
       "      <td>Kombi</td>\n",
       "      <td>Uygun</td>\n",
       "      <td>3. Kat</td>\n",
       "      <td>2.0</td>\n",
       "      <td>çankaya</td>\n",
       "      <td>925828.0</td>\n",
       "      <td>lisans</td>\n",
       "      <td>0.0</td>\n",
       "    </tr>\n",
       "  </tbody>\n",
       "</table>\n",
       "</div>"
      ],
      "text/plain": [
       "       id      fiyat  oda_salon_sayisi  net_m2  bina_yasi isinma_tipi  \\\n",
       "25   4898  4250000.0               5.0   280.0       30.0     Merkezi   \n",
       "409  2389   780000.0               4.0    90.0        5.0       Kombi   \n",
       "503  3591   575000.0               5.0   155.0       14.0       Kombi   \n",
       "587  3319   260000.0               4.0   110.0       27.0       Kombi   \n",
       "604  3454   695000.0               7.0     NaN       25.0       Kombi   \n",
       "\n",
       "    krediye_uygunluk bulundugu_kat  banyo_sayisi      ilce     nüfus  eğitim  \\\n",
       "25             Uygun        4. Kat           4.0  keçiören  938565.0    lise   \n",
       "409            Uygun  Yüksek Giriş           1.0  keçiören  938565.0    lise   \n",
       "503            Uygun        3. Kat           2.0   çankaya  925828.0  lisans   \n",
       "587            Uygun         Kot 1           1.0  keçiören  938565.0    lise   \n",
       "604            Uygun        3. Kat           2.0   çankaya  925828.0  lisans   \n",
       "\n",
       "     okuma_yazma_bilmeyen  \n",
       "25                    0.0  \n",
       "409                   0.0  \n",
       "503                   0.0  \n",
       "587                   0.0  \n",
       "604                   0.0  "
      ]
     },
     "execution_count": 14,
     "metadata": {},
     "output_type": "execute_result"
    }
   ],
   "source": [
    "illetracy_dict = {\"çankaya\": 0.70, \"keçiören\": 1.43, \"sincan\": 1.44, \"mamak\": 1.90}\n",
    "\n",
    "# First let us fill the nan values in \"okuma_yazma_bilmeyen\" column\n",
    "df = df.apply(func=nan_filler, args=(\"okuma_yazma_bilmeyen\", \"ilce\", illetracy_dict), axis=1)\n",
    "\n",
    "# Then let us continue with zeros. \n",
    "df[df[\"okuma_yazma_bilmeyen\"] == 0].head()"
   ]
  },
  {
   "cell_type": "code",
   "execution_count": 15,
   "id": "7e254a98",
   "metadata": {
    "execution": {
     "iopub.execute_input": "2022-03-14T18:00:12.724061Z",
     "iopub.status.busy": "2022-03-14T18:00:12.717711Z",
     "iopub.status.idle": "2022-03-14T18:00:13.036716Z",
     "shell.execute_reply": "2022-03-14T18:00:13.036069Z",
     "shell.execute_reply.started": "2022-03-14T17:53:58.670802Z"
    },
    "papermill": {
     "duration": 0.357983,
     "end_time": "2022-03-14T18:00:13.036851",
     "exception": false,
     "start_time": "2022-03-14T18:00:12.678868",
     "status": "completed"
    },
    "tags": []
   },
   "outputs": [],
   "source": [
    "def zero_filler(row, target_col_name, base_col_name, d):\n",
    "    if row[target_col_name] == 0:\n",
    "        row[target_col_name] = d[row[base_col_name]]\n",
    "    return row\n",
    "df = df.apply(func=zero_filler, args=(\"okuma_yazma_bilmeyen\", \"ilce\", illetracy_dict), axis=1)"
   ]
  },
  {
   "cell_type": "markdown",
   "id": "c8563f74",
   "metadata": {
    "papermill": {
     "duration": 0.033384,
     "end_time": "2022-03-14T18:00:13.104651",
     "exception": false,
     "start_time": "2022-03-14T18:00:13.071267",
     "status": "completed"
    },
    "tags": []
   },
   "source": [
    "##### From now on, I drop nan values and duplicates."
   ]
  },
  {
   "cell_type": "code",
   "execution_count": 16,
   "id": "432d1c83",
   "metadata": {
    "execution": {
     "iopub.execute_input": "2022-03-14T18:00:13.177888Z",
     "iopub.status.busy": "2022-03-14T18:00:13.177232Z",
     "iopub.status.idle": "2022-03-14T18:00:13.189827Z",
     "shell.execute_reply": "2022-03-14T18:00:13.189296Z",
     "shell.execute_reply.started": "2022-03-14T17:53:59.100552Z"
    },
    "papermill": {
     "duration": 0.050621,
     "end_time": "2022-03-14T18:00:13.189959",
     "exception": false,
     "start_time": "2022-03-14T18:00:13.139338",
     "status": "completed"
    },
    "tags": []
   },
   "outputs": [],
   "source": [
    "df = df.drop_duplicates()\n",
    "df = df.dropna()"
   ]
  },
  {
   "cell_type": "markdown",
   "id": "f27bb2b9",
   "metadata": {
    "papermill": {
     "duration": 0.033709,
     "end_time": "2022-03-14T18:00:13.257679",
     "exception": false,
     "start_time": "2022-03-14T18:00:13.223970",
     "status": "completed"
    },
    "tags": []
   },
   "source": [
    "##### Some of the values in \"net_m2\" column are too small for a house and even some of them have negative values. So I drop the houses whose are is less than 5 meter square, which is just an arbitrary small number."
   ]
  },
  {
   "cell_type": "code",
   "execution_count": 17,
   "id": "f86f8e65",
   "metadata": {
    "execution": {
     "iopub.execute_input": "2022-03-14T18:00:13.331679Z",
     "iopub.status.busy": "2022-03-14T18:00:13.331017Z",
     "iopub.status.idle": "2022-03-14T18:00:13.334716Z",
     "shell.execute_reply": "2022-03-14T18:00:13.334225Z",
     "shell.execute_reply.started": "2022-03-14T17:53:59.120356Z"
    },
    "papermill": {
     "duration": 0.042677,
     "end_time": "2022-03-14T18:00:13.334852",
     "exception": false,
     "start_time": "2022-03-14T18:00:13.292175",
     "status": "completed"
    },
    "tags": []
   },
   "outputs": [],
   "source": [
    "df = df.drop(df[df[\"net_m2\"] <= 5].index)"
   ]
  },
  {
   "cell_type": "markdown",
   "id": "63944153",
   "metadata": {
    "papermill": {
     "duration": 0.03375,
     "end_time": "2022-03-14T18:00:13.403397",
     "exception": false,
     "start_time": "2022-03-14T18:00:13.369647",
     "status": "completed"
    },
    "tags": []
   },
   "source": [
    "### <b style=\"color:blue\">SORU 2: Verilen veri seti üzerinden iki tane sayısal veri belirleyin ve bu değişkenler arasındaki ilişkiyi inceleyin. İncelerken kullandığınız yöntemleri ve yorumları açıklayın. </b>"
   ]
  },
  {
   "cell_type": "code",
   "execution_count": 18,
   "id": "3610e4bf",
   "metadata": {
    "execution": {
     "iopub.execute_input": "2022-03-14T18:00:13.482341Z",
     "iopub.status.busy": "2022-03-14T18:00:13.481413Z",
     "iopub.status.idle": "2022-03-14T18:00:14.214911Z",
     "shell.execute_reply": "2022-03-14T18:00:14.215351Z",
     "shell.execute_reply.started": "2022-03-14T17:53:59.128956Z"
    },
    "papermill": {
     "duration": 0.778528,
     "end_time": "2022-03-14T18:00:14.215529",
     "exception": false,
     "start_time": "2022-03-14T18:00:13.437001",
     "status": "completed"
    },
    "tags": []
   },
   "outputs": [
    {
     "data": {
      "image/png": "[encoded data removed]",
      "text/plain": [
       "<Figure size 1440x480 with 1 Axes>"
      ]
     },
     "metadata": {
      "needs_background": "light"
     },
     "output_type": "display_data"
    }
   ],
   "source": [
    "# Let us inverstigate the relationship between \"fiyat\" and \"net_m2\" by using seaborn library and pearsonr correlation function.\n",
    "fiyat = df[\"fiyat\"]\n",
    "m2 = df[\"net_m2\"]\n",
    "fig, ax = plt.subplots(figsize=(12,4), dpi=120)\n",
    "sns.regplot(x=\"fiyat\", y=\"net_m2\", data=df, ax=ax, \n",
    "            scatter_kws={\"alpha\": 0.4, \"color\":\"#0E185F\"}, \n",
    "            line_kws={\"color\": \"#2FA4FF\"}\n",
    ")\n",
    "ax.set_title(\"Area & Price of Home\", alpha=0.7)\n",
    "ax.set_xlabel(\"The price of the property (TL)\")\n",
    "ax.set_ylabel(\"Area $m^2$\")\n",
    "ax.axis([0, 8e6, 0, 700])\n",
    "plt.show()"
   ]
  },
  {
   "cell_type": "code",
   "execution_count": 19,
   "id": "47499f03",
   "metadata": {
    "execution": {
     "iopub.execute_input": "2022-03-14T18:00:14.292724Z",
     "iopub.status.busy": "2022-03-14T18:00:14.292070Z",
     "iopub.status.idle": "2022-03-14T18:00:14.297549Z",
     "shell.execute_reply": "2022-03-14T18:00:14.298073Z",
     "shell.execute_reply.started": "2022-03-14T17:53:59.751505Z"
    },
    "papermill": {
     "duration": 0.045531,
     "end_time": "2022-03-14T18:00:14.298239",
     "exception": false,
     "start_time": "2022-03-14T18:00:14.252708",
     "status": "completed"
    },
    "tags": []
   },
   "outputs": [
    {
     "name": "stdout",
     "output_type": "stream",
     "text": [
      "The pearson correleation coefficient is 0.6315191308853846. We can say that area and the price of a house are moderately correlated.\n"
     ]
    }
   ],
   "source": [
    "r, p_value = pearsonr(df[\"fiyat\"], df[\"net_m2\"])\n",
    "print(f\"The pearson correleation coefficient is {r}. We can say that area and the price of a house are moderately correlated.\")"
   ]
  },
  {
   "cell_type": "markdown",
   "id": "6a15e3ac",
   "metadata": {
    "papermill": {
     "duration": 0.038181,
     "end_time": "2022-03-14T18:00:14.373585",
     "exception": false,
     "start_time": "2022-03-14T18:00:14.335404",
     "status": "completed"
    },
    "tags": []
   },
   "source": [
    "### <b style=\"color:blue\"> SORU 3: Verilen ilçelere göre kaç tane merkezi ısınmaya sahip 2.kat ve üzeri katlarda bulunan evler vardır? Grafik üzerinde gösteriniz. Grafiğinizi oluştururken yaptığınız operasyonları açıklayın.</b>"
   ]
  },
  {
   "cell_type": "code",
   "execution_count": 20,
   "id": "650bcbb8",
   "metadata": {
    "execution": {
     "iopub.execute_input": "2022-03-14T18:00:14.450851Z",
     "iopub.status.busy": "2022-03-14T18:00:14.450165Z",
     "iopub.status.idle": "2022-03-14T18:00:14.457244Z",
     "shell.execute_reply": "2022-03-14T18:00:14.457960Z",
     "shell.execute_reply.started": "2022-03-14T17:53:59.763016Z"
    },
    "papermill": {
     "duration": 0.047468,
     "end_time": "2022-03-14T18:00:14.458183",
     "exception": false,
     "start_time": "2022-03-14T18:00:14.410715",
     "status": "completed"
    },
    "tags": []
   },
   "outputs": [],
   "source": [
    "# Let us make ordered categorical data type for \"bulundugu_kat\" column.\n",
    "ls = ['Kot 3', 'Kot 2', 'Kot 1', 'Bodrum', 'Zemin', 'Giriş Katı', 'Ara Kat', 'Bahçe Katı', 'Yüksek Giriş', '1. Kat', '2. Kat', \n",
    "      '3. Kat', '4. Kat', 'Villa Katı', '5. Kat', '6. Kat', '7. Kat', '8. Kat', '9. Kat', '10. Kat', '11. Kat', '12. Kat', \n",
    "      '13. Kat', '14. Kat', '15. Kat', '16. Kat', '17. Kat', '18. Kat', '19. Kat', '20. Kat', '21 ve üzeri', 'Çatı Katı', \n",
    "      'En Üst Kat', 'Teras Katı']\n",
    "\n",
    "df[\"bulundugu_kat\"] = df[\"bulundugu_kat\"].astype(pd.CategoricalDtype(ls, ordered=True))"
   ]
  },
  {
   "cell_type": "code",
   "execution_count": 21,
   "id": "b89648f1",
   "metadata": {
    "execution": {
     "iopub.execute_input": "2022-03-14T18:00:14.537055Z",
     "iopub.status.busy": "2022-03-14T18:00:14.536389Z",
     "iopub.status.idle": "2022-03-14T18:00:14.556516Z",
     "shell.execute_reply": "2022-03-14T18:00:14.557043Z",
     "shell.execute_reply.started": "2022-03-14T17:53:59.780099Z"
    },
    "papermill": {
     "duration": 0.060899,
     "end_time": "2022-03-14T18:00:14.557207",
     "exception": false,
     "start_time": "2022-03-14T18:00:14.496308",
     "status": "completed"
    },
    "tags": []
   },
   "outputs": [
    {
     "data": {
      "text/html": [
       "<div>\n",
       "<style scoped>\n",
       "    .dataframe tbody tr th:only-of-type {\n",
       "        vertical-align: middle;\n",
       "    }\n",
       "\n",
       "    .dataframe tbody tr th {\n",
       "        vertical-align: top;\n",
       "    }\n",
       "\n",
       "    .dataframe thead th {\n",
       "        text-align: right;\n",
       "    }\n",
       "</style>\n",
       "<table border=\"1\" class=\"dataframe\">\n",
       "  <thead>\n",
       "    <tr style=\"text-align: right;\">\n",
       "      <th></th>\n",
       "      <th>id</th>\n",
       "      <th>fiyat</th>\n",
       "      <th>oda_salon_sayisi</th>\n",
       "      <th>net_m2</th>\n",
       "      <th>bina_yasi</th>\n",
       "      <th>isinma_tipi</th>\n",
       "      <th>krediye_uygunluk</th>\n",
       "      <th>bulundugu_kat</th>\n",
       "      <th>banyo_sayisi</th>\n",
       "      <th>ilce</th>\n",
       "      <th>nüfus</th>\n",
       "      <th>eğitim</th>\n",
       "      <th>okuma_yazma_bilmeyen</th>\n",
       "    </tr>\n",
       "  </thead>\n",
       "  <tbody>\n",
       "    <tr>\n",
       "      <th>8</th>\n",
       "      <td>3313</td>\n",
       "      <td>1250000.0</td>\n",
       "      <td>5.0</td>\n",
       "      <td>195.0</td>\n",
       "      <td>0.0</td>\n",
       "      <td>Merkezi(PayÖlçer)</td>\n",
       "      <td>Uygun</td>\n",
       "      <td>4. Kat</td>\n",
       "      <td>2.0</td>\n",
       "      <td>keçiören</td>\n",
       "      <td>938565.0</td>\n",
       "      <td>lise</td>\n",
       "      <td>1.43</td>\n",
       "    </tr>\n",
       "    <tr>\n",
       "      <th>18</th>\n",
       "      <td>2053</td>\n",
       "      <td>850000.0</td>\n",
       "      <td>3.0</td>\n",
       "      <td>110.0</td>\n",
       "      <td>3.0</td>\n",
       "      <td>Merkezi(PayÖlçer)</td>\n",
       "      <td>Uygun</td>\n",
       "      <td>7. Kat</td>\n",
       "      <td>2.0</td>\n",
       "      <td>keçiören</td>\n",
       "      <td>938565.0</td>\n",
       "      <td>lise</td>\n",
       "      <td>1.43</td>\n",
       "    </tr>\n",
       "    <tr>\n",
       "      <th>19</th>\n",
       "      <td>2125</td>\n",
       "      <td>739000.0</td>\n",
       "      <td>5.0</td>\n",
       "      <td>150.0</td>\n",
       "      <td>22.0</td>\n",
       "      <td>Merkezi</td>\n",
       "      <td>Uygun</td>\n",
       "      <td>2. Kat</td>\n",
       "      <td>2.0</td>\n",
       "      <td>çankaya</td>\n",
       "      <td>925828.0</td>\n",
       "      <td>lisans</td>\n",
       "      <td>0.70</td>\n",
       "    </tr>\n",
       "    <tr>\n",
       "      <th>22</th>\n",
       "      <td>1041</td>\n",
       "      <td>1875000.0</td>\n",
       "      <td>6.0</td>\n",
       "      <td>350.0</td>\n",
       "      <td>7.0</td>\n",
       "      <td>Merkezi(PayÖlçer)</td>\n",
       "      <td>Uygun</td>\n",
       "      <td>21 ve üzeri</td>\n",
       "      <td>2.0</td>\n",
       "      <td>çankaya</td>\n",
       "      <td>925828.0</td>\n",
       "      <td>lisans</td>\n",
       "      <td>0.70</td>\n",
       "    </tr>\n",
       "    <tr>\n",
       "      <th>23</th>\n",
       "      <td>4595</td>\n",
       "      <td>710000.0</td>\n",
       "      <td>4.0</td>\n",
       "      <td>110.0</td>\n",
       "      <td>40.0</td>\n",
       "      <td>Merkezi</td>\n",
       "      <td>Uygun</td>\n",
       "      <td>2. Kat</td>\n",
       "      <td>1.0</td>\n",
       "      <td>keçiören</td>\n",
       "      <td>938565.0</td>\n",
       "      <td>lise</td>\n",
       "      <td>1.43</td>\n",
       "    </tr>\n",
       "  </tbody>\n",
       "</table>\n",
       "</div>"
      ],
      "text/plain": [
       "      id      fiyat  oda_salon_sayisi  net_m2  bina_yasi        isinma_tipi  \\\n",
       "8   3313  1250000.0               5.0   195.0        0.0  Merkezi(PayÖlçer)   \n",
       "18  2053   850000.0               3.0   110.0        3.0  Merkezi(PayÖlçer)   \n",
       "19  2125   739000.0               5.0   150.0       22.0            Merkezi   \n",
       "22  1041  1875000.0               6.0   350.0        7.0  Merkezi(PayÖlçer)   \n",
       "23  4595   710000.0               4.0   110.0       40.0            Merkezi   \n",
       "\n",
       "   krediye_uygunluk bulundugu_kat  banyo_sayisi      ilce     nüfus  eğitim  \\\n",
       "8             Uygun        4. Kat           2.0  keçiören  938565.0    lise   \n",
       "18            Uygun        7. Kat           2.0  keçiören  938565.0    lise   \n",
       "19            Uygun        2. Kat           2.0   çankaya  925828.0  lisans   \n",
       "22            Uygun   21 ve üzeri           2.0   çankaya  925828.0  lisans   \n",
       "23            Uygun        2. Kat           1.0  keçiören  938565.0    lise   \n",
       "\n",
       "    okuma_yazma_bilmeyen  \n",
       "8                   1.43  \n",
       "18                  1.43  \n",
       "19                  0.70  \n",
       "22                  0.70  \n",
       "23                  1.43  "
      ]
     },
     "execution_count": 21,
     "metadata": {},
     "output_type": "execute_result"
    }
   ],
   "source": [
    "merkezi_df = df[(df[\"bulundugu_kat\"] >= \"2. Kat\") & ( df[\"isinma_tipi\"].str.contains(\"Merkezi\") )]\n",
    "merkezi_df.head()"
   ]
  },
  {
   "cell_type": "code",
   "execution_count": 22,
   "id": "52941d5c",
   "metadata": {
    "execution": {
     "iopub.execute_input": "2022-03-14T18:00:14.635716Z",
     "iopub.status.busy": "2022-03-14T18:00:14.635077Z",
     "iopub.status.idle": "2022-03-14T18:00:14.645632Z",
     "shell.execute_reply": "2022-03-14T18:00:14.646158Z",
     "shell.execute_reply.started": "2022-03-14T17:53:59.818451Z"
    },
    "papermill": {
     "duration": 0.051466,
     "end_time": "2022-03-14T18:00:14.646332",
     "exception": false,
     "start_time": "2022-03-14T18:00:14.594866",
     "status": "completed"
    },
    "tags": []
   },
   "outputs": [
    {
     "data": {
      "text/html": [
       "<div>\n",
       "<style scoped>\n",
       "    .dataframe tbody tr th:only-of-type {\n",
       "        vertical-align: middle;\n",
       "    }\n",
       "\n",
       "    .dataframe tbody tr th {\n",
       "        vertical-align: top;\n",
       "    }\n",
       "\n",
       "    .dataframe thead th {\n",
       "        text-align: right;\n",
       "    }\n",
       "</style>\n",
       "<table border=\"1\" class=\"dataframe\">\n",
       "  <thead>\n",
       "    <tr style=\"text-align: right;\">\n",
       "      <th></th>\n",
       "      <th>ilce</th>\n",
       "      <th>id</th>\n",
       "    </tr>\n",
       "  </thead>\n",
       "  <tbody>\n",
       "    <tr>\n",
       "      <th>0</th>\n",
       "      <td>keçiören</td>\n",
       "      <td>314</td>\n",
       "    </tr>\n",
       "    <tr>\n",
       "      <th>1</th>\n",
       "      <td>mamak</td>\n",
       "      <td>1</td>\n",
       "    </tr>\n",
       "    <tr>\n",
       "      <th>2</th>\n",
       "      <td>sincan</td>\n",
       "      <td>71</td>\n",
       "    </tr>\n",
       "    <tr>\n",
       "      <th>3</th>\n",
       "      <td>çankaya</td>\n",
       "      <td>317</td>\n",
       "    </tr>\n",
       "  </tbody>\n",
       "</table>\n",
       "</div>"
      ],
      "text/plain": [
       "       ilce   id\n",
       "0  keçiören  314\n",
       "1     mamak    1\n",
       "2    sincan   71\n",
       "3   çankaya  317"
      ]
     },
     "execution_count": 22,
     "metadata": {},
     "output_type": "execute_result"
    }
   ],
   "source": [
    "df_for_hist = merkezi_df.groupby(\"ilce\").agg({\"id\": \"count\"}).reset_index()\n",
    "df_for_hist"
   ]
  },
  {
   "cell_type": "code",
   "execution_count": 23,
   "id": "7f3c6469",
   "metadata": {
    "execution": {
     "iopub.execute_input": "2022-03-14T18:00:14.725641Z",
     "iopub.status.busy": "2022-03-14T18:00:14.724977Z",
     "iopub.status.idle": "2022-03-14T18:00:14.945366Z",
     "shell.execute_reply": "2022-03-14T18:00:14.944853Z",
     "shell.execute_reply.started": "2022-03-14T17:53:59.835516Z"
    },
    "papermill": {
     "duration": 0.261103,
     "end_time": "2022-03-14T18:00:14.945528",
     "exception": false,
     "start_time": "2022-03-14T18:00:14.684425",
     "status": "completed"
    },
    "tags": []
   },
   "outputs": [
    {
     "data": {
      "image/png": "[encoded data removed]",
      "text/plain": [
       "<Figure size 1440x480 with 1 Axes>"
      ]
     },
     "metadata": {
      "needs_background": "light"
     },
     "output_type": "display_data"
    }
   ],
   "source": [
    "fig, ax = plt.subplots(figsize=(12,4), dpi=120)\n",
    "sns.barplot(x=\"ilce\", y=\"id\", data=df_for_hist, ax=ax)\n",
    "ax.grid(linestyle=\"dotted\")\n",
    "ax.set_xlabel(\"İlce İsimleri\")\n",
    "ax.set_ylabel(\"Merkezi Isıtmalı Ev Sayısı\")\n",
    "plt.show()\n",
    "# Interestingly, there is only 1 house in mamak with Merkezi heating. "
   ]
  },
  {
   "cell_type": "markdown",
   "id": "a4450a2c",
   "metadata": {
    "papermill": {
     "duration": 0.040188,
     "end_time": "2022-03-14T18:00:15.026570",
     "exception": false,
     "start_time": "2022-03-14T18:00:14.986382",
     "status": "completed"
    },
    "tags": []
   },
   "source": [
    "### <b style=\"color:blue\"> SORU 4: Eğitim düzeyi lisans olanların oranının yüksek olduğu ve fiyatı 5000’den az olan bir evde oturmak isteyen biri hangi ilçedeki evlere bakmalıdır? Grafik çıkartarak, çıkarımlarınızı yazılı olarak ifade edin ve grafiğinizi oluştururken yaptığınız operasyonları açıklayın. </b>"
   ]
  },
  {
   "cell_type": "code",
   "execution_count": 24,
   "id": "11c96c94",
   "metadata": {
    "execution": {
     "iopub.execute_input": "2022-03-14T18:00:15.110722Z",
     "iopub.status.busy": "2022-03-14T18:00:15.110036Z",
     "iopub.status.idle": "2022-03-14T18:00:15.131375Z",
     "shell.execute_reply": "2022-03-14T18:00:15.131820Z",
     "shell.execute_reply.started": "2022-03-14T17:54:00.085445Z"
    },
    "papermill": {
     "duration": 0.065182,
     "end_time": "2022-03-14T18:00:15.131989",
     "exception": false,
     "start_time": "2022-03-14T18:00:15.066807",
     "status": "completed"
    },
    "tags": []
   },
   "outputs": [
    {
     "data": {
      "text/html": [
       "<div>\n",
       "<style scoped>\n",
       "    .dataframe tbody tr th:only-of-type {\n",
       "        vertical-align: middle;\n",
       "    }\n",
       "\n",
       "    .dataframe tbody tr th {\n",
       "        vertical-align: top;\n",
       "    }\n",
       "\n",
       "    .dataframe thead th {\n",
       "        text-align: right;\n",
       "    }\n",
       "</style>\n",
       "<table border=\"1\" class=\"dataframe\">\n",
       "  <thead>\n",
       "    <tr style=\"text-align: right;\">\n",
       "      <th></th>\n",
       "      <th>id</th>\n",
       "      <th>fiyat</th>\n",
       "      <th>oda_salon_sayisi</th>\n",
       "      <th>net_m2</th>\n",
       "      <th>bina_yasi</th>\n",
       "      <th>isinma_tipi</th>\n",
       "      <th>krediye_uygunluk</th>\n",
       "      <th>bulundugu_kat</th>\n",
       "      <th>banyo_sayisi</th>\n",
       "      <th>ilce</th>\n",
       "      <th>nüfus</th>\n",
       "      <th>eğitim</th>\n",
       "      <th>okuma_yazma_bilmeyen</th>\n",
       "    </tr>\n",
       "  </thead>\n",
       "  <tbody>\n",
       "    <tr>\n",
       "      <th>1031</th>\n",
       "      <td>3090</td>\n",
       "      <td>1085.0</td>\n",
       "      <td>4.0</td>\n",
       "      <td>128.0</td>\n",
       "      <td>15.0</td>\n",
       "      <td>Merkezi</td>\n",
       "      <td>Uygun</td>\n",
       "      <td>10. Kat</td>\n",
       "      <td>2.0</td>\n",
       "      <td>çankaya</td>\n",
       "      <td>925828.0</td>\n",
       "      <td>lisans</td>\n",
       "      <td>0.7</td>\n",
       "    </tr>\n",
       "    <tr>\n",
       "      <th>1561</th>\n",
       "      <td>2857</td>\n",
       "      <td>355.0</td>\n",
       "      <td>3.0</td>\n",
       "      <td>115.0</td>\n",
       "      <td>13.0</td>\n",
       "      <td>Kombi</td>\n",
       "      <td>Uygun</td>\n",
       "      <td>4. Kat</td>\n",
       "      <td>1.0</td>\n",
       "      <td>çankaya</td>\n",
       "      <td>925828.0</td>\n",
       "      <td>lisans</td>\n",
       "      <td>0.7</td>\n",
       "    </tr>\n",
       "    <tr>\n",
       "      <th>2300</th>\n",
       "      <td>1156</td>\n",
       "      <td>325.0</td>\n",
       "      <td>4.0</td>\n",
       "      <td>95.0</td>\n",
       "      <td>0.0</td>\n",
       "      <td>Kombi</td>\n",
       "      <td>Uygun</td>\n",
       "      <td>4. Kat</td>\n",
       "      <td>2.0</td>\n",
       "      <td>çankaya</td>\n",
       "      <td>925828.0</td>\n",
       "      <td>lisans</td>\n",
       "      <td>0.7</td>\n",
       "    </tr>\n",
       "    <tr>\n",
       "      <th>2333</th>\n",
       "      <td>2163</td>\n",
       "      <td>415.0</td>\n",
       "      <td>4.0</td>\n",
       "      <td>110.0</td>\n",
       "      <td>0.0</td>\n",
       "      <td>Kombi</td>\n",
       "      <td>Uygun</td>\n",
       "      <td>2. Kat</td>\n",
       "      <td>1.0</td>\n",
       "      <td>çankaya</td>\n",
       "      <td>925828.0</td>\n",
       "      <td>lisans</td>\n",
       "      <td>0.7</td>\n",
       "    </tr>\n",
       "    <tr>\n",
       "      <th>2413</th>\n",
       "      <td>3741</td>\n",
       "      <td>1000.0</td>\n",
       "      <td>4.0</td>\n",
       "      <td>140.0</td>\n",
       "      <td>0.0</td>\n",
       "      <td>Kombi</td>\n",
       "      <td>Uygun</td>\n",
       "      <td>4. Kat</td>\n",
       "      <td>2.0</td>\n",
       "      <td>çankaya</td>\n",
       "      <td>925828.0</td>\n",
       "      <td>lisans</td>\n",
       "      <td>0.7</td>\n",
       "    </tr>\n",
       "    <tr>\n",
       "      <th>2752</th>\n",
       "      <td>2679</td>\n",
       "      <td>779.0</td>\n",
       "      <td>5.0</td>\n",
       "      <td>165.0</td>\n",
       "      <td>15.0</td>\n",
       "      <td>Kombi</td>\n",
       "      <td>Uygun</td>\n",
       "      <td>5. Kat</td>\n",
       "      <td>2.0</td>\n",
       "      <td>çankaya</td>\n",
       "      <td>925828.0</td>\n",
       "      <td>lisans</td>\n",
       "      <td>0.7</td>\n",
       "    </tr>\n",
       "    <tr>\n",
       "      <th>2890</th>\n",
       "      <td>4646</td>\n",
       "      <td>330.0</td>\n",
       "      <td>4.0</td>\n",
       "      <td>110.0</td>\n",
       "      <td>10.0</td>\n",
       "      <td>Kombi</td>\n",
       "      <td>Uygun</td>\n",
       "      <td>1. Kat</td>\n",
       "      <td>1.0</td>\n",
       "      <td>çankaya</td>\n",
       "      <td>925828.0</td>\n",
       "      <td>lisans</td>\n",
       "      <td>0.7</td>\n",
       "    </tr>\n",
       "    <tr>\n",
       "      <th>2917</th>\n",
       "      <td>2242</td>\n",
       "      <td>330.0</td>\n",
       "      <td>3.0</td>\n",
       "      <td>75.0</td>\n",
       "      <td>35.0</td>\n",
       "      <td>Merkezi</td>\n",
       "      <td>Uygun</td>\n",
       "      <td>Bahçe Katı</td>\n",
       "      <td>1.0</td>\n",
       "      <td>çankaya</td>\n",
       "      <td>925828.0</td>\n",
       "      <td>lisans</td>\n",
       "      <td>0.7</td>\n",
       "    </tr>\n",
       "    <tr>\n",
       "      <th>3413</th>\n",
       "      <td>4398</td>\n",
       "      <td>595.0</td>\n",
       "      <td>4.0</td>\n",
       "      <td>125.0</td>\n",
       "      <td>25.0</td>\n",
       "      <td>Kombi</td>\n",
       "      <td>Uygun</td>\n",
       "      <td>2. Kat</td>\n",
       "      <td>2.0</td>\n",
       "      <td>çankaya</td>\n",
       "      <td>925828.0</td>\n",
       "      <td>lisans</td>\n",
       "      <td>0.7</td>\n",
       "    </tr>\n",
       "    <tr>\n",
       "      <th>4042</th>\n",
       "      <td>4202</td>\n",
       "      <td>520.0</td>\n",
       "      <td>5.0</td>\n",
       "      <td>145.0</td>\n",
       "      <td>0.0</td>\n",
       "      <td>Kombi</td>\n",
       "      <td>Uygun</td>\n",
       "      <td>Bahçe Katı</td>\n",
       "      <td>2.0</td>\n",
       "      <td>çankaya</td>\n",
       "      <td>925828.0</td>\n",
       "      <td>lisans</td>\n",
       "      <td>0.7</td>\n",
       "    </tr>\n",
       "  </tbody>\n",
       "</table>\n",
       "</div>"
      ],
      "text/plain": [
       "        id   fiyat  oda_salon_sayisi  net_m2  bina_yasi isinma_tipi  \\\n",
       "1031  3090  1085.0               4.0   128.0       15.0     Merkezi   \n",
       "1561  2857   355.0               3.0   115.0       13.0       Kombi   \n",
       "2300  1156   325.0               4.0    95.0        0.0       Kombi   \n",
       "2333  2163   415.0               4.0   110.0        0.0       Kombi   \n",
       "2413  3741  1000.0               4.0   140.0        0.0       Kombi   \n",
       "2752  2679   779.0               5.0   165.0       15.0       Kombi   \n",
       "2890  4646   330.0               4.0   110.0       10.0       Kombi   \n",
       "2917  2242   330.0               3.0    75.0       35.0     Merkezi   \n",
       "3413  4398   595.0               4.0   125.0       25.0       Kombi   \n",
       "4042  4202   520.0               5.0   145.0        0.0       Kombi   \n",
       "\n",
       "     krediye_uygunluk bulundugu_kat  banyo_sayisi     ilce     nüfus  eğitim  \\\n",
       "1031            Uygun       10. Kat           2.0  çankaya  925828.0  lisans   \n",
       "1561            Uygun        4. Kat           1.0  çankaya  925828.0  lisans   \n",
       "2300            Uygun        4. Kat           2.0  çankaya  925828.0  lisans   \n",
       "2333            Uygun        2. Kat           1.0  çankaya  925828.0  lisans   \n",
       "2413            Uygun        4. Kat           2.0  çankaya  925828.0  lisans   \n",
       "2752            Uygun        5. Kat           2.0  çankaya  925828.0  lisans   \n",
       "2890            Uygun        1. Kat           1.0  çankaya  925828.0  lisans   \n",
       "2917            Uygun    Bahçe Katı           1.0  çankaya  925828.0  lisans   \n",
       "3413            Uygun        2. Kat           2.0  çankaya  925828.0  lisans   \n",
       "4042            Uygun    Bahçe Katı           2.0  çankaya  925828.0  lisans   \n",
       "\n",
       "      okuma_yazma_bilmeyen  \n",
       "1031                   0.7  \n",
       "1561                   0.7  \n",
       "2300                   0.7  \n",
       "2333                   0.7  \n",
       "2413                   0.7  \n",
       "2752                   0.7  \n",
       "2890                   0.7  \n",
       "2917                   0.7  \n",
       "3413                   0.7  \n",
       "4042                   0.7  "
      ]
     },
     "execution_count": 24,
     "metadata": {},
     "output_type": "execute_result"
    }
   ],
   "source": [
    "# Eğitim düzeyi lisans olan tek ilçe çankaya ilçesidir. Bu ilçedeki fiyatı 5000'den az olan evler aşağıdaki evlerdir.\n",
    "df[(df[\"eğitim\"] == \"lisans\") & (df[\"fiyat\"] < 5000)]"
   ]
  },
  {
   "cell_type": "markdown",
   "id": "d46b28a4",
   "metadata": {
    "papermill": {
     "duration": 0.040522,
     "end_time": "2022-03-14T18:00:15.213850",
     "exception": false,
     "start_time": "2022-03-14T18:00:15.173328",
     "status": "completed"
    },
    "tags": []
   },
   "source": [
    "### <b style=\"color:blue\"> SORU 5: İlçelere göre ısınma türlerinden hangisinin daha uygun fiyata sahip olduğunu bulun. Grafik çıkartarak, çıkarımlarınızı yazılı olarak ifade edin ve grafiğinizi oluştururken yaptığınız operasyonları açıklayın. </b>"
   ]
  },
  {
   "cell_type": "code",
   "execution_count": 25,
   "id": "2e119be2",
   "metadata": {
    "execution": {
     "iopub.execute_input": "2022-03-14T18:00:15.299014Z",
     "iopub.status.busy": "2022-03-14T18:00:15.298343Z",
     "iopub.status.idle": "2022-03-14T18:00:15.313164Z",
     "shell.execute_reply": "2022-03-14T18:00:15.313609Z",
     "shell.execute_reply.started": "2022-03-14T17:54:00.117574Z"
    },
    "papermill": {
     "duration": 0.059139,
     "end_time": "2022-03-14T18:00:15.313782",
     "exception": false,
     "start_time": "2022-03-14T18:00:15.254643",
     "status": "completed"
    },
    "tags": []
   },
   "outputs": [
    {
     "data": {
      "text/html": [
       "<div>\n",
       "<style scoped>\n",
       "    .dataframe tbody tr th:only-of-type {\n",
       "        vertical-align: middle;\n",
       "    }\n",
       "\n",
       "    .dataframe tbody tr th {\n",
       "        vertical-align: top;\n",
       "    }\n",
       "\n",
       "    .dataframe thead th {\n",
       "        text-align: right;\n",
       "    }\n",
       "</style>\n",
       "<table border=\"1\" class=\"dataframe\">\n",
       "  <thead>\n",
       "    <tr style=\"text-align: right;\">\n",
       "      <th></th>\n",
       "      <th></th>\n",
       "      <th>mean_fiyat</th>\n",
       "    </tr>\n",
       "    <tr>\n",
       "      <th>ilce</th>\n",
       "      <th>isinma_tipi</th>\n",
       "      <th></th>\n",
       "    </tr>\n",
       "  </thead>\n",
       "  <tbody>\n",
       "    <tr>\n",
       "      <th rowspan=\"5\" valign=\"top\">keçiören</th>\n",
       "      <th>KatKaloriferi</th>\n",
       "      <td>2.074500e+06</td>\n",
       "    </tr>\n",
       "    <tr>\n",
       "      <th>Klima</th>\n",
       "      <td>4.970000e+05</td>\n",
       "    </tr>\n",
       "    <tr>\n",
       "      <th>Kombi</th>\n",
       "      <td>5.612304e+05</td>\n",
       "    </tr>\n",
       "    <tr>\n",
       "      <th>Merkezi</th>\n",
       "      <td>7.438639e+05</td>\n",
       "    </tr>\n",
       "    <tr>\n",
       "      <th>Merkezi(PayÖlçer)</th>\n",
       "      <td>1.225402e+06</td>\n",
       "    </tr>\n",
       "    <tr>\n",
       "      <th rowspan=\"2\" valign=\"top\">mamak</th>\n",
       "      <th>Kombi</th>\n",
       "      <td>2.884390e+05</td>\n",
       "    </tr>\n",
       "    <tr>\n",
       "      <th>Merkezi</th>\n",
       "      <td>3.395000e+05</td>\n",
       "    </tr>\n",
       "    <tr>\n",
       "      <th rowspan=\"4\" valign=\"top\">sincan</th>\n",
       "      <th>KatKaloriferi</th>\n",
       "      <td>4.500000e+05</td>\n",
       "    </tr>\n",
       "    <tr>\n",
       "      <th>Kombi</th>\n",
       "      <td>2.730517e+05</td>\n",
       "    </tr>\n",
       "    <tr>\n",
       "      <th>Merkezi</th>\n",
       "      <td>3.135417e+05</td>\n",
       "    </tr>\n",
       "    <tr>\n",
       "      <th>Merkezi(PayÖlçer)</th>\n",
       "      <td>4.221705e+05</td>\n",
       "    </tr>\n",
       "    <tr>\n",
       "      <th rowspan=\"5\" valign=\"top\">çankaya</th>\n",
       "      <th>KatKaloriferi</th>\n",
       "      <td>2.074500e+06</td>\n",
       "    </tr>\n",
       "    <tr>\n",
       "      <th>Klima</th>\n",
       "      <td>7.000000e+05</td>\n",
       "    </tr>\n",
       "    <tr>\n",
       "      <th>Kombi</th>\n",
       "      <td>5.537179e+05</td>\n",
       "    </tr>\n",
       "    <tr>\n",
       "      <th>Merkezi</th>\n",
       "      <td>7.393321e+05</td>\n",
       "    </tr>\n",
       "    <tr>\n",
       "      <th>Merkezi(PayÖlçer)</th>\n",
       "      <td>1.259098e+06</td>\n",
       "    </tr>\n",
       "  </tbody>\n",
       "</table>\n",
       "</div>"
      ],
      "text/plain": [
       "                              mean_fiyat\n",
       "ilce     isinma_tipi                    \n",
       "keçiören KatKaloriferi      2.074500e+06\n",
       "         Klima              4.970000e+05\n",
       "         Kombi              5.612304e+05\n",
       "         Merkezi            7.438639e+05\n",
       "         Merkezi(PayÖlçer)  1.225402e+06\n",
       "mamak    Kombi              2.884390e+05\n",
       "         Merkezi            3.395000e+05\n",
       "sincan   KatKaloriferi      4.500000e+05\n",
       "         Kombi              2.730517e+05\n",
       "         Merkezi            3.135417e+05\n",
       "         Merkezi(PayÖlçer)  4.221705e+05\n",
       "çankaya  KatKaloriferi      2.074500e+06\n",
       "         Klima              7.000000e+05\n",
       "         Kombi              5.537179e+05\n",
       "         Merkezi            7.393321e+05\n",
       "         Merkezi(PayÖlçer)  1.259098e+06"
      ]
     },
     "execution_count": 25,
     "metadata": {},
     "output_type": "execute_result"
    }
   ],
   "source": [
    "isinma_df = df.groupby(by=[\"ilce\", \"isinma_tipi\"]).agg({\"fiyat\":\"mean\"})\n",
    "isinma_df.columns = [\"mean_fiyat\"]\n",
    "isinma_df"
   ]
  },
  {
   "cell_type": "code",
   "execution_count": 26,
   "id": "cdd77a13",
   "metadata": {
    "execution": {
     "iopub.execute_input": "2022-03-14T18:00:15.399790Z",
     "iopub.status.busy": "2022-03-14T18:00:15.399185Z",
     "iopub.status.idle": "2022-03-14T18:00:15.715567Z",
     "shell.execute_reply": "2022-03-14T18:00:15.716051Z",
     "shell.execute_reply.started": "2022-03-14T17:54:00.143119Z"
    },
    "papermill": {
     "duration": 0.361502,
     "end_time": "2022-03-14T18:00:15.716234",
     "exception": false,
     "start_time": "2022-03-14T18:00:15.354732",
     "status": "completed"
    },
    "tags": []
   },
   "outputs": [
    {
     "data": {
      "image/png": "[encoded data removed]",
      "text/plain": [
       "<Figure size 1440x450 with 1 Axes>"
      ]
     },
     "metadata": {
      "needs_background": "light"
     },
     "output_type": "display_data"
    }
   ],
   "source": [
    "fig, ax = plt.subplots(figsize=(16,5), dpi=90)\n",
    "sns.set_palette(\"colorblind\", 5)\n",
    "sns.barplot(x=\"ilce\", y=\"mean_fiyat\", hue=\"isinma_tipi\", data=isinma_df.reset_index(), ax=ax)\n",
    "ax.legend(loc=\"upper center\")\n",
    "ax.grid(linestyle=\"dotted\")\n",
    "ax.set_xlabel(\"İlçe İsimleri\")\n",
    "ax.set_ylabel(\"Ortalama Ev Fiyatı\")\n",
    "ax.set_title(\"Isınma Tiplerine Göre Ortalama Ev Fiyatları\")\n",
    "plt.show()"
   ]
  },
  {
   "cell_type": "code",
   "execution_count": null,
   "id": "f2eb1954",
   "metadata": {
    "papermill": {
     "duration": 0.044595,
     "end_time": "2022-03-14T18:00:15.805368",
     "exception": false,
     "start_time": "2022-03-14T18:00:15.760773",
     "status": "completed"
    },
    "tags": []
   },
   "outputs": [],
   "source": []
  }
 ],
 "metadata": {
  "kernelspec": {
   "display_name": "Python 3",
   "language": "python",
   "name": "python3"
  },
  "language_info": {
   "codemirror_mode": {
    "name": "ipython",
    "version": 3
   },
   "file_extension": ".py",
   "mimetype": "text/x-python",
   "name": "python",
   "nbconvert_exporter": "python",
   "pygments_lexer": "ipython3",
   "version": "3.7.12"
  },
  "papermill": {
   "default_parameters": {},
   "duration": 18.143528,
   "end_time": "2022-03-14T18:00:16.557884",
   "environment_variables": {},
   "exception": null,
   "input_path": "__notebook__.ipynb",
   "output_path": "__notebook__.ipynb",
   "parameters": {},
   "start_time": "2022-03-14T17:59:58.414356",
   "version": "2.3.3"
  }
 },
 "nbformat": 4,
 "nbformat_minor": 5
}
