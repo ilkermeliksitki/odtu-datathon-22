{
 "cells": [
  {
   "cell_type": "code",
   "execution_count": 1,
   "id": "c5fb5ca3",
   "metadata": {
    "_cell_guid": "b1076dfc-b9ad-4769-8c92-a6c4dae69d19",
    "_uuid": "8f2839f25d086af736a60e9eeb907d3b93b6e0e5",
    "execution": {
     "iopub.execute_input": "2022-03-12T07:41:11.890106Z",
     "iopub.status.busy": "2022-03-12T07:41:11.889479Z",
     "iopub.status.idle": "2022-03-12T07:41:13.026802Z",
     "shell.execute_reply": "2022-03-12T07:41:13.025680Z",
     "shell.execute_reply.started": "2022-03-12T05:42:32.692922Z"
    },
    "papermill": {
     "duration": 1.176151,
     "end_time": "2022-03-12T07:41:13.026996",
     "exception": false,
     "start_time": "2022-03-12T07:41:11.850845",
     "status": "completed"
    },
    "tags": []
   },
   "outputs": [],
   "source": [
    "import numpy as np\n",
    "import pandas as pd\n",
    "import matplotlib.pyplot as plt\n",
    "import seaborn as sns\n",
    "from scipy.stats import pearsonr\n",
    "\n",
    "df = pd.read_csv(\"../input/odtu-datathon-22/data.set.csv\", encoding=\"latin5\", delimiter=\";\")"
   ]
  },
  {
   "cell_type": "markdown",
   "id": "402b3d23",
   "metadata": {
    "papermill": {
     "duration": 0.027,
     "end_time": "2022-03-12T07:41:13.082011",
     "exception": false,
     "start_time": "2022-03-12T07:41:13.055011",
     "status": "completed"
    },
    "tags": []
   },
   "source": [
    "#### SORU 1: Verilen veri setini minimum kayıpla üzerinde çalışılabilir bir formata getirin. Bu doğrultuda yaptığınız operasyonları açıklayın. "
   ]
  },
  {
   "cell_type": "code",
   "execution_count": 2,
   "id": "d86f562b",
   "metadata": {
    "execution": {
     "iopub.execute_input": "2022-03-12T07:41:13.143928Z",
     "iopub.status.busy": "2022-03-12T07:41:13.143044Z",
     "iopub.status.idle": "2022-03-12T07:41:13.164709Z",
     "shell.execute_reply": "2022-03-12T07:41:13.165143Z",
     "shell.execute_reply.started": "2022-03-12T05:42:32.722173Z"
    },
    "papermill": {
     "duration": 0.056792,
     "end_time": "2022-03-12T07:41:13.165311",
     "exception": false,
     "start_time": "2022-03-12T07:41:13.108519",
     "status": "completed"
    },
    "tags": []
   },
   "outputs": [
    {
     "data": {
      "text/html": [
       "<div>\n",
       "<style scoped>\n",
       "    .dataframe tbody tr th:only-of-type {\n",
       "        vertical-align: middle;\n",
       "    }\n",
       "\n",
       "    .dataframe tbody tr th {\n",
       "        vertical-align: top;\n",
       "    }\n",
       "\n",
       "    .dataframe thead th {\n",
       "        text-align: right;\n",
       "    }\n",
       "</style>\n",
       "<table border=\"1\" class=\"dataframe\">\n",
       "  <thead>\n",
       "    <tr style=\"text-align: right;\">\n",
       "      <th></th>\n",
       "      <th>Sütun1</th>\n",
       "      <th>id</th>\n",
       "      <th>fiyat</th>\n",
       "      <th>oda_salon_sayisi</th>\n",
       "      <th>net_m2</th>\n",
       "      <th>bina_yasi</th>\n",
       "      <th>isinma_tipi</th>\n",
       "      <th>krediye_uygunluk</th>\n",
       "      <th>bulundugu_kat</th>\n",
       "      <th>banyo_sayisi</th>\n",
       "      <th>ilce</th>\n",
       "      <th>nüfus</th>\n",
       "      <th>eğitim</th>\n",
       "      <th>okuma_yazma_bilmeyen</th>\n",
       "    </tr>\n",
       "  </thead>\n",
       "  <tbody>\n",
       "    <tr>\n",
       "      <th>0</th>\n",
       "      <td>2612</td>\n",
       "      <td>2612.0</td>\n",
       "      <td>275000</td>\n",
       "      <td>4.0</td>\n",
       "      <td>120.0</td>\n",
       "      <td>12.0</td>\n",
       "      <td>Kombi</td>\n",
       "      <td>Uygun</td>\n",
       "      <td>Kot 1</td>\n",
       "      <td>1.0</td>\n",
       "      <td>Çankaya</td>\n",
       "      <td>925828.0</td>\n",
       "      <td>Lisans</td>\n",
       "      <td>0,7</td>\n",
       "    </tr>\n",
       "    <tr>\n",
       "      <th>1</th>\n",
       "      <td>4819</td>\n",
       "      <td>4819.0</td>\n",
       "      <td>700000</td>\n",
       "      <td>3.0</td>\n",
       "      <td>88.0</td>\n",
       "      <td>0.0</td>\n",
       "      <td>Merkezi(PayÖlçer)</td>\n",
       "      <td>Uygun</td>\n",
       "      <td>1. Kat</td>\n",
       "      <td>1.0</td>\n",
       "      <td>Çankaya</td>\n",
       "      <td>925828.0</td>\n",
       "      <td>Lisans</td>\n",
       "      <td>0,7</td>\n",
       "    </tr>\n",
       "    <tr>\n",
       "      <th>2</th>\n",
       "      <td>149</td>\n",
       "      <td>149.0</td>\n",
       "      <td>980000</td>\n",
       "      <td>5.0</td>\n",
       "      <td>230.0</td>\n",
       "      <td>30.0</td>\n",
       "      <td>Kombi</td>\n",
       "      <td>Uygun</td>\n",
       "      <td>3. Kat</td>\n",
       "      <td>2.0</td>\n",
       "      <td>Çankaya</td>\n",
       "      <td>925828.0</td>\n",
       "      <td>liSans</td>\n",
       "      <td>0,7</td>\n",
       "    </tr>\n",
       "    <tr>\n",
       "      <th>3</th>\n",
       "      <td>3628</td>\n",
       "      <td>3628.0</td>\n",
       "      <td>385000</td>\n",
       "      <td>4.0</td>\n",
       "      <td>120.0</td>\n",
       "      <td>22.0</td>\n",
       "      <td>Kombi</td>\n",
       "      <td>Uygun</td>\n",
       "      <td>2. Kat</td>\n",
       "      <td>1.0</td>\n",
       "      <td>Keçiören</td>\n",
       "      <td>938565.0</td>\n",
       "      <td>Lise</td>\n",
       "      <td>1,43</td>\n",
       "    </tr>\n",
       "    <tr>\n",
       "      <th>4</th>\n",
       "      <td>3936</td>\n",
       "      <td>3936.0</td>\n",
       "      <td>700000</td>\n",
       "      <td>5.0</td>\n",
       "      <td>150.0</td>\n",
       "      <td>0.0</td>\n",
       "      <td>Kombi</td>\n",
       "      <td>Uygun</td>\n",
       "      <td>Ara Kat</td>\n",
       "      <td>2.0</td>\n",
       "      <td>Çankaya</td>\n",
       "      <td>925828.0</td>\n",
       "      <td>Lisans</td>\n",
       "      <td>0,7</td>\n",
       "    </tr>\n",
       "  </tbody>\n",
       "</table>\n",
       "</div>"
      ],
      "text/plain": [
       "   Sütun1      id   fiyat  oda_salon_sayisi  net_m2  bina_yasi  \\\n",
       "0    2612  2612.0  275000               4.0   120.0       12.0   \n",
       "1    4819  4819.0  700000               3.0    88.0        0.0   \n",
       "2     149   149.0  980000               5.0   230.0       30.0   \n",
       "3    3628  3628.0  385000               4.0   120.0       22.0   \n",
       "4    3936  3936.0  700000               5.0   150.0        0.0   \n",
       "\n",
       "         isinma_tipi krediye_uygunluk bulundugu_kat  banyo_sayisi      ilce  \\\n",
       "0              Kombi            Uygun         Kot 1           1.0   Çankaya   \n",
       "1  Merkezi(PayÖlçer)            Uygun        1. Kat           1.0   Çankaya   \n",
       "2              Kombi            Uygun        3. Kat           2.0   Çankaya   \n",
       "3              Kombi            Uygun        2. Kat           1.0  Keçiören   \n",
       "4              Kombi            Uygun       Ara Kat           2.0   Çankaya   \n",
       "\n",
       "      nüfus  eğitim okuma_yazma_bilmeyen  \n",
       "0  925828.0  Lisans                  0,7  \n",
       "1  925828.0  Lisans                  0,7  \n",
       "2  925828.0  liSans                  0,7  \n",
       "3  938565.0    Lise                 1,43  \n",
       "4  925828.0  Lisans                  0,7  "
      ]
     },
     "execution_count": 2,
     "metadata": {},
     "output_type": "execute_result"
    }
   ],
   "source": [
    "df.head()"
   ]
  },
  {
   "cell_type": "code",
   "execution_count": 3,
   "id": "8c2704d8",
   "metadata": {
    "execution": {
     "iopub.execute_input": "2022-03-12T07:41:13.245698Z",
     "iopub.status.busy": "2022-03-12T07:41:13.244729Z",
     "iopub.status.idle": "2022-03-12T07:41:13.273266Z",
     "shell.execute_reply": "2022-03-12T07:41:13.274102Z",
     "shell.execute_reply.started": "2022-03-12T05:42:32.747296Z"
    },
    "papermill": {
     "duration": 0.072456,
     "end_time": "2022-03-12T07:41:13.274354",
     "exception": false,
     "start_time": "2022-03-12T07:41:13.201898",
     "status": "completed"
    },
    "tags": []
   },
   "outputs": [
    {
     "name": "stdout",
     "output_type": "stream",
     "text": [
      "<class 'pandas.core.frame.DataFrame'>\n",
      "RangeIndex: 4222 entries, 0 to 4221\n",
      "Data columns (total 14 columns):\n",
      " #   Column                Non-Null Count  Dtype  \n",
      "---  ------                --------------  -----  \n",
      " 0   Sütun1                4222 non-null   int64  \n",
      " 1   id                    4220 non-null   float64\n",
      " 2   fiyat                 4212 non-null   object \n",
      " 3   oda_salon_sayisi      4213 non-null   float64\n",
      " 4   net_m2                4213 non-null   float64\n",
      " 5   bina_yasi             4216 non-null   float64\n",
      " 6   isinma_tipi           4218 non-null   object \n",
      " 7   krediye_uygunluk      4218 non-null   object \n",
      " 8   bulundugu_kat         4218 non-null   object \n",
      " 9   banyo_sayisi          4214 non-null   float64\n",
      " 10  ilce                  4215 non-null   object \n",
      " 11  nüfus                 4214 non-null   float64\n",
      " 12  eğitim                4217 non-null   object \n",
      " 13  okuma_yazma_bilmeyen  4217 non-null   object \n",
      "dtypes: float64(6), int64(1), object(7)\n",
      "memory usage: 461.9+ KB\n"
     ]
    }
   ],
   "source": [
    "# The dtype of id is float and there are two nan values in id column. So I will drop that column and use \"Sütun1\" as \"id\" column.\n",
    "# Because its dtype is int and doesn't include nan value.\n",
    "df.info()"
   ]
  },
  {
   "cell_type": "code",
   "execution_count": 4,
   "id": "1f362361",
   "metadata": {
    "execution": {
     "iopub.execute_input": "2022-03-12T07:41:13.349313Z",
     "iopub.status.busy": "2022-03-12T07:41:13.348538Z",
     "iopub.status.idle": "2022-03-12T07:41:13.367728Z",
     "shell.execute_reply": "2022-03-12T07:41:13.368232Z",
     "shell.execute_reply.started": "2022-03-12T05:42:32.779462Z"
    },
    "papermill": {
     "duration": 0.05645,
     "end_time": "2022-03-12T07:41:13.368507",
     "exception": false,
     "start_time": "2022-03-12T07:41:13.312057",
     "status": "completed"
    },
    "tags": []
   },
   "outputs": [
    {
     "data": {
      "text/html": [
       "<div>\n",
       "<style scoped>\n",
       "    .dataframe tbody tr th:only-of-type {\n",
       "        vertical-align: middle;\n",
       "    }\n",
       "\n",
       "    .dataframe tbody tr th {\n",
       "        vertical-align: top;\n",
       "    }\n",
       "\n",
       "    .dataframe thead th {\n",
       "        text-align: right;\n",
       "    }\n",
       "</style>\n",
       "<table border=\"1\" class=\"dataframe\">\n",
       "  <thead>\n",
       "    <tr style=\"text-align: right;\">\n",
       "      <th></th>\n",
       "      <th>id</th>\n",
       "      <th>fiyat</th>\n",
       "      <th>oda_salon_sayisi</th>\n",
       "      <th>net_m2</th>\n",
       "      <th>bina_yasi</th>\n",
       "      <th>isinma_tipi</th>\n",
       "      <th>krediye_uygunluk</th>\n",
       "      <th>bulundugu_kat</th>\n",
       "      <th>banyo_sayisi</th>\n",
       "      <th>ilce</th>\n",
       "      <th>nüfus</th>\n",
       "      <th>eğitim</th>\n",
       "      <th>okuma_yazma_bilmeyen</th>\n",
       "    </tr>\n",
       "  </thead>\n",
       "  <tbody>\n",
       "    <tr>\n",
       "      <th>0</th>\n",
       "      <td>2612</td>\n",
       "      <td>275000</td>\n",
       "      <td>4.0</td>\n",
       "      <td>120.0</td>\n",
       "      <td>12.0</td>\n",
       "      <td>Kombi</td>\n",
       "      <td>Uygun</td>\n",
       "      <td>Kot 1</td>\n",
       "      <td>1.0</td>\n",
       "      <td>Çankaya</td>\n",
       "      <td>925828.0</td>\n",
       "      <td>Lisans</td>\n",
       "      <td>0,7</td>\n",
       "    </tr>\n",
       "    <tr>\n",
       "      <th>1</th>\n",
       "      <td>4819</td>\n",
       "      <td>700000</td>\n",
       "      <td>3.0</td>\n",
       "      <td>88.0</td>\n",
       "      <td>0.0</td>\n",
       "      <td>Merkezi(PayÖlçer)</td>\n",
       "      <td>Uygun</td>\n",
       "      <td>1. Kat</td>\n",
       "      <td>1.0</td>\n",
       "      <td>Çankaya</td>\n",
       "      <td>925828.0</td>\n",
       "      <td>Lisans</td>\n",
       "      <td>0,7</td>\n",
       "    </tr>\n",
       "    <tr>\n",
       "      <th>2</th>\n",
       "      <td>149</td>\n",
       "      <td>980000</td>\n",
       "      <td>5.0</td>\n",
       "      <td>230.0</td>\n",
       "      <td>30.0</td>\n",
       "      <td>Kombi</td>\n",
       "      <td>Uygun</td>\n",
       "      <td>3. Kat</td>\n",
       "      <td>2.0</td>\n",
       "      <td>Çankaya</td>\n",
       "      <td>925828.0</td>\n",
       "      <td>liSans</td>\n",
       "      <td>0,7</td>\n",
       "    </tr>\n",
       "    <tr>\n",
       "      <th>3</th>\n",
       "      <td>3628</td>\n",
       "      <td>385000</td>\n",
       "      <td>4.0</td>\n",
       "      <td>120.0</td>\n",
       "      <td>22.0</td>\n",
       "      <td>Kombi</td>\n",
       "      <td>Uygun</td>\n",
       "      <td>2. Kat</td>\n",
       "      <td>1.0</td>\n",
       "      <td>Keçiören</td>\n",
       "      <td>938565.0</td>\n",
       "      <td>Lise</td>\n",
       "      <td>1,43</td>\n",
       "    </tr>\n",
       "    <tr>\n",
       "      <th>4</th>\n",
       "      <td>3936</td>\n",
       "      <td>700000</td>\n",
       "      <td>5.0</td>\n",
       "      <td>150.0</td>\n",
       "      <td>0.0</td>\n",
       "      <td>Kombi</td>\n",
       "      <td>Uygun</td>\n",
       "      <td>Ara Kat</td>\n",
       "      <td>2.0</td>\n",
       "      <td>Çankaya</td>\n",
       "      <td>925828.0</td>\n",
       "      <td>Lisans</td>\n",
       "      <td>0,7</td>\n",
       "    </tr>\n",
       "  </tbody>\n",
       "</table>\n",
       "</div>"
      ],
      "text/plain": [
       "     id   fiyat  oda_salon_sayisi  net_m2  bina_yasi        isinma_tipi  \\\n",
       "0  2612  275000               4.0   120.0       12.0              Kombi   \n",
       "1  4819  700000               3.0    88.0        0.0  Merkezi(PayÖlçer)   \n",
       "2   149  980000               5.0   230.0       30.0              Kombi   \n",
       "3  3628  385000               4.0   120.0       22.0              Kombi   \n",
       "4  3936  700000               5.0   150.0        0.0              Kombi   \n",
       "\n",
       "  krediye_uygunluk bulundugu_kat  banyo_sayisi      ilce     nüfus  eğitim  \\\n",
       "0            Uygun         Kot 1           1.0   Çankaya  925828.0  Lisans   \n",
       "1            Uygun        1. Kat           1.0   Çankaya  925828.0  Lisans   \n",
       "2            Uygun        3. Kat           2.0   Çankaya  925828.0  liSans   \n",
       "3            Uygun        2. Kat           1.0  Keçiören  938565.0    Lise   \n",
       "4            Uygun       Ara Kat           2.0   Çankaya  925828.0  Lisans   \n",
       "\n",
       "  okuma_yazma_bilmeyen  \n",
       "0                  0,7  \n",
       "1                  0,7  \n",
       "2                  0,7  \n",
       "3                 1,43  \n",
       "4                  0,7  "
      ]
     },
     "execution_count": 4,
     "metadata": {},
     "output_type": "execute_result"
    }
   ],
   "source": [
    "# id column is dropped and the name of \"Sütun1\" column is change to \"id\".\n",
    "df = df.drop(labels=[\"id\"], axis=1)\n",
    "column_ls = list(df.columns)\n",
    "column_ls\n",
    "column_ls[0] = \"id\"\n",
    "df.columns = column_ls\n",
    "df.head()"
   ]
  },
  {
   "cell_type": "markdown",
   "id": "d7466954",
   "metadata": {
    "papermill": {
     "duration": 0.029361,
     "end_time": "2022-03-12T07:41:13.429929",
     "exception": false,
     "start_time": "2022-03-12T07:41:13.400568",
     "status": "completed"
    },
    "tags": []
   },
   "source": [
    "## Deal with duplicated values"
   ]
  },
  {
   "cell_type": "code",
   "execution_count": 5,
   "id": "97040167",
   "metadata": {
    "execution": {
     "iopub.execute_input": "2022-03-12T07:41:13.497780Z",
     "iopub.status.busy": "2022-03-12T07:41:13.496886Z",
     "iopub.status.idle": "2022-03-12T07:41:13.502129Z",
     "shell.execute_reply": "2022-03-12T07:41:13.502574Z",
     "shell.execute_reply.started": "2022-03-12T05:42:32.809385Z"
    },
    "papermill": {
     "duration": 0.042154,
     "end_time": "2022-03-12T07:41:13.502735",
     "exception": false,
     "start_time": "2022-03-12T07:41:13.460581",
     "status": "completed"
    },
    "tags": []
   },
   "outputs": [
    {
     "data": {
      "text/plain": [
       "396     2\n",
       "2603    2\n",
       "2671    2\n",
       "4815    2\n",
       "3977    2\n",
       "       ..\n",
       "2854    1\n",
       "425     1\n",
       "4693    1\n",
       "543     1\n",
       "762     1\n",
       "Name: id, Length: 3965, dtype: int64"
      ]
     },
     "execution_count": 5,
     "metadata": {},
     "output_type": "execute_result"
    }
   ],
   "source": [
    "# There are duplicated values. Some of them are more informative, i.e. includes more knowledge. So I will drop the less informative ones.\n",
    "df[\"id\"].value_counts()"
   ]
  },
  {
   "cell_type": "code",
   "execution_count": 6,
   "id": "7d21dd37",
   "metadata": {
    "execution": {
     "iopub.execute_input": "2022-03-12T07:41:13.567492Z",
     "iopub.status.busy": "2022-03-12T07:41:13.566835Z",
     "iopub.status.idle": "2022-03-12T07:41:13.584449Z",
     "shell.execute_reply": "2022-03-12T07:41:13.584855Z",
     "shell.execute_reply.started": "2022-03-12T05:42:32.828628Z"
    },
    "papermill": {
     "duration": 0.050035,
     "end_time": "2022-03-12T07:41:13.585028",
     "exception": false,
     "start_time": "2022-03-12T07:41:13.534993",
     "status": "completed"
    },
    "tags": []
   },
   "outputs": [
    {
     "data": {
      "text/html": [
       "<div>\n",
       "<style scoped>\n",
       "    .dataframe tbody tr th:only-of-type {\n",
       "        vertical-align: middle;\n",
       "    }\n",
       "\n",
       "    .dataframe tbody tr th {\n",
       "        vertical-align: top;\n",
       "    }\n",
       "\n",
       "    .dataframe thead th {\n",
       "        text-align: right;\n",
       "    }\n",
       "</style>\n",
       "<table border=\"1\" class=\"dataframe\">\n",
       "  <thead>\n",
       "    <tr style=\"text-align: right;\">\n",
       "      <th></th>\n",
       "      <th>id</th>\n",
       "      <th>fiyat</th>\n",
       "      <th>oda_salon_sayisi</th>\n",
       "      <th>net_m2</th>\n",
       "      <th>bina_yasi</th>\n",
       "      <th>isinma_tipi</th>\n",
       "      <th>krediye_uygunluk</th>\n",
       "      <th>bulundugu_kat</th>\n",
       "      <th>banyo_sayisi</th>\n",
       "      <th>ilce</th>\n",
       "      <th>nüfus</th>\n",
       "      <th>eğitim</th>\n",
       "      <th>okuma_yazma_bilmeyen</th>\n",
       "    </tr>\n",
       "  </thead>\n",
       "  <tbody>\n",
       "    <tr>\n",
       "      <th>847</th>\n",
       "      <td>2603</td>\n",
       "      <td>595000</td>\n",
       "      <td>4.0</td>\n",
       "      <td>98.0</td>\n",
       "      <td>24.0</td>\n",
       "      <td>Merkezi</td>\n",
       "      <td>Uygun</td>\n",
       "      <td>4. Kat</td>\n",
       "      <td>1.0</td>\n",
       "      <td>Keçiören</td>\n",
       "      <td>938565.0</td>\n",
       "      <td>Lise</td>\n",
       "      <td>1,43</td>\n",
       "    </tr>\n",
       "    <tr>\n",
       "      <th>3634</th>\n",
       "      <td>2603</td>\n",
       "      <td>595000</td>\n",
       "      <td>4.0</td>\n",
       "      <td>NaN</td>\n",
       "      <td>24.0</td>\n",
       "      <td>Merkezi</td>\n",
       "      <td>Uygun</td>\n",
       "      <td>4. Kat</td>\n",
       "      <td>1.0</td>\n",
       "      <td>Keçiören</td>\n",
       "      <td>938565.0</td>\n",
       "      <td>Lise</td>\n",
       "      <td>1,43</td>\n",
       "    </tr>\n",
       "  </tbody>\n",
       "</table>\n",
       "</div>"
      ],
      "text/plain": [
       "        id   fiyat  oda_salon_sayisi  net_m2  bina_yasi isinma_tipi  \\\n",
       "847   2603  595000               4.0    98.0       24.0     Merkezi   \n",
       "3634  2603  595000               4.0     NaN       24.0     Merkezi   \n",
       "\n",
       "     krediye_uygunluk bulundugu_kat  banyo_sayisi      ilce     nüfus eğitim  \\\n",
       "847             Uygun        4. Kat           1.0  Keçiören  938565.0   Lise   \n",
       "3634            Uygun        4. Kat           1.0  Keçiören  938565.0   Lise   \n",
       "\n",
       "     okuma_yazma_bilmeyen  \n",
       "847                  1,43  \n",
       "3634                 1,43  "
      ]
     },
     "execution_count": 6,
     "metadata": {},
     "output_type": "execute_result"
    }
   ],
   "source": [
    "# For example, the second one includes a nan values whereas the first one doesn't. So it would be better to drop the second row. \n",
    "df[df[\"id\"] == 2603]"
   ]
  },
  {
   "cell_type": "code",
   "execution_count": 7,
   "id": "41f021ea",
   "metadata": {
    "execution": {
     "iopub.execute_input": "2022-03-12T07:41:13.648398Z",
     "iopub.status.busy": "2022-03-12T07:41:13.647485Z",
     "iopub.status.idle": "2022-03-12T07:41:13.664275Z",
     "shell.execute_reply": "2022-03-12T07:41:13.663772Z",
     "shell.execute_reply.started": "2022-03-12T05:42:32.854247Z"
    },
    "papermill": {
     "duration": 0.049797,
     "end_time": "2022-03-12T07:41:13.664408",
     "exception": false,
     "start_time": "2022-03-12T07:41:13.614611",
     "status": "completed"
    },
    "tags": []
   },
   "outputs": [
    {
     "data": {
      "text/html": [
       "<div>\n",
       "<style scoped>\n",
       "    .dataframe tbody tr th:only-of-type {\n",
       "        vertical-align: middle;\n",
       "    }\n",
       "\n",
       "    .dataframe tbody tr th {\n",
       "        vertical-align: top;\n",
       "    }\n",
       "\n",
       "    .dataframe thead th {\n",
       "        text-align: right;\n",
       "    }\n",
       "</style>\n",
       "<table border=\"1\" class=\"dataframe\">\n",
       "  <thead>\n",
       "    <tr style=\"text-align: right;\">\n",
       "      <th></th>\n",
       "      <th>id</th>\n",
       "      <th>fiyat</th>\n",
       "      <th>oda_salon_sayisi</th>\n",
       "      <th>net_m2</th>\n",
       "      <th>bina_yasi</th>\n",
       "      <th>isinma_tipi</th>\n",
       "      <th>krediye_uygunluk</th>\n",
       "      <th>bulundugu_kat</th>\n",
       "      <th>banyo_sayisi</th>\n",
       "      <th>ilce</th>\n",
       "      <th>nüfus</th>\n",
       "      <th>eğitim</th>\n",
       "      <th>okuma_yazma_bilmeyen</th>\n",
       "    </tr>\n",
       "  </thead>\n",
       "  <tbody>\n",
       "    <tr>\n",
       "      <th>1491</th>\n",
       "      <td>3342</td>\n",
       "      <td>725000</td>\n",
       "      <td>2.0</td>\n",
       "      <td>62.0</td>\n",
       "      <td>1.0</td>\n",
       "      <td>Merkezi</td>\n",
       "      <td>Uygun</td>\n",
       "      <td>19. Kat</td>\n",
       "      <td>1.0</td>\n",
       "      <td>Çankaya</td>\n",
       "      <td>925828.0</td>\n",
       "      <td>Lisans</td>\n",
       "      <td>0,7</td>\n",
       "    </tr>\n",
       "    <tr>\n",
       "      <th>3949</th>\n",
       "      <td>3342</td>\n",
       "      <td>7,25E+05</td>\n",
       "      <td>2.0</td>\n",
       "      <td>62.0</td>\n",
       "      <td>1.0</td>\n",
       "      <td>Merkezi</td>\n",
       "      <td>Uygun</td>\n",
       "      <td>19. Kat</td>\n",
       "      <td>1.0</td>\n",
       "      <td>Çankaya</td>\n",
       "      <td>925828.0</td>\n",
       "      <td>Lisans</td>\n",
       "      <td>0,7</td>\n",
       "    </tr>\n",
       "  </tbody>\n",
       "</table>\n",
       "</div>"
      ],
      "text/plain": [
       "        id     fiyat  oda_salon_sayisi  net_m2  bina_yasi isinma_tipi  \\\n",
       "1491  3342    725000               2.0    62.0        1.0     Merkezi   \n",
       "3949  3342  7,25E+05               2.0    62.0        1.0     Merkezi   \n",
       "\n",
       "     krediye_uygunluk bulundugu_kat  banyo_sayisi     ilce     nüfus  eğitim  \\\n",
       "1491            Uygun       19. Kat           1.0  Çankaya  925828.0  Lisans   \n",
       "3949            Uygun       19. Kat           1.0  Çankaya  925828.0  Lisans   \n",
       "\n",
       "     okuma_yazma_bilmeyen  \n",
       "1491                  0,7  \n",
       "3949                  0,7  "
      ]
     },
     "execution_count": 7,
     "metadata": {},
     "output_type": "execute_result"
    }
   ],
   "source": [
    "# Additionally, there can be bad formatting in fiyat column like the following.\n",
    "df[df[\"id\"] == 3342]"
   ]
  },
  {
   "cell_type": "code",
   "execution_count": 8,
   "id": "b616cc3f",
   "metadata": {
    "execution": {
     "iopub.execute_input": "2022-03-12T07:41:13.730160Z",
     "iopub.status.busy": "2022-03-12T07:41:13.727081Z",
     "iopub.status.idle": "2022-03-12T07:41:13.736118Z",
     "shell.execute_reply": "2022-03-12T07:41:13.736656Z",
     "shell.execute_reply.started": "2022-03-12T05:42:32.879860Z"
    },
    "papermill": {
     "duration": 0.042824,
     "end_time": "2022-03-12T07:41:13.736830",
     "exception": false,
     "start_time": "2022-03-12T07:41:13.694006",
     "status": "completed"
    },
    "tags": []
   },
   "outputs": [
    {
     "name": "stdout",
     "output_type": "stream",
     "text": [
      "[ 396 2603 2671 4815 3977 4773 4448 4229 2620 1385 3942 2606 3520 1011\n",
      " 1030 3199  404 3364 3543 2264  394  973 3538 4641  681 1746  769 2829\n",
      "  595 1469  142 4940 3923 2339 4950 1123  503 1845 3469 3018  285 3069\n",
      " 4832 4157 2634 3241 2568  741 1539 1642  351 1282 3956 2873 2221 4865\n",
      "  114 3441 3002 1953 2163 3231 2629  405 4433  261 1278 3618 2762 1594\n",
      " 1320 2102 3983 2246 1650 4533  138  866 4208 1592 4636 1668 1976 1023\n",
      " 3074 4676 1989 1589 2647 4755 2028  357 3757 2314 3395 4482  495  635\n",
      " 1804 1144 4699 4912  721 2430 4191 4283 3982 4490 1168  744 1528 3342\n",
      " 1791 1608 1446 1961  615 3948 1936 3980  999 2948 3407 4936  627 4218\n",
      " 3361 3946 1584  433   24 3076   35  316 3566  777 2311 4092 2995 4480\n",
      " 1154 1963  941 2982  938 2925 1163 2139 1987  470 4082 3006 4451 4309\n",
      " 3107 2267 1731 4665   19 4638 2331 3666 2642  154 2985 3711 1884 1702\n",
      " 2644 2684 2901 1172 4525 2990 3287  853  828 4894 3128 1505 4014 4926\n",
      "  224  655 3153  304 4241 3059 1942  667 4452 1684 1641  844 1739 3175\n",
      " 4314 2185 4023 4286 3874 4721  843 4051 3123 3166 4367  165 2137 4217\n",
      " 3984  500 4856 2926 3293 4192 2798 2002 2608 1482 1392  879 2529 4357\n",
      " 3535  117 4224 3972 1548   90  674 2125 3696 1960 3313 3936 1090  672\n",
      " 4598 2923 3758 2444 4010 2905 4794  174 4226  499    1 1644 2858 1244\n",
      " 3531 1178 2188 4297    8]\n"
     ]
    }
   ],
   "source": [
    "# The following ids are the duplicated id numbers. Let us investigate them.\n",
    "np.set_printoptions(threshold=np.inf)\n",
    "duplicated_ids = df[\"id\"].value_counts()[df[\"id\"].value_counts() != 1].index.values\n",
    "print(duplicated_ids)\n",
    "np.set_printoptions(threshold=5)"
   ]
  },
  {
   "cell_type": "code",
   "execution_count": 9,
   "id": "e3f7efc6",
   "metadata": {
    "execution": {
     "iopub.execute_input": "2022-03-12T07:41:13.813329Z",
     "iopub.status.busy": "2022-03-12T07:41:13.812709Z",
     "iopub.status.idle": "2022-03-12T07:41:14.601458Z",
     "shell.execute_reply": "2022-03-12T07:41:14.600604Z",
     "shell.execute_reply.started": "2022-03-12T05:42:32.892025Z"
    },
    "papermill": {
     "duration": 0.834044,
     "end_time": "2022-03-12T07:41:14.601604",
     "exception": false,
     "start_time": "2022-03-12T07:41:13.767560",
     "status": "completed"
    },
    "tags": []
   },
   "outputs": [
    {
     "name": "stdout",
     "output_type": "stream",
     "text": [
      "2603\n",
      "4773\n",
      "4448\n",
      "3520\n",
      "1011\n",
      "404\n",
      "142\n",
      "1642\n",
      "1282\n",
      "2221\n",
      "114\n",
      "357\n",
      "4482\n",
      "3982\n",
      "1528\n",
      "3342\n",
      "2311\n",
      "2139\n",
      "4451\n",
      "4309\n",
      "828\n",
      "4926\n",
      "224\n",
      "4314\n",
      "4217\n",
      "3293\n",
      "1482\n"
     ]
    }
   ],
   "source": [
    "# The following ids are the duplicated ids and one of them includes nan values.\n",
    "# or one of them includes bad formatting like 9,50E+05 instead of 950000.\n",
    "def duplicated_id_printer():\n",
    "    for i in duplicated_ids:\n",
    "        sub_df = df[df[\"id\"] == i].drop_duplicates()\n",
    "        if len(sub_df) == 2:\n",
    "            # if len == 2 then they are not identical. if len == 1, they were identical, but one of them is dropped with .drop_duplicates() method.\n",
    "            # So the non-identical ones is printed. Note that their ids are identical.\n",
    "            print(i)\n",
    "duplicated_id_printer()"
   ]
  },
  {
   "cell_type": "code",
   "execution_count": 10,
   "id": "c272fa23",
   "metadata": {
    "execution": {
     "iopub.execute_input": "2022-03-12T07:41:14.684155Z",
     "iopub.status.busy": "2022-03-12T07:41:14.683458Z",
     "iopub.status.idle": "2022-03-12T07:41:14.686695Z",
     "shell.execute_reply": "2022-03-12T07:41:14.686224Z",
     "shell.execute_reply.started": "2022-03-12T05:42:33.739853Z"
    },
    "papermill": {
     "duration": 0.053354,
     "end_time": "2022-03-12T07:41:14.686835",
     "exception": false,
     "start_time": "2022-03-12T07:41:14.633481",
     "status": "completed"
    },
    "tags": []
   },
   "outputs": [],
   "source": [
    "# So, now I will fix the data type and format of the \"fiyat\" column.\n",
    "# fiyat column is change to float64 from object.\n",
    "df[\"fiyat\"] = df[\"fiyat\"].replace(to_replace=\",\", value=\".\", regex=True).astype(\"float64\")\n",
    "df[\"okuma_yazma_bilmeyen\"] = df[\"okuma_yazma_bilmeyen\"].replace(to_replace=\",\", value=\".\", regex=True).astype(\"float64\")"
   ]
  },
  {
   "cell_type": "code",
   "execution_count": 11,
   "id": "da3a9dd3",
   "metadata": {
    "execution": {
     "iopub.execute_input": "2022-03-12T07:41:14.766632Z",
     "iopub.status.busy": "2022-03-12T07:41:14.765899Z",
     "iopub.status.idle": "2022-03-12T07:41:15.515598Z",
     "shell.execute_reply": "2022-03-12T07:41:15.514924Z",
     "shell.execute_reply.started": "2022-03-12T05:42:33.769324Z"
    },
    "papermill": {
     "duration": 0.797278,
     "end_time": "2022-03-12T07:41:15.515750",
     "exception": false,
     "start_time": "2022-03-12T07:41:14.718472",
     "status": "completed"
    },
    "tags": []
   },
   "outputs": [
    {
     "name": "stdout",
     "output_type": "stream",
     "text": [
      "These are the ids including nan values of duplicated rows.\n",
      "2603\n",
      "4773\n",
      "4448\n",
      "3520\n",
      "357\n",
      "828\n",
      "224\n",
      "\n",
      "These are the indexes including nan values of duplicated rows.\n",
      "3634\n",
      "2161\n",
      "1813\n",
      "4204\n",
      "2589\n",
      "1457\n",
      "3633\n"
     ]
    }
   ],
   "source": [
    "# Now we got only nan-included duplicated rows after the correction of the formatting and data type of \"fiyat column\".\n",
    "print(\"These are the ids including nan values of duplicated rows.\")\n",
    "duplicated_id_printer()\n",
    "print(\"\\nThese are the indexes including nan values of duplicated rows.\")\n",
    "# let us drop these them.\n",
    "for i in [2603, 4773, 4448, 3520, 357, 828, 224]:\n",
    "    temp_s = pd.isnull(df[df[\"id\"] == i]).sum(axis=1)\n",
    "    the_index = temp_s[temp_s == 1].index.values[0]\n",
    "    print(the_index)\n",
    "    df.drop(the_index, inplace=True)"
   ]
  },
  {
   "cell_type": "code",
   "execution_count": 12,
   "id": "5ec3145f",
   "metadata": {
    "execution": {
     "iopub.execute_input": "2022-03-12T07:41:15.598740Z",
     "iopub.status.busy": "2022-03-12T07:41:15.597898Z",
     "iopub.status.idle": "2022-03-12T07:41:15.601996Z",
     "shell.execute_reply": "2022-03-12T07:41:15.601523Z",
     "shell.execute_reply.started": "2022-03-12T05:42:34.572016Z"
    },
    "papermill": {
     "duration": 0.052684,
     "end_time": "2022-03-12T07:41:15.602137",
     "exception": false,
     "start_time": "2022-03-12T07:41:15.549453",
     "status": "completed"
    },
    "tags": []
   },
   "outputs": [
    {
     "data": {
      "text/html": [
       "<div>\n",
       "<style scoped>\n",
       "    .dataframe tbody tr th:only-of-type {\n",
       "        vertical-align: middle;\n",
       "    }\n",
       "\n",
       "    .dataframe tbody tr th {\n",
       "        vertical-align: top;\n",
       "    }\n",
       "\n",
       "    .dataframe thead th {\n",
       "        text-align: right;\n",
       "    }\n",
       "</style>\n",
       "<table border=\"1\" class=\"dataframe\">\n",
       "  <thead>\n",
       "    <tr style=\"text-align: right;\">\n",
       "      <th></th>\n",
       "      <th>id</th>\n",
       "      <th>fiyat</th>\n",
       "      <th>oda_salon_sayisi</th>\n",
       "      <th>net_m2</th>\n",
       "      <th>bina_yasi</th>\n",
       "      <th>isinma_tipi</th>\n",
       "      <th>krediye_uygunluk</th>\n",
       "      <th>bulundugu_kat</th>\n",
       "      <th>banyo_sayisi</th>\n",
       "      <th>ilce</th>\n",
       "      <th>nüfus</th>\n",
       "      <th>eğitim</th>\n",
       "      <th>okuma_yazma_bilmeyen</th>\n",
       "    </tr>\n",
       "  </thead>\n",
       "  <tbody>\n",
       "    <tr>\n",
       "      <th>847</th>\n",
       "      <td>2603</td>\n",
       "      <td>595000.0</td>\n",
       "      <td>4.0</td>\n",
       "      <td>98.0</td>\n",
       "      <td>24.0</td>\n",
       "      <td>Merkezi</td>\n",
       "      <td>Uygun</td>\n",
       "      <td>4. Kat</td>\n",
       "      <td>1.0</td>\n",
       "      <td>Keçiören</td>\n",
       "      <td>938565.0</td>\n",
       "      <td>Lise</td>\n",
       "      <td>1.43</td>\n",
       "    </tr>\n",
       "  </tbody>\n",
       "</table>\n",
       "</div>"
      ],
      "text/plain": [
       "       id     fiyat  oda_salon_sayisi  net_m2  bina_yasi isinma_tipi  \\\n",
       "847  2603  595000.0               4.0    98.0       24.0     Merkezi   \n",
       "\n",
       "    krediye_uygunluk bulundugu_kat  banyo_sayisi      ilce     nüfus eğitim  \\\n",
       "847            Uygun        4. Kat           1.0  Keçiören  938565.0   Lise   \n",
       "\n",
       "     okuma_yazma_bilmeyen  \n",
       "847                  1.43  "
      ]
     },
     "execution_count": 12,
     "metadata": {},
     "output_type": "execute_result"
    }
   ],
   "source": [
    "# Let us check. After the formatting of string columns, I will drop the remaining duplicated columns.\n",
    "df[df[\"id\"] == 2603]"
   ]
  },
  {
   "cell_type": "code",
   "execution_count": 13,
   "id": "2331f202",
   "metadata": {
    "execution": {
     "iopub.execute_input": "2022-03-12T07:41:15.682713Z",
     "iopub.status.busy": "2022-03-12T07:41:15.681988Z",
     "iopub.status.idle": "2022-03-12T07:41:15.740588Z",
     "shell.execute_reply": "2022-03-12T07:41:15.741079Z",
     "shell.execute_reply.started": "2022-03-12T05:42:34.592352Z"
    },
    "papermill": {
     "duration": 0.106463,
     "end_time": "2022-03-12T07:41:15.741247",
     "exception": false,
     "start_time": "2022-03-12T07:41:15.634784",
     "status": "completed"
    },
    "tags": []
   },
   "outputs": [
    {
     "name": "stdout",
     "output_type": "stream",
     "text": [
      "Before formatting 'eğitim' and 'nüfus' column\n",
      "Çankaya: liSans, Lisans\n",
      "Keçiören: liS3, Lise\n",
      "Sincan: liS3, Lise\n",
      "Mamak: Lise\n",
      "cankaya: Lisans\n",
      "nan: \n",
      "------------\n",
      "Çankaya: 925828.0\n",
      "Keçiören: 938565.0\n",
      "Sincan: 549108.0\n",
      "Mamak: 669465.0\n",
      "cankaya: 925828.0\n",
      "nan: \n",
      "###########\n",
      "After formatting 'eğitim' and 'nüfus' column\n",
      "çankaya: lisans\n",
      "keçiören: lise\n",
      "sincan: lise\n",
      "mamak: lise\n",
      "nan: \n",
      "------------\n",
      "çankaya: 925828.0\n",
      "keçiören: 938565.0\n",
      "sincan: 549108.0\n",
      "mamak: 669465.0\n",
      "nan: \n",
      "------------\n",
      "The illeteracy rate\n",
      "çankaya: 0.7, 0.0\n",
      "keçiören: 0.0, 1.43\n",
      "sincan: 0.0, 1.44\n",
      "mamak: 1.9\n",
      "nan: \n"
     ]
    }
   ],
   "source": [
    "# Every distinct has a unique education level. So we can fill some of the nan values(nüfus, eğitim) by using the distinct names.\n",
    "print(\"Before formatting 'eğitim' and 'nüfus' column\")\n",
    "for i in df[\"ilce\"].unique():\n",
    "    print(str(i)+\":\", \", \".join( str(i) for i in list(set(df[df[\"ilce\"] == i][\"eğitim\"])) if not pd.isnull(i)))\n",
    "print(\"------------\")\n",
    "for i in df[\"ilce\"].unique():\n",
    "    print(str(i)+\":\", \", \".join( str(i) for i in list(set(df[df[\"ilce\"] == i][\"nüfus\"])) if not pd.isnull(i)))\n",
    "\n",
    "# cankaya becomes çankaya in the following series and ilce column data type is maden category.\n",
    "df[\"ilce\"] = df[\"ilce\"].str.lower().replace(\"(c)ank\", \"çank\", regex=True).astype(\"category\")\n",
    "# lis3 becomees lise in eğitim column.\n",
    "df[\"eğitim\"] = df[\"eğitim\"].str.lower().replace(\"lis3\", \"lise\").astype(\"category\")\n",
    "print(\"###########\")\n",
    "print(\"After formatting 'eğitim' and 'nüfus' column\")\n",
    "for i in df[\"ilce\"].unique():\n",
    "    print(str(i)+\":\", \", \".join( str(i) for i in list(set(df[df[\"ilce\"] == i][\"eğitim\"])) if not pd.isnull(i)))\n",
    "print(\"------------\")\n",
    "for i in df[\"ilce\"].unique():\n",
    "    print(str(i)+\":\", \", \".join( str(i) for i in list(set(df[df[\"ilce\"] == i][\"nüfus\"])) if not pd.isnull(i)))\n",
    "\n",
    "print(\"------------\")\n",
    "print(\"The illeteracy rate\")\n",
    "for i in df[\"ilce\"].unique():\n",
    "    print(str(i)+\":\", \", \".join( str(i) for i in list(set(df[df[\"ilce\"] == i][\"okuma_yazma_bilmeyen\"])) if not pd.isnull(i)))"
   ]
  },
  {
   "cell_type": "code",
   "execution_count": 14,
   "id": "93d8baa0",
   "metadata": {
    "execution": {
     "iopub.execute_input": "2022-03-12T07:41:15.862541Z",
     "iopub.status.busy": "2022-03-12T07:41:15.857036Z",
     "iopub.status.idle": "2022-03-12T07:41:16.681138Z",
     "shell.execute_reply": "2022-03-12T07:41:16.680545Z",
     "shell.execute_reply.started": "2022-03-12T05:42:34.672961Z"
    },
    "papermill": {
     "duration": 0.906884,
     "end_time": "2022-03-12T07:41:16.681282",
     "exception": false,
     "start_time": "2022-03-12T07:41:15.774398",
     "status": "completed"
    },
    "tags": []
   },
   "outputs": [
    {
     "data": {
      "text/html": [
       "<div>\n",
       "<style scoped>\n",
       "    .dataframe tbody tr th:only-of-type {\n",
       "        vertical-align: middle;\n",
       "    }\n",
       "\n",
       "    .dataframe tbody tr th {\n",
       "        vertical-align: top;\n",
       "    }\n",
       "\n",
       "    .dataframe thead th {\n",
       "        text-align: right;\n",
       "    }\n",
       "</style>\n",
       "<table border=\"1\" class=\"dataframe\">\n",
       "  <thead>\n",
       "    <tr style=\"text-align: right;\">\n",
       "      <th></th>\n",
       "      <th>id</th>\n",
       "      <th>fiyat</th>\n",
       "      <th>oda_salon_sayisi</th>\n",
       "      <th>net_m2</th>\n",
       "      <th>bina_yasi</th>\n",
       "      <th>isinma_tipi</th>\n",
       "      <th>krediye_uygunluk</th>\n",
       "      <th>bulundugu_kat</th>\n",
       "      <th>banyo_sayisi</th>\n",
       "      <th>ilce</th>\n",
       "      <th>nüfus</th>\n",
       "      <th>eğitim</th>\n",
       "      <th>okuma_yazma_bilmeyen</th>\n",
       "    </tr>\n",
       "  </thead>\n",
       "  <tbody>\n",
       "    <tr>\n",
       "      <th>0</th>\n",
       "      <td>2612</td>\n",
       "      <td>275000.0</td>\n",
       "      <td>4.0</td>\n",
       "      <td>120.0</td>\n",
       "      <td>12.0</td>\n",
       "      <td>Kombi</td>\n",
       "      <td>Uygun</td>\n",
       "      <td>Kot 1</td>\n",
       "      <td>1.0</td>\n",
       "      <td>çankaya</td>\n",
       "      <td>925828.0</td>\n",
       "      <td>lisans</td>\n",
       "      <td>0.70</td>\n",
       "    </tr>\n",
       "    <tr>\n",
       "      <th>1</th>\n",
       "      <td>4819</td>\n",
       "      <td>700000.0</td>\n",
       "      <td>3.0</td>\n",
       "      <td>88.0</td>\n",
       "      <td>0.0</td>\n",
       "      <td>Merkezi(PayÖlçer)</td>\n",
       "      <td>Uygun</td>\n",
       "      <td>1. Kat</td>\n",
       "      <td>1.0</td>\n",
       "      <td>çankaya</td>\n",
       "      <td>925828.0</td>\n",
       "      <td>lisans</td>\n",
       "      <td>0.70</td>\n",
       "    </tr>\n",
       "    <tr>\n",
       "      <th>2</th>\n",
       "      <td>149</td>\n",
       "      <td>980000.0</td>\n",
       "      <td>5.0</td>\n",
       "      <td>230.0</td>\n",
       "      <td>30.0</td>\n",
       "      <td>Kombi</td>\n",
       "      <td>Uygun</td>\n",
       "      <td>3. Kat</td>\n",
       "      <td>2.0</td>\n",
       "      <td>çankaya</td>\n",
       "      <td>925828.0</td>\n",
       "      <td>lisans</td>\n",
       "      <td>0.70</td>\n",
       "    </tr>\n",
       "    <tr>\n",
       "      <th>3</th>\n",
       "      <td>3628</td>\n",
       "      <td>385000.0</td>\n",
       "      <td>4.0</td>\n",
       "      <td>120.0</td>\n",
       "      <td>22.0</td>\n",
       "      <td>Kombi</td>\n",
       "      <td>Uygun</td>\n",
       "      <td>2. Kat</td>\n",
       "      <td>1.0</td>\n",
       "      <td>keçiören</td>\n",
       "      <td>938565.0</td>\n",
       "      <td>lise</td>\n",
       "      <td>1.43</td>\n",
       "    </tr>\n",
       "    <tr>\n",
       "      <th>4</th>\n",
       "      <td>3936</td>\n",
       "      <td>700000.0</td>\n",
       "      <td>5.0</td>\n",
       "      <td>150.0</td>\n",
       "      <td>0.0</td>\n",
       "      <td>Kombi</td>\n",
       "      <td>Uygun</td>\n",
       "      <td>Ara Kat</td>\n",
       "      <td>2.0</td>\n",
       "      <td>çankaya</td>\n",
       "      <td>925828.0</td>\n",
       "      <td>lisans</td>\n",
       "      <td>0.70</td>\n",
       "    </tr>\n",
       "  </tbody>\n",
       "</table>\n",
       "</div>"
      ],
      "text/plain": [
       "     id     fiyat  oda_salon_sayisi  net_m2  bina_yasi        isinma_tipi  \\\n",
       "0  2612  275000.0               4.0   120.0       12.0              Kombi   \n",
       "1  4819  700000.0               3.0    88.0        0.0  Merkezi(PayÖlçer)   \n",
       "2   149  980000.0               5.0   230.0       30.0              Kombi   \n",
       "3  3628  385000.0               4.0   120.0       22.0              Kombi   \n",
       "4  3936  700000.0               5.0   150.0        0.0              Kombi   \n",
       "\n",
       "  krediye_uygunluk bulundugu_kat  banyo_sayisi      ilce     nüfus  eğitim  \\\n",
       "0            Uygun         Kot 1           1.0   çankaya  925828.0  lisans   \n",
       "1            Uygun        1. Kat           1.0   çankaya  925828.0  lisans   \n",
       "2            Uygun        3. Kat           2.0   çankaya  925828.0  lisans   \n",
       "3            Uygun        2. Kat           1.0  keçiören  938565.0    lise   \n",
       "4            Uygun       Ara Kat           2.0   çankaya  925828.0  lisans   \n",
       "\n",
       "   okuma_yazma_bilmeyen  \n",
       "0                  0.70  \n",
       "1                  0.70  \n",
       "2                  0.70  \n",
       "3                  1.43  \n",
       "4                  0.70  "
      ]
     },
     "execution_count": 14,
     "metadata": {},
     "output_type": "execute_result"
    }
   ],
   "source": [
    "# Nan values of \"nüfus\" and \"eğitim\", \"ilce\" and \"okuma_yazma_bilmeyen\" columns are filled.\n",
    "educ_dict = {\"çankaya\": \"lisans\", \"keçiören\": \"lise\", \"sincan\": \"lise\", \"mamak\": \"lise\"}\n",
    "cons_dict = {\"çankaya\": 925828.0, \"keçiören\": 938565.0, \"sincan\": 549108.0, \"mamak\": 669465.0}\n",
    "cons2_dict = {925828.0: 'çankaya', 938565.0: 'keçiören', 549108.0: 'sincan', 669465.0: 'mamak'}\n",
    "\n",
    "def nan_filler(row, target_col_name, base_col_name, d):\n",
    "    if pd.isnull(row[target_col_name]):\n",
    "        row[target_col_name] = d[row[base_col_name]]\n",
    "    return row\n",
    "\n",
    "df = df.apply(func=nan_filler, args=(\"nüfus\", \"ilce\", cons_dict) ,axis=1)\n",
    "df = df.apply(func=nan_filler, args=(\"eğitim\", \"ilce\", educ_dict) ,axis=1)\n",
    "df = df.apply(func=nan_filler, args=(\"ilce\", \"nüfus\", cons2_dict) ,axis=1)\n",
    "df.head()"
   ]
  },
  {
   "cell_type": "code",
   "execution_count": 15,
   "id": "84dfe6f6",
   "metadata": {
    "execution": {
     "iopub.execute_input": "2022-03-12T07:41:16.756604Z",
     "iopub.status.busy": "2022-03-12T07:41:16.755486Z",
     "iopub.status.idle": "2022-03-12T07:41:17.087348Z",
     "shell.execute_reply": "2022-03-12T07:41:17.087782Z",
     "shell.execute_reply.started": "2022-03-12T05:42:36.245193Z"
    },
    "papermill": {
     "duration": 0.372109,
     "end_time": "2022-03-12T07:41:17.087956",
     "exception": false,
     "start_time": "2022-03-12T07:41:16.715847",
     "status": "completed"
    },
    "tags": []
   },
   "outputs": [
    {
     "data": {
      "text/html": [
       "<div>\n",
       "<style scoped>\n",
       "    .dataframe tbody tr th:only-of-type {\n",
       "        vertical-align: middle;\n",
       "    }\n",
       "\n",
       "    .dataframe tbody tr th {\n",
       "        vertical-align: top;\n",
       "    }\n",
       "\n",
       "    .dataframe thead th {\n",
       "        text-align: right;\n",
       "    }\n",
       "</style>\n",
       "<table border=\"1\" class=\"dataframe\">\n",
       "  <thead>\n",
       "    <tr style=\"text-align: right;\">\n",
       "      <th></th>\n",
       "      <th>id</th>\n",
       "      <th>fiyat</th>\n",
       "      <th>oda_salon_sayisi</th>\n",
       "      <th>net_m2</th>\n",
       "      <th>bina_yasi</th>\n",
       "      <th>isinma_tipi</th>\n",
       "      <th>krediye_uygunluk</th>\n",
       "      <th>bulundugu_kat</th>\n",
       "      <th>banyo_sayisi</th>\n",
       "      <th>ilce</th>\n",
       "      <th>nüfus</th>\n",
       "      <th>eğitim</th>\n",
       "      <th>okuma_yazma_bilmeyen</th>\n",
       "    </tr>\n",
       "  </thead>\n",
       "  <tbody>\n",
       "    <tr>\n",
       "      <th>25</th>\n",
       "      <td>4898</td>\n",
       "      <td>4250000.0</td>\n",
       "      <td>5.0</td>\n",
       "      <td>280.0</td>\n",
       "      <td>30.0</td>\n",
       "      <td>Merkezi</td>\n",
       "      <td>Uygun</td>\n",
       "      <td>4. Kat</td>\n",
       "      <td>4.0</td>\n",
       "      <td>keçiören</td>\n",
       "      <td>938565.0</td>\n",
       "      <td>lise</td>\n",
       "      <td>0.0</td>\n",
       "    </tr>\n",
       "    <tr>\n",
       "      <th>409</th>\n",
       "      <td>2389</td>\n",
       "      <td>780000.0</td>\n",
       "      <td>4.0</td>\n",
       "      <td>90.0</td>\n",
       "      <td>5.0</td>\n",
       "      <td>Kombi</td>\n",
       "      <td>Uygun</td>\n",
       "      <td>Yüksek Giriş</td>\n",
       "      <td>1.0</td>\n",
       "      <td>keçiören</td>\n",
       "      <td>938565.0</td>\n",
       "      <td>lise</td>\n",
       "      <td>0.0</td>\n",
       "    </tr>\n",
       "    <tr>\n",
       "      <th>503</th>\n",
       "      <td>3591</td>\n",
       "      <td>575000.0</td>\n",
       "      <td>5.0</td>\n",
       "      <td>155.0</td>\n",
       "      <td>14.0</td>\n",
       "      <td>Kombi</td>\n",
       "      <td>Uygun</td>\n",
       "      <td>3. Kat</td>\n",
       "      <td>2.0</td>\n",
       "      <td>çankaya</td>\n",
       "      <td>925828.0</td>\n",
       "      <td>lisans</td>\n",
       "      <td>0.0</td>\n",
       "    </tr>\n",
       "    <tr>\n",
       "      <th>587</th>\n",
       "      <td>3319</td>\n",
       "      <td>260000.0</td>\n",
       "      <td>4.0</td>\n",
       "      <td>110.0</td>\n",
       "      <td>27.0</td>\n",
       "      <td>Kombi</td>\n",
       "      <td>Uygun</td>\n",
       "      <td>Kot 1</td>\n",
       "      <td>1.0</td>\n",
       "      <td>keçiören</td>\n",
       "      <td>938565.0</td>\n",
       "      <td>lise</td>\n",
       "      <td>0.0</td>\n",
       "    </tr>\n",
       "    <tr>\n",
       "      <th>604</th>\n",
       "      <td>3454</td>\n",
       "      <td>695000.0</td>\n",
       "      <td>7.0</td>\n",
       "      <td>NaN</td>\n",
       "      <td>25.0</td>\n",
       "      <td>Kombi</td>\n",
       "      <td>Uygun</td>\n",
       "      <td>3. Kat</td>\n",
       "      <td>2.0</td>\n",
       "      <td>çankaya</td>\n",
       "      <td>925828.0</td>\n",
       "      <td>lisans</td>\n",
       "      <td>0.0</td>\n",
       "    </tr>\n",
       "  </tbody>\n",
       "</table>\n",
       "</div>"
      ],
      "text/plain": [
       "       id      fiyat  oda_salon_sayisi  net_m2  bina_yasi isinma_tipi  \\\n",
       "25   4898  4250000.0               5.0   280.0       30.0     Merkezi   \n",
       "409  2389   780000.0               4.0    90.0        5.0       Kombi   \n",
       "503  3591   575000.0               5.0   155.0       14.0       Kombi   \n",
       "587  3319   260000.0               4.0   110.0       27.0       Kombi   \n",
       "604  3454   695000.0               7.0     NaN       25.0       Kombi   \n",
       "\n",
       "    krediye_uygunluk bulundugu_kat  banyo_sayisi      ilce     nüfus  eğitim  \\\n",
       "25             Uygun        4. Kat           4.0  keçiören  938565.0    lise   \n",
       "409            Uygun  Yüksek Giriş           1.0  keçiören  938565.0    lise   \n",
       "503            Uygun        3. Kat           2.0   çankaya  925828.0  lisans   \n",
       "587            Uygun         Kot 1           1.0  keçiören  938565.0    lise   \n",
       "604            Uygun        3. Kat           2.0   çankaya  925828.0  lisans   \n",
       "\n",
       "     okuma_yazma_bilmeyen  \n",
       "25                    0.0  \n",
       "409                   0.0  \n",
       "503                   0.0  \n",
       "587                   0.0  \n",
       "604                   0.0  "
      ]
     },
     "execution_count": 15,
     "metadata": {},
     "output_type": "execute_result"
    }
   ],
   "source": [
    "# We have to fill these values of \"okuma_yazma_bilmeyen\" column because the illeteracy rate of a specific distict \n",
    "# should be same but these are filled with 0 instead of the following values.\n",
    "illetracy_dict = {\"çankaya\": 0.70, \"keçiören\": 1.43, \"sincan\": 1.44, \"mamak\": 1.90}\n",
    "\n",
    "# First let us fill the nan values in \"okuma_yazma_bilmeyen\" column\n",
    "df = df.apply(func=nan_filler, args=(\"okuma_yazma_bilmeyen\", \"ilce\", illetracy_dict), axis=1)\n",
    "\n",
    "# Then let us continue with zeros. \n",
    "df[df[\"okuma_yazma_bilmeyen\"] == 0].head()"
   ]
  },
  {
   "cell_type": "code",
   "execution_count": 16,
   "id": "c17d030d",
   "metadata": {
    "execution": {
     "iopub.execute_input": "2022-03-12T07:41:17.162489Z",
     "iopub.status.busy": "2022-03-12T07:41:17.161861Z",
     "iopub.status.idle": "2022-03-12T07:41:17.479320Z",
     "shell.execute_reply": "2022-03-12T07:41:17.478666Z",
     "shell.execute_reply.started": "2022-03-12T05:42:36.545430Z"
    },
    "papermill": {
     "duration": 0.356476,
     "end_time": "2022-03-12T07:41:17.479483",
     "exception": false,
     "start_time": "2022-03-12T07:41:17.123007",
     "status": "completed"
    },
    "tags": []
   },
   "outputs": [],
   "source": [
    "def zero_filler(row, target_col_name, base_col_name, d):\n",
    "    if row[target_col_name] == 0:\n",
    "        row[target_col_name] = d[row[base_col_name]]\n",
    "    return row\n",
    "df = df.apply(func=zero_filler, args=(\"okuma_yazma_bilmeyen\", \"ilce\", illetracy_dict), axis=1)"
   ]
  },
  {
   "cell_type": "code",
   "execution_count": 17,
   "id": "2837850c",
   "metadata": {
    "execution": {
     "iopub.execute_input": "2022-03-12T07:41:17.555662Z",
     "iopub.status.busy": "2022-03-12T07:41:17.554972Z",
     "iopub.status.idle": "2022-03-12T07:41:17.563961Z",
     "shell.execute_reply": "2022-03-12T07:41:17.563290Z",
     "shell.execute_reply.started": "2022-03-12T05:42:36.942340Z"
    },
    "papermill": {
     "duration": 0.049452,
     "end_time": "2022-03-12T07:41:17.564102",
     "exception": false,
     "start_time": "2022-03-12T07:41:17.514650",
     "status": "completed"
    },
    "tags": []
   },
   "outputs": [],
   "source": [
    "# Now we are ready to drop duplicated rows after the formatting and filling.\n",
    "df = df.drop_duplicates()"
   ]
  },
  {
   "cell_type": "code",
   "execution_count": 18,
   "id": "b4bb7e4a",
   "metadata": {
    "execution": {
     "iopub.execute_input": "2022-03-12T07:41:17.640745Z",
     "iopub.status.busy": "2022-03-12T07:41:17.640092Z",
     "iopub.status.idle": "2022-03-12T07:41:17.647348Z",
     "shell.execute_reply": "2022-03-12T07:41:17.646739Z",
     "shell.execute_reply.started": "2022-03-12T05:42:36.961889Z"
    },
    "papermill": {
     "duration": 0.047533,
     "end_time": "2022-03-12T07:41:17.647514",
     "exception": false,
     "start_time": "2022-03-12T07:41:17.599981",
     "status": "completed"
    },
    "tags": []
   },
   "outputs": [],
   "source": [
    "# Finally, the nan values are dropped. \n",
    "df = df.dropna()"
   ]
  },
  {
   "cell_type": "markdown",
   "id": "82fd4f8d",
   "metadata": {
    "papermill": {
     "duration": 0.035135,
     "end_time": "2022-03-12T07:41:17.717054",
     "exception": false,
     "start_time": "2022-03-12T07:41:17.681919",
     "status": "completed"
    },
    "tags": []
   },
   "source": [
    "#### SORU 2: Verilen veri seti üzerinden iki tane sayısal veri belirleyin ve bu değişkenler arasındaki ilişkiyi inceleyin. İncelerken kullandığınız yöntemleri ve yorumları açıklayın. "
   ]
  },
  {
   "cell_type": "code",
   "execution_count": 19,
   "id": "944477d6",
   "metadata": {
    "execution": {
     "iopub.execute_input": "2022-03-12T07:41:17.797179Z",
     "iopub.status.busy": "2022-03-12T07:41:17.796115Z",
     "iopub.status.idle": "2022-03-12T07:41:18.544356Z",
     "shell.execute_reply": "2022-03-12T07:41:18.544877Z",
     "shell.execute_reply.started": "2022-03-12T05:42:36.975754Z"
    },
    "papermill": {
     "duration": 0.793676,
     "end_time": "2022-03-12T07:41:18.545052",
     "exception": false,
     "start_time": "2022-03-12T07:41:17.751376",
     "status": "completed"
    },
    "tags": []
   },
   "outputs": [
    {
     "data": {
      "image/png": "[encoded data removed]",
      "text/plain": [
       "<Figure size 1440x480 with 1 Axes>"
      ]
     },
     "metadata": {
      "needs_background": "light"
     },
     "output_type": "display_data"
    }
   ],
   "source": [
    "# Let us inverstigate the relationship between \"fiyat\" and \"net_m2\" by using seaborn library and pearsonr correlation function.\n",
    "fiyat = df[\"fiyat\"]\n",
    "m2 = df[\"net_m2\"]\n",
    "fig, ax = plt.subplots(figsize=(12,4), dpi=120)\n",
    "sns.regplot(x=\"fiyat\", y=\"net_m2\", data=df, ax=ax, \n",
    "            scatter_kws={\"alpha\": 0.4, \"color\":\"#0E185F\"}, \n",
    "            line_kws={\"color\": \"#2FA4FF\"}\n",
    ")\n",
    "ax.set_title(\"Area & Price of Home\", alpha=0.7)\n",
    "ax.set_xlabel(\"The price of the property (TL)\")\n",
    "ax.set_ylabel(\"Area $m^2$\")\n",
    "plt.show()"
   ]
  },
  {
   "cell_type": "code",
   "execution_count": 20,
   "id": "70c85360",
   "metadata": {
    "execution": {
     "iopub.execute_input": "2022-03-12T07:41:18.625175Z",
     "iopub.status.busy": "2022-03-12T07:41:18.622804Z",
     "iopub.status.idle": "2022-03-12T07:41:18.628922Z",
     "shell.execute_reply": "2022-03-12T07:41:18.629400Z",
     "shell.execute_reply.started": "2022-03-12T05:42:37.601050Z"
    },
    "papermill": {
     "duration": 0.047343,
     "end_time": "2022-03-12T07:41:18.629598",
     "exception": false,
     "start_time": "2022-03-12T07:41:18.582255",
     "status": "completed"
    },
    "tags": []
   },
   "outputs": [
    {
     "name": "stdout",
     "output_type": "stream",
     "text": [
      "The pearson correleation coefficient is 0.5868398936757913. We can say that area and the price of a house are moderately correlated.\n"
     ]
    }
   ],
   "source": [
    "r, p_value = pearsonr(df[\"fiyat\"], df[\"net_m2\"])\n",
    "print(f\"The pearson correleation coefficient is {r}. We can say that area and the price of a house are moderately correlated.\")"
   ]
  },
  {
   "cell_type": "markdown",
   "id": "a0e5af63",
   "metadata": {
    "papermill": {
     "duration": 0.037379,
     "end_time": "2022-03-12T07:41:18.705458",
     "exception": false,
     "start_time": "2022-03-12T07:41:18.668079",
     "status": "completed"
    },
    "tags": []
   },
   "source": [
    "#### SORU 3: Verilen ilçelere göre kaç tane merkezi ısınmaya sahip 2.kat ve üzeri katlarda bulunan evler vardır? Grafik üzerinde gösteriniz. Grafiğinizi oluştururken yaptığınız operasyonları açıklayın."
   ]
  },
  {
   "cell_type": "code",
   "execution_count": 21,
   "id": "2bbbfba8",
   "metadata": {
    "execution": {
     "iopub.execute_input": "2022-03-12T07:41:18.784411Z",
     "iopub.status.busy": "2022-03-12T07:41:18.783465Z",
     "iopub.status.idle": "2022-03-12T07:41:18.791414Z",
     "shell.execute_reply": "2022-03-12T07:41:18.791951Z",
     "shell.execute_reply.started": "2022-03-12T05:42:37.639436Z"
    },
    "papermill": {
     "duration": 0.049258,
     "end_time": "2022-03-12T07:41:18.792120",
     "exception": false,
     "start_time": "2022-03-12T07:41:18.742862",
     "status": "completed"
    },
    "tags": []
   },
   "outputs": [],
   "source": [
    "# Let us make ordered categorical data type for \"bulundugu_kat\" column.\n",
    "ls = ['Kot 3', 'Kot 2', 'Kot 1', 'Bodrum', 'Zemin', 'Giriş Katı', 'Ara Kat', 'Bahçe Katı', 'Yüksek Giriş', '1. Kat', '2. Kat', \n",
    "      '3. Kat', '4. Kat', 'Villa Katı', '5. Kat', '6. Kat', '7. Kat', '8. Kat', '9. Kat', '10. Kat', '11. Kat', '12. Kat', \n",
    "      '13. Kat', '14. Kat', '15. Kat', '16. Kat', '17. Kat', '18. Kat', '19. Kat', '20. Kat', '21 ve üzeri', 'Çatı Katı', \n",
    "      'En Üst Kat', 'Teras Katı']\n",
    "\n",
    "df[\"bulundugu_kat\"] = df[\"bulundugu_kat\"].astype(pd.CategoricalDtype(ls, ordered=True))"
   ]
  },
  {
   "cell_type": "code",
   "execution_count": 22,
   "id": "7a5a150e",
   "metadata": {
    "execution": {
     "iopub.execute_input": "2022-03-12T07:41:18.870320Z",
     "iopub.status.busy": "2022-03-12T07:41:18.869737Z",
     "iopub.status.idle": "2022-03-12T07:41:18.891062Z",
     "shell.execute_reply": "2022-03-12T07:41:18.891553Z",
     "shell.execute_reply.started": "2022-03-12T05:59:59.922550Z"
    },
    "papermill": {
     "duration": 0.062033,
     "end_time": "2022-03-12T07:41:18.891722",
     "exception": false,
     "start_time": "2022-03-12T07:41:18.829689",
     "status": "completed"
    },
    "tags": []
   },
   "outputs": [
    {
     "data": {
      "text/html": [
       "<div>\n",
       "<style scoped>\n",
       "    .dataframe tbody tr th:only-of-type {\n",
       "        vertical-align: middle;\n",
       "    }\n",
       "\n",
       "    .dataframe tbody tr th {\n",
       "        vertical-align: top;\n",
       "    }\n",
       "\n",
       "    .dataframe thead th {\n",
       "        text-align: right;\n",
       "    }\n",
       "</style>\n",
       "<table border=\"1\" class=\"dataframe\">\n",
       "  <thead>\n",
       "    <tr style=\"text-align: right;\">\n",
       "      <th></th>\n",
       "      <th>id</th>\n",
       "      <th>fiyat</th>\n",
       "      <th>oda_salon_sayisi</th>\n",
       "      <th>net_m2</th>\n",
       "      <th>bina_yasi</th>\n",
       "      <th>isinma_tipi</th>\n",
       "      <th>krediye_uygunluk</th>\n",
       "      <th>bulundugu_kat</th>\n",
       "      <th>banyo_sayisi</th>\n",
       "      <th>ilce</th>\n",
       "      <th>nüfus</th>\n",
       "      <th>eğitim</th>\n",
       "      <th>okuma_yazma_bilmeyen</th>\n",
       "    </tr>\n",
       "  </thead>\n",
       "  <tbody>\n",
       "    <tr>\n",
       "      <th>8</th>\n",
       "      <td>3313</td>\n",
       "      <td>1250000.0</td>\n",
       "      <td>5.0</td>\n",
       "      <td>195.0</td>\n",
       "      <td>0.0</td>\n",
       "      <td>Merkezi(PayÖlçer)</td>\n",
       "      <td>Uygun</td>\n",
       "      <td>4. Kat</td>\n",
       "      <td>2.0</td>\n",
       "      <td>keçiören</td>\n",
       "      <td>938565.0</td>\n",
       "      <td>lise</td>\n",
       "      <td>1.43</td>\n",
       "    </tr>\n",
       "    <tr>\n",
       "      <th>18</th>\n",
       "      <td>2053</td>\n",
       "      <td>850000.0</td>\n",
       "      <td>3.0</td>\n",
       "      <td>110.0</td>\n",
       "      <td>3.0</td>\n",
       "      <td>Merkezi(PayÖlçer)</td>\n",
       "      <td>Uygun</td>\n",
       "      <td>7. Kat</td>\n",
       "      <td>2.0</td>\n",
       "      <td>keçiören</td>\n",
       "      <td>938565.0</td>\n",
       "      <td>lise</td>\n",
       "      <td>1.43</td>\n",
       "    </tr>\n",
       "    <tr>\n",
       "      <th>19</th>\n",
       "      <td>2125</td>\n",
       "      <td>739000.0</td>\n",
       "      <td>5.0</td>\n",
       "      <td>150.0</td>\n",
       "      <td>22.0</td>\n",
       "      <td>Merkezi</td>\n",
       "      <td>Uygun</td>\n",
       "      <td>2. Kat</td>\n",
       "      <td>2.0</td>\n",
       "      <td>çankaya</td>\n",
       "      <td>925828.0</td>\n",
       "      <td>lisans</td>\n",
       "      <td>0.70</td>\n",
       "    </tr>\n",
       "    <tr>\n",
       "      <th>22</th>\n",
       "      <td>1041</td>\n",
       "      <td>1875000.0</td>\n",
       "      <td>6.0</td>\n",
       "      <td>350.0</td>\n",
       "      <td>7.0</td>\n",
       "      <td>Merkezi(PayÖlçer)</td>\n",
       "      <td>Uygun</td>\n",
       "      <td>21 ve üzeri</td>\n",
       "      <td>2.0</td>\n",
       "      <td>çankaya</td>\n",
       "      <td>925828.0</td>\n",
       "      <td>lisans</td>\n",
       "      <td>0.70</td>\n",
       "    </tr>\n",
       "    <tr>\n",
       "      <th>23</th>\n",
       "      <td>4595</td>\n",
       "      <td>710000.0</td>\n",
       "      <td>4.0</td>\n",
       "      <td>110.0</td>\n",
       "      <td>40.0</td>\n",
       "      <td>Merkezi</td>\n",
       "      <td>Uygun</td>\n",
       "      <td>2. Kat</td>\n",
       "      <td>1.0</td>\n",
       "      <td>keçiören</td>\n",
       "      <td>938565.0</td>\n",
       "      <td>lise</td>\n",
       "      <td>1.43</td>\n",
       "    </tr>\n",
       "  </tbody>\n",
       "</table>\n",
       "</div>"
      ],
      "text/plain": [
       "      id      fiyat  oda_salon_sayisi  net_m2  bina_yasi        isinma_tipi  \\\n",
       "8   3313  1250000.0               5.0   195.0        0.0  Merkezi(PayÖlçer)   \n",
       "18  2053   850000.0               3.0   110.0        3.0  Merkezi(PayÖlçer)   \n",
       "19  2125   739000.0               5.0   150.0       22.0            Merkezi   \n",
       "22  1041  1875000.0               6.0   350.0        7.0  Merkezi(PayÖlçer)   \n",
       "23  4595   710000.0               4.0   110.0       40.0            Merkezi   \n",
       "\n",
       "   krediye_uygunluk bulundugu_kat  banyo_sayisi      ilce     nüfus  eğitim  \\\n",
       "8             Uygun        4. Kat           2.0  keçiören  938565.0    lise   \n",
       "18            Uygun        7. Kat           2.0  keçiören  938565.0    lise   \n",
       "19            Uygun        2. Kat           2.0   çankaya  925828.0  lisans   \n",
       "22            Uygun   21 ve üzeri           2.0   çankaya  925828.0  lisans   \n",
       "23            Uygun        2. Kat           1.0  keçiören  938565.0    lise   \n",
       "\n",
       "    okuma_yazma_bilmeyen  \n",
       "8                   1.43  \n",
       "18                  1.43  \n",
       "19                  0.70  \n",
       "22                  0.70  \n",
       "23                  1.43  "
      ]
     },
     "execution_count": 22,
     "metadata": {},
     "output_type": "execute_result"
    }
   ],
   "source": [
    "merkezi_df = df[(df[\"bulundugu_kat\"] >= \"2. Kat\") & ( df[\"isinma_tipi\"].str.contains(\"Merkezi\") )]\n",
    "merkezi_df.head()"
   ]
  },
  {
   "cell_type": "code",
   "execution_count": 23,
   "id": "c745bd6f",
   "metadata": {
    "execution": {
     "iopub.execute_input": "2022-03-12T07:41:18.971881Z",
     "iopub.status.busy": "2022-03-12T07:41:18.971253Z",
     "iopub.status.idle": "2022-03-12T07:41:18.982768Z",
     "shell.execute_reply": "2022-03-12T07:41:18.982275Z",
     "shell.execute_reply.started": "2022-03-12T06:00:09.120026Z"
    },
    "papermill": {
     "duration": 0.052909,
     "end_time": "2022-03-12T07:41:18.982910",
     "exception": false,
     "start_time": "2022-03-12T07:41:18.930001",
     "status": "completed"
    },
    "tags": []
   },
   "outputs": [
    {
     "data": {
      "text/html": [
       "<div>\n",
       "<style scoped>\n",
       "    .dataframe tbody tr th:only-of-type {\n",
       "        vertical-align: middle;\n",
       "    }\n",
       "\n",
       "    .dataframe tbody tr th {\n",
       "        vertical-align: top;\n",
       "    }\n",
       "\n",
       "    .dataframe thead th {\n",
       "        text-align: right;\n",
       "    }\n",
       "</style>\n",
       "<table border=\"1\" class=\"dataframe\">\n",
       "  <thead>\n",
       "    <tr style=\"text-align: right;\">\n",
       "      <th></th>\n",
       "      <th>ilce</th>\n",
       "      <th>id</th>\n",
       "    </tr>\n",
       "  </thead>\n",
       "  <tbody>\n",
       "    <tr>\n",
       "      <th>0</th>\n",
       "      <td>keçiören</td>\n",
       "      <td>314</td>\n",
       "    </tr>\n",
       "    <tr>\n",
       "      <th>1</th>\n",
       "      <td>mamak</td>\n",
       "      <td>1</td>\n",
       "    </tr>\n",
       "    <tr>\n",
       "      <th>2</th>\n",
       "      <td>sincan</td>\n",
       "      <td>74</td>\n",
       "    </tr>\n",
       "    <tr>\n",
       "      <th>3</th>\n",
       "      <td>çankaya</td>\n",
       "      <td>320</td>\n",
       "    </tr>\n",
       "  </tbody>\n",
       "</table>\n",
       "</div>"
      ],
      "text/plain": [
       "       ilce   id\n",
       "0  keçiören  314\n",
       "1     mamak    1\n",
       "2    sincan   74\n",
       "3   çankaya  320"
      ]
     },
     "execution_count": 23,
     "metadata": {},
     "output_type": "execute_result"
    }
   ],
   "source": [
    "df_for_hist = merkezi_df.groupby(\"ilce\").agg({\"id\": \"count\"}).reset_index()\n",
    "df_for_hist"
   ]
  },
  {
   "cell_type": "code",
   "execution_count": 24,
   "id": "52f13131",
   "metadata": {
    "execution": {
     "iopub.execute_input": "2022-03-12T07:41:19.085835Z",
     "iopub.status.busy": "2022-03-12T07:41:19.067885Z",
     "iopub.status.idle": "2022-03-12T07:41:19.293612Z",
     "shell.execute_reply": "2022-03-12T07:41:19.294080Z",
     "shell.execute_reply.started": "2022-03-12T06:08:26.854773Z"
    },
    "papermill": {
     "duration": 0.272496,
     "end_time": "2022-03-12T07:41:19.294248",
     "exception": false,
     "start_time": "2022-03-12T07:41:19.021752",
     "status": "completed"
    },
    "tags": []
   },
   "outputs": [
    {
     "data": {
      "image/png": "[encoded data removed]",
      "text/plain": [
       "<Figure size 1440x480 with 1 Axes>"
      ]
     },
     "metadata": {
      "needs_background": "light"
     },
     "output_type": "display_data"
    }
   ],
   "source": [
    "fig, ax = plt.subplots(figsize=(12,4), dpi=120)\n",
    "sns.barplot(x=\"ilce\", y=\"id\", data=df_for_hist, ax=ax)\n",
    "ax.grid(linestyle=\"dotted\")\n",
    "ax.set_xlabel(\"İlce İsimleri\")\n",
    "ax.set_ylabel(\"Merkezi Isıtmalı Ev Sayısı\")\n",
    "plt.show()\n",
    "# Interestingly, there is only 1 house in mamak with Merkezi heating. "
   ]
  },
  {
   "cell_type": "markdown",
   "id": "c43d53f9",
   "metadata": {
    "papermill": {
     "duration": 0.0397,
     "end_time": "2022-03-12T07:41:19.374045",
     "exception": false,
     "start_time": "2022-03-12T07:41:19.334345",
     "status": "completed"
    },
    "tags": []
   },
   "source": [
    "#### SORU 4: Eğitim düzeyi lisans olanların oranının yüksek olduğu ve fiyatı 5000’den az olan bir evde oturmak isteyen biri hangi ilçedeki evlere bakmalıdır? Grafik çıkartarak, çıkarımlarınızı yazılı olarak ifade edin ve grafiğinizi oluştururken yaptığınız operasyonları açıklayın."
   ]
  },
  {
   "cell_type": "code",
   "execution_count": 25,
   "id": "130e964e",
   "metadata": {
    "execution": {
     "iopub.execute_input": "2022-03-12T07:41:19.464299Z",
     "iopub.status.busy": "2022-03-12T07:41:19.463312Z",
     "iopub.status.idle": "2022-03-12T07:41:19.482659Z",
     "shell.execute_reply": "2022-03-12T07:41:19.482123Z",
     "shell.execute_reply.started": "2022-03-12T06:16:32.381809Z"
    },
    "papermill": {
     "duration": 0.066995,
     "end_time": "2022-03-12T07:41:19.482850",
     "exception": false,
     "start_time": "2022-03-12T07:41:19.415855",
     "status": "completed"
    },
    "tags": []
   },
   "outputs": [
    {
     "data": {
      "text/html": [
       "<div>\n",
       "<style scoped>\n",
       "    .dataframe tbody tr th:only-of-type {\n",
       "        vertical-align: middle;\n",
       "    }\n",
       "\n",
       "    .dataframe tbody tr th {\n",
       "        vertical-align: top;\n",
       "    }\n",
       "\n",
       "    .dataframe thead th {\n",
       "        text-align: right;\n",
       "    }\n",
       "</style>\n",
       "<table border=\"1\" class=\"dataframe\">\n",
       "  <thead>\n",
       "    <tr style=\"text-align: right;\">\n",
       "      <th></th>\n",
       "      <th>id</th>\n",
       "      <th>fiyat</th>\n",
       "      <th>oda_salon_sayisi</th>\n",
       "      <th>net_m2</th>\n",
       "      <th>bina_yasi</th>\n",
       "      <th>isinma_tipi</th>\n",
       "      <th>krediye_uygunluk</th>\n",
       "      <th>bulundugu_kat</th>\n",
       "      <th>banyo_sayisi</th>\n",
       "      <th>ilce</th>\n",
       "      <th>nüfus</th>\n",
       "      <th>eğitim</th>\n",
       "      <th>okuma_yazma_bilmeyen</th>\n",
       "    </tr>\n",
       "  </thead>\n",
       "  <tbody>\n",
       "    <tr>\n",
       "      <th>1031</th>\n",
       "      <td>3090</td>\n",
       "      <td>1085.0</td>\n",
       "      <td>4.0</td>\n",
       "      <td>128.0</td>\n",
       "      <td>15.0</td>\n",
       "      <td>Merkezi</td>\n",
       "      <td>Uygun</td>\n",
       "      <td>10. Kat</td>\n",
       "      <td>2.0</td>\n",
       "      <td>çankaya</td>\n",
       "      <td>925828.0</td>\n",
       "      <td>lisans</td>\n",
       "      <td>0.7</td>\n",
       "    </tr>\n",
       "    <tr>\n",
       "      <th>1561</th>\n",
       "      <td>2857</td>\n",
       "      <td>355.0</td>\n",
       "      <td>3.0</td>\n",
       "      <td>115.0</td>\n",
       "      <td>13.0</td>\n",
       "      <td>Kombi</td>\n",
       "      <td>Uygun</td>\n",
       "      <td>4. Kat</td>\n",
       "      <td>1.0</td>\n",
       "      <td>çankaya</td>\n",
       "      <td>925828.0</td>\n",
       "      <td>lisans</td>\n",
       "      <td>0.7</td>\n",
       "    </tr>\n",
       "    <tr>\n",
       "      <th>2300</th>\n",
       "      <td>1156</td>\n",
       "      <td>325.0</td>\n",
       "      <td>4.0</td>\n",
       "      <td>95.0</td>\n",
       "      <td>0.0</td>\n",
       "      <td>Kombi</td>\n",
       "      <td>Uygun</td>\n",
       "      <td>4. Kat</td>\n",
       "      <td>2.0</td>\n",
       "      <td>çankaya</td>\n",
       "      <td>925828.0</td>\n",
       "      <td>lisans</td>\n",
       "      <td>0.7</td>\n",
       "    </tr>\n",
       "    <tr>\n",
       "      <th>2333</th>\n",
       "      <td>2163</td>\n",
       "      <td>415.0</td>\n",
       "      <td>4.0</td>\n",
       "      <td>110.0</td>\n",
       "      <td>0.0</td>\n",
       "      <td>Kombi</td>\n",
       "      <td>Uygun</td>\n",
       "      <td>2. Kat</td>\n",
       "      <td>1.0</td>\n",
       "      <td>çankaya</td>\n",
       "      <td>925828.0</td>\n",
       "      <td>lisans</td>\n",
       "      <td>0.7</td>\n",
       "    </tr>\n",
       "    <tr>\n",
       "      <th>2413</th>\n",
       "      <td>3741</td>\n",
       "      <td>1000.0</td>\n",
       "      <td>4.0</td>\n",
       "      <td>140.0</td>\n",
       "      <td>0.0</td>\n",
       "      <td>Kombi</td>\n",
       "      <td>Uygun</td>\n",
       "      <td>4. Kat</td>\n",
       "      <td>2.0</td>\n",
       "      <td>çankaya</td>\n",
       "      <td>925828.0</td>\n",
       "      <td>lisans</td>\n",
       "      <td>0.7</td>\n",
       "    </tr>\n",
       "    <tr>\n",
       "      <th>2752</th>\n",
       "      <td>2679</td>\n",
       "      <td>779.0</td>\n",
       "      <td>5.0</td>\n",
       "      <td>165.0</td>\n",
       "      <td>15.0</td>\n",
       "      <td>Kombi</td>\n",
       "      <td>Uygun</td>\n",
       "      <td>5. Kat</td>\n",
       "      <td>2.0</td>\n",
       "      <td>çankaya</td>\n",
       "      <td>925828.0</td>\n",
       "      <td>lisans</td>\n",
       "      <td>0.7</td>\n",
       "    </tr>\n",
       "    <tr>\n",
       "      <th>2890</th>\n",
       "      <td>4646</td>\n",
       "      <td>330.0</td>\n",
       "      <td>4.0</td>\n",
       "      <td>110.0</td>\n",
       "      <td>10.0</td>\n",
       "      <td>Kombi</td>\n",
       "      <td>Uygun</td>\n",
       "      <td>1. Kat</td>\n",
       "      <td>1.0</td>\n",
       "      <td>çankaya</td>\n",
       "      <td>925828.0</td>\n",
       "      <td>lisans</td>\n",
       "      <td>0.7</td>\n",
       "    </tr>\n",
       "    <tr>\n",
       "      <th>2917</th>\n",
       "      <td>2242</td>\n",
       "      <td>330.0</td>\n",
       "      <td>3.0</td>\n",
       "      <td>75.0</td>\n",
       "      <td>35.0</td>\n",
       "      <td>Merkezi</td>\n",
       "      <td>Uygun</td>\n",
       "      <td>Bahçe Katı</td>\n",
       "      <td>1.0</td>\n",
       "      <td>çankaya</td>\n",
       "      <td>925828.0</td>\n",
       "      <td>lisans</td>\n",
       "      <td>0.7</td>\n",
       "    </tr>\n",
       "    <tr>\n",
       "      <th>3413</th>\n",
       "      <td>4398</td>\n",
       "      <td>595.0</td>\n",
       "      <td>4.0</td>\n",
       "      <td>125.0</td>\n",
       "      <td>25.0</td>\n",
       "      <td>Kombi</td>\n",
       "      <td>Uygun</td>\n",
       "      <td>2. Kat</td>\n",
       "      <td>2.0</td>\n",
       "      <td>çankaya</td>\n",
       "      <td>925828.0</td>\n",
       "      <td>lisans</td>\n",
       "      <td>0.7</td>\n",
       "    </tr>\n",
       "    <tr>\n",
       "      <th>4042</th>\n",
       "      <td>4202</td>\n",
       "      <td>520.0</td>\n",
       "      <td>5.0</td>\n",
       "      <td>145.0</td>\n",
       "      <td>0.0</td>\n",
       "      <td>Kombi</td>\n",
       "      <td>Uygun</td>\n",
       "      <td>Bahçe Katı</td>\n",
       "      <td>2.0</td>\n",
       "      <td>çankaya</td>\n",
       "      <td>925828.0</td>\n",
       "      <td>lisans</td>\n",
       "      <td>0.7</td>\n",
       "    </tr>\n",
       "  </tbody>\n",
       "</table>\n",
       "</div>"
      ],
      "text/plain": [
       "        id   fiyat  oda_salon_sayisi  net_m2  bina_yasi isinma_tipi  \\\n",
       "1031  3090  1085.0               4.0   128.0       15.0     Merkezi   \n",
       "1561  2857   355.0               3.0   115.0       13.0       Kombi   \n",
       "2300  1156   325.0               4.0    95.0        0.0       Kombi   \n",
       "2333  2163   415.0               4.0   110.0        0.0       Kombi   \n",
       "2413  3741  1000.0               4.0   140.0        0.0       Kombi   \n",
       "2752  2679   779.0               5.0   165.0       15.0       Kombi   \n",
       "2890  4646   330.0               4.0   110.0       10.0       Kombi   \n",
       "2917  2242   330.0               3.0    75.0       35.0     Merkezi   \n",
       "3413  4398   595.0               4.0   125.0       25.0       Kombi   \n",
       "4042  4202   520.0               5.0   145.0        0.0       Kombi   \n",
       "\n",
       "     krediye_uygunluk bulundugu_kat  banyo_sayisi     ilce     nüfus  eğitim  \\\n",
       "1031            Uygun       10. Kat           2.0  çankaya  925828.0  lisans   \n",
       "1561            Uygun        4. Kat           1.0  çankaya  925828.0  lisans   \n",
       "2300            Uygun        4. Kat           2.0  çankaya  925828.0  lisans   \n",
       "2333            Uygun        2. Kat           1.0  çankaya  925828.0  lisans   \n",
       "2413            Uygun        4. Kat           2.0  çankaya  925828.0  lisans   \n",
       "2752            Uygun        5. Kat           2.0  çankaya  925828.0  lisans   \n",
       "2890            Uygun        1. Kat           1.0  çankaya  925828.0  lisans   \n",
       "2917            Uygun    Bahçe Katı           1.0  çankaya  925828.0  lisans   \n",
       "3413            Uygun        2. Kat           2.0  çankaya  925828.0  lisans   \n",
       "4042            Uygun    Bahçe Katı           2.0  çankaya  925828.0  lisans   \n",
       "\n",
       "      okuma_yazma_bilmeyen  \n",
       "1031                   0.7  \n",
       "1561                   0.7  \n",
       "2300                   0.7  \n",
       "2333                   0.7  \n",
       "2413                   0.7  \n",
       "2752                   0.7  \n",
       "2890                   0.7  \n",
       "2917                   0.7  \n",
       "3413                   0.7  \n",
       "4042                   0.7  "
      ]
     },
     "execution_count": 25,
     "metadata": {},
     "output_type": "execute_result"
    }
   ],
   "source": [
    "# Eğitim düzeyi lisans olan tek ilçe çankaya ilçesidir. Bu ilçedeki fiyatı 5000'den az olan evler aşağıdaki evlerdir.\n",
    "df[(df[\"eğitim\"] == \"lisans\") & (df[\"fiyat\"] < 5000)]"
   ]
  },
  {
   "cell_type": "markdown",
   "id": "d500b775",
   "metadata": {
    "papermill": {
     "duration": 0.041641,
     "end_time": "2022-03-12T07:41:19.566666",
     "exception": false,
     "start_time": "2022-03-12T07:41:19.525025",
     "status": "completed"
    },
    "tags": []
   },
   "source": [
    "#### SORU 5: İlçelere göre ısınma türlerinden hangisinin daha uygun fiyata sahip olduğunu bulun. Grafik çıkartarak, çıkarımlarınızı yazılı olarak ifade edin ve grafiğinizi oluştururken yaptığınız operasyonları açıklayın."
   ]
  },
  {
   "cell_type": "code",
   "execution_count": 26,
   "id": "1cea9847",
   "metadata": {
    "execution": {
     "iopub.execute_input": "2022-03-12T07:41:19.654384Z",
     "iopub.status.busy": "2022-03-12T07:41:19.653349Z",
     "iopub.status.idle": "2022-03-12T07:41:19.667929Z",
     "shell.execute_reply": "2022-03-12T07:41:19.667439Z",
     "shell.execute_reply.started": "2022-03-12T06:56:17.058898Z"
    },
    "papermill": {
     "duration": 0.060305,
     "end_time": "2022-03-12T07:41:19.668069",
     "exception": false,
     "start_time": "2022-03-12T07:41:19.607764",
     "status": "completed"
    },
    "tags": []
   },
   "outputs": [
    {
     "data": {
      "text/html": [
       "<div>\n",
       "<style scoped>\n",
       "    .dataframe tbody tr th:only-of-type {\n",
       "        vertical-align: middle;\n",
       "    }\n",
       "\n",
       "    .dataframe tbody tr th {\n",
       "        vertical-align: top;\n",
       "    }\n",
       "\n",
       "    .dataframe thead th {\n",
       "        text-align: right;\n",
       "    }\n",
       "</style>\n",
       "<table border=\"1\" class=\"dataframe\">\n",
       "  <thead>\n",
       "    <tr style=\"text-align: right;\">\n",
       "      <th></th>\n",
       "      <th></th>\n",
       "      <th>count</th>\n",
       "    </tr>\n",
       "    <tr>\n",
       "      <th>ilce</th>\n",
       "      <th>isinma_tipi</th>\n",
       "      <th></th>\n",
       "    </tr>\n",
       "  </thead>\n",
       "  <tbody>\n",
       "    <tr>\n",
       "      <th rowspan=\"5\" valign=\"top\">keçiören</th>\n",
       "      <th>KatKaloriferi</th>\n",
       "      <td>2</td>\n",
       "    </tr>\n",
       "    <tr>\n",
       "      <th>Klima</th>\n",
       "      <td>2</td>\n",
       "    </tr>\n",
       "    <tr>\n",
       "      <th>Kombi</th>\n",
       "      <td>1175</td>\n",
       "    </tr>\n",
       "    <tr>\n",
       "      <th>Merkezi</th>\n",
       "      <td>328</td>\n",
       "    </tr>\n",
       "    <tr>\n",
       "      <th>Merkezi(PayÖlçer)</th>\n",
       "      <td>157</td>\n",
       "    </tr>\n",
       "    <tr>\n",
       "      <th rowspan=\"2\" valign=\"top\">mamak</th>\n",
       "      <th>Kombi</th>\n",
       "      <td>41</td>\n",
       "    </tr>\n",
       "    <tr>\n",
       "      <th>Merkezi</th>\n",
       "      <td>1</td>\n",
       "    </tr>\n",
       "    <tr>\n",
       "      <th rowspan=\"4\" valign=\"top\">sincan</th>\n",
       "      <th>KatKaloriferi</th>\n",
       "      <td>1</td>\n",
       "    </tr>\n",
       "    <tr>\n",
       "      <th>Kombi</th>\n",
       "      <td>470</td>\n",
       "    </tr>\n",
       "    <tr>\n",
       "      <th>Merkezi</th>\n",
       "      <td>12</td>\n",
       "    </tr>\n",
       "    <tr>\n",
       "      <th>Merkezi(PayÖlçer)</th>\n",
       "      <td>91</td>\n",
       "    </tr>\n",
       "    <tr>\n",
       "      <th rowspan=\"5\" valign=\"top\">çankaya</th>\n",
       "      <th>KatKaloriferi</th>\n",
       "      <td>2</td>\n",
       "    </tr>\n",
       "    <tr>\n",
       "      <th>Klima</th>\n",
       "      <td>1</td>\n",
       "    </tr>\n",
       "    <tr>\n",
       "      <th>Kombi</th>\n",
       "      <td>1138</td>\n",
       "    </tr>\n",
       "    <tr>\n",
       "      <th>Merkezi</th>\n",
       "      <td>345</td>\n",
       "    </tr>\n",
       "    <tr>\n",
       "      <th>Merkezi(PayÖlçer)</th>\n",
       "      <td>149</td>\n",
       "    </tr>\n",
       "  </tbody>\n",
       "</table>\n",
       "</div>"
      ],
      "text/plain": [
       "                            count\n",
       "ilce     isinma_tipi             \n",
       "keçiören KatKaloriferi          2\n",
       "         Klima                  2\n",
       "         Kombi               1175\n",
       "         Merkezi              328\n",
       "         Merkezi(PayÖlçer)    157\n",
       "mamak    Kombi                 41\n",
       "         Merkezi                1\n",
       "sincan   KatKaloriferi          1\n",
       "         Kombi                470\n",
       "         Merkezi               12\n",
       "         Merkezi(PayÖlçer)     91\n",
       "çankaya  KatKaloriferi          2\n",
       "         Klima                  1\n",
       "         Kombi               1138\n",
       "         Merkezi              345\n",
       "         Merkezi(PayÖlçer)    149"
      ]
     },
     "execution_count": 26,
     "metadata": {},
     "output_type": "execute_result"
    }
   ],
   "source": [
    "isinma_df = df.groupby(by=[\"ilce\", \"isinma_tipi\"]).agg({\"id\":\"count\"})\n",
    "isinma_df.columns = [\"count\"]\n",
    "isinma_df"
   ]
  },
  {
   "cell_type": "code",
   "execution_count": 27,
   "id": "12368a01",
   "metadata": {
    "execution": {
     "iopub.execute_input": "2022-03-12T07:41:19.759786Z",
     "iopub.status.busy": "2022-03-12T07:41:19.756462Z",
     "iopub.status.idle": "2022-03-12T07:41:19.766590Z",
     "shell.execute_reply": "2022-03-12T07:41:19.767029Z",
     "shell.execute_reply.started": "2022-03-12T07:23:29.167330Z"
    },
    "papermill": {
     "duration": 0.057445,
     "end_time": "2022-03-12T07:41:19.767202",
     "exception": false,
     "start_time": "2022-03-12T07:41:19.709757",
     "status": "completed"
    },
    "tags": []
   },
   "outputs": [
    {
     "data": {
      "text/html": [
       "<div>\n",
       "<style scoped>\n",
       "    .dataframe tbody tr th:only-of-type {\n",
       "        vertical-align: middle;\n",
       "    }\n",
       "\n",
       "    .dataframe tbody tr th {\n",
       "        vertical-align: top;\n",
       "    }\n",
       "\n",
       "    .dataframe thead th {\n",
       "        text-align: right;\n",
       "    }\n",
       "</style>\n",
       "<table border=\"1\" class=\"dataframe\">\n",
       "  <thead>\n",
       "    <tr style=\"text-align: right;\">\n",
       "      <th></th>\n",
       "      <th>isinma_tipi</th>\n",
       "      <th>count</th>\n",
       "    </tr>\n",
       "  </thead>\n",
       "  <tbody>\n",
       "    <tr>\n",
       "      <th>0</th>\n",
       "      <td>KatKaloriferi</td>\n",
       "      <td>2</td>\n",
       "    </tr>\n",
       "    <tr>\n",
       "      <th>1</th>\n",
       "      <td>Klima</td>\n",
       "      <td>2</td>\n",
       "    </tr>\n",
       "    <tr>\n",
       "      <th>2</th>\n",
       "      <td>Kombi</td>\n",
       "      <td>1175</td>\n",
       "    </tr>\n",
       "    <tr>\n",
       "      <th>3</th>\n",
       "      <td>Merkezi</td>\n",
       "      <td>328</td>\n",
       "    </tr>\n",
       "    <tr>\n",
       "      <th>4</th>\n",
       "      <td>Merkezi(PayÖlçer)</td>\n",
       "      <td>157</td>\n",
       "    </tr>\n",
       "  </tbody>\n",
       "</table>\n",
       "</div>"
      ],
      "text/plain": [
       "         isinma_tipi  count\n",
       "0      KatKaloriferi      2\n",
       "1              Klima      2\n",
       "2              Kombi   1175\n",
       "3            Merkezi    328\n",
       "4  Merkezi(PayÖlçer)    157"
      ]
     },
     "execution_count": 27,
     "metadata": {},
     "output_type": "execute_result"
    }
   ],
   "source": [
    "isinma_df.loc[\"keçiören\"].reset_index()"
   ]
  },
  {
   "cell_type": "code",
   "execution_count": 28,
   "id": "5af0b401",
   "metadata": {
    "execution": {
     "iopub.execute_input": "2022-03-12T07:41:19.857734Z",
     "iopub.status.busy": "2022-03-12T07:41:19.857050Z",
     "iopub.status.idle": "2022-03-12T07:41:19.860183Z",
     "shell.execute_reply": "2022-03-12T07:41:19.860634Z",
     "shell.execute_reply.started": "2022-03-12T07:37:56.766848Z"
    },
    "papermill": {
     "duration": 0.049953,
     "end_time": "2022-03-12T07:41:19.860822",
     "exception": false,
     "start_time": "2022-03-12T07:41:19.810869",
     "status": "completed"
    },
    "tags": []
   },
   "outputs": [],
   "source": [
    "# fig, axes = plt.subplots(2, 2, figsize=(16,5), dpi=90)\n",
    "# sns.barplot(x=\"isinma_tipi\", y=\"count\", data=isinma_df.loc[\"keçiören\"].reset_index(), ax=axes[0][0])\n",
    "# axes[0][0].set_xlabel(\"\")\n",
    "# axes[0][0].set_title(\"Keçiören\")\n",
    "# sns.barplot(x=\"isinma_tipi\", y=\"count\", data=isinma_df.loc[\"mamak\"].reset_index(), ax=axes[0][1])\n",
    "# axes[0][1].set_xlabel(\"\")\n",
    "# axes[0][1].set_title(\"Mamak\")\n",
    "# sns.barplot(x=\"isinma_tipi\", y=\"count\", data=isinma_df.loc[\"sincan\"].reset_index(), ax=axes[1][0])\n",
    "# axes[1][0].set_xlabel(\"\")\n",
    "# axes[1][0].set_title(\"Sincan\")\n",
    "# sns.barplot(x=\"isinma_tipi\", y=\"count\", data=isinma_df.loc[\"çankaya\"].reset_index(), ax=axes[1][1])\n",
    "# axes[1][1].set_xlabel(\"\")\n",
    "# axes[1][1].set_title(\"Çankaya\")\n",
    "# fig.tight_layout()\n",
    "# plt.show()"
   ]
  },
  {
   "cell_type": "code",
   "execution_count": 29,
   "id": "a752638e",
   "metadata": {
    "execution": {
     "iopub.execute_input": "2022-03-12T07:41:19.948889Z",
     "iopub.status.busy": "2022-03-12T07:41:19.948256Z",
     "iopub.status.idle": "2022-03-12T07:41:20.245017Z",
     "shell.execute_reply": "2022-03-12T07:41:20.244493Z",
     "shell.execute_reply.started": "2022-03-12T07:39:46.947542Z"
    },
    "papermill": {
     "duration": 0.341584,
     "end_time": "2022-03-12T07:41:20.245156",
     "exception": false,
     "start_time": "2022-03-12T07:41:19.903572",
     "status": "completed"
    },
    "tags": []
   },
   "outputs": [
    {
     "data": {
      "image/png": "[encoded data removed]",
      "text/plain": [
       "<Figure size 1440x450 with 1 Axes>"
      ]
     },
     "metadata": {
      "needs_background": "light"
     },
     "output_type": "display_data"
    }
   ],
   "source": [
    "fig, ax = plt.subplots(figsize=(16,5), dpi=90)\n",
    "sns.set_palette(\"colorblind\", 5)\n",
    "sns.barplot(x=\"ilce\", y=\"count\", hue=\"isinma_tipi\", data=isinma_df.reset_index(), ax=ax)\n",
    "ax.legend(loc=\"upper center\")\n",
    "ax.grid(linestyle=\"dotted\")\n",
    "ax.set_xlabel(\"İlçe İsimleri\")\n",
    "ax.set_ylabel(\"Ev Sayısı\")\n",
    "plt.show()"
   ]
  },
  {
   "cell_type": "code",
   "execution_count": null,
   "id": "43488d69",
   "metadata": {
    "papermill": {
     "duration": 0.043488,
     "end_time": "2022-03-12T07:41:20.333191",
     "exception": false,
     "start_time": "2022-03-12T07:41:20.289703",
     "status": "completed"
    },
    "tags": []
   },
   "outputs": [],
   "source": []
  },
  {
   "cell_type": "code",
   "execution_count": null,
   "id": "894d9400",
   "metadata": {
    "papermill": {
     "duration": 0.045773,
     "end_time": "2022-03-12T07:41:20.426044",
     "exception": false,
     "start_time": "2022-03-12T07:41:20.380271",
     "status": "completed"
    },
    "tags": []
   },
   "outputs": [],
   "source": []
  },
  {
   "cell_type": "code",
   "execution_count": null,
   "id": "e49e2cd5",
   "metadata": {
    "papermill": {
     "duration": 0.043603,
     "end_time": "2022-03-12T07:41:20.516734",
     "exception": false,
     "start_time": "2022-03-12T07:41:20.473131",
     "status": "completed"
    },
    "tags": []
   },
   "outputs": [],
   "source": []
  },
  {
   "cell_type": "code",
   "execution_count": null,
   "id": "8085a7d1",
   "metadata": {
    "papermill": {
     "duration": 0.045193,
     "end_time": "2022-03-12T07:41:20.605376",
     "exception": false,
     "start_time": "2022-03-12T07:41:20.560183",
     "status": "completed"
    },
    "tags": []
   },
   "outputs": [],
   "source": []
  }
 ],
 "metadata": {
  "kernelspec": {
   "display_name": "Python 3",
   "language": "python",
   "name": "python3"
  },
  "language_info": {
   "codemirror_mode": {
    "name": "ipython",
    "version": 3
   },
   "file_extension": ".py",
   "mimetype": "text/x-python",
   "name": "python",
   "nbconvert_exporter": "python",
   "pygments_lexer": "ipython3",
   "version": "3.7.12"
  },
  "papermill": {
   "default_parameters": {},
   "duration": 18.54374,
   "end_time": "2022-03-12T07:41:21.360306",
   "environment_variables": {},
   "exception": null,
   "input_path": "__notebook__.ipynb",
   "output_path": "__notebook__.ipynb",
   "parameters": {},
   "start_time": "2022-03-12T07:41:02.816566",
   "version": "2.3.3"
  }
 },
 "nbformat": 4,
 "nbformat_minor": 5
}
