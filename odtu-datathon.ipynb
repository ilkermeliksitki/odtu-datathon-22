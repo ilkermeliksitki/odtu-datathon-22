{
 "cells": [
  {
   "cell_type": "code",
   "execution_count": 1,
   "id": "c89d5ff1",
   "metadata": {
    "_cell_guid": "b1076dfc-b9ad-4769-8c92-a6c4dae69d19",
    "_uuid": "8f2839f25d086af736a60e9eeb907d3b93b6e0e5",
    "execution": {
     "iopub.execute_input": "2022-03-14T19:03:07.997887Z",
     "iopub.status.busy": "2022-03-14T19:03:07.997278Z",
     "iopub.status.idle": "2022-03-14T19:03:09.050354Z",
     "shell.execute_reply": "2022-03-14T19:03:09.051011Z",
     "shell.execute_reply.started": "2022-03-14T19:01:59.528728Z"
    },
    "papermill": {
     "duration": 1.106968,
     "end_time": "2022-03-14T19:03:09.051353",
     "exception": false,
     "start_time": "2022-03-14T19:03:07.944385",
     "status": "completed"
    },
    "tags": []
   },
   "outputs": [],
   "source": [
    "import numpy as np\n",
    "import pandas as pd\n",
    "import matplotlib.pyplot as plt\n",
    "import seaborn as sns\n",
    "from scipy.stats import pearsonr\n",
    "\n",
    "df = pd.read_csv(\"../input/odtu-datathon-22/data.set.csv\", encoding=\"latin5\", delimiter=\";\")"
   ]
  },
  {
   "cell_type": "markdown",
   "id": "503413d7",
   "metadata": {
    "papermill": {
     "duration": 0.039882,
     "end_time": "2022-03-14T19:03:09.132323",
     "exception": false,
     "start_time": "2022-03-14T19:03:09.092441",
     "status": "completed"
    },
    "tags": []
   },
   "source": [
    "### <b style=\"color:blue\">SORU 1: Verilen veri setini minimum kayıpla üzerinde çalışılabilir bir formata getirin. Bu doğrultuda yaptığınız operasyonları açıklayın. </b>"
   ]
  },
  {
   "cell_type": "code",
   "execution_count": 2,
   "id": "698baeb0",
   "metadata": {
    "execution": {
     "iopub.execute_input": "2022-03-14T19:03:09.217006Z",
     "iopub.status.busy": "2022-03-14T19:03:09.216352Z",
     "iopub.status.idle": "2022-03-14T19:03:09.245038Z",
     "shell.execute_reply": "2022-03-14T19:03:09.245548Z",
     "shell.execute_reply.started": "2022-03-14T19:02:00.623256Z"
    },
    "papermill": {
     "duration": 0.072246,
     "end_time": "2022-03-14T19:03:09.245712",
     "exception": false,
     "start_time": "2022-03-14T19:03:09.173466",
     "status": "completed"
    },
    "tags": []
   },
   "outputs": [
    {
     "data": {
      "text/html": [
       "<div>\n",
       "<style scoped>\n",
       "    .dataframe tbody tr th:only-of-type {\n",
       "        vertical-align: middle;\n",
       "    }\n",
       "\n",
       "    .dataframe tbody tr th {\n",
       "        vertical-align: top;\n",
       "    }\n",
       "\n",
       "    .dataframe thead th {\n",
       "        text-align: right;\n",
       "    }\n",
       "</style>\n",
       "<table border=\"1\" class=\"dataframe\">\n",
       "  <thead>\n",
       "    <tr style=\"text-align: right;\">\n",
       "      <th></th>\n",
       "      <th>Sütun1</th>\n",
       "      <th>id</th>\n",
       "      <th>fiyat</th>\n",
       "      <th>oda_salon_sayisi</th>\n",
       "      <th>net_m2</th>\n",
       "      <th>bina_yasi</th>\n",
       "      <th>isinma_tipi</th>\n",
       "      <th>krediye_uygunluk</th>\n",
       "      <th>bulundugu_kat</th>\n",
       "      <th>banyo_sayisi</th>\n",
       "      <th>ilce</th>\n",
       "      <th>nüfus</th>\n",
       "      <th>eğitim</th>\n",
       "      <th>okuma_yazma_bilmeyen</th>\n",
       "    </tr>\n",
       "  </thead>\n",
       "  <tbody>\n",
       "    <tr>\n",
       "      <th>0</th>\n",
       "      <td>2612</td>\n",
       "      <td>2612.0</td>\n",
       "      <td>275000</td>\n",
       "      <td>4.0</td>\n",
       "      <td>120.0</td>\n",
       "      <td>12.0</td>\n",
       "      <td>Kombi</td>\n",
       "      <td>Uygun</td>\n",
       "      <td>Kot 1</td>\n",
       "      <td>1.0</td>\n",
       "      <td>Çankaya</td>\n",
       "      <td>925828.0</td>\n",
       "      <td>Lisans</td>\n",
       "      <td>0,7</td>\n",
       "    </tr>\n",
       "    <tr>\n",
       "      <th>1</th>\n",
       "      <td>4819</td>\n",
       "      <td>4819.0</td>\n",
       "      <td>700000</td>\n",
       "      <td>3.0</td>\n",
       "      <td>88.0</td>\n",
       "      <td>0.0</td>\n",
       "      <td>Merkezi(PayÖlçer)</td>\n",
       "      <td>Uygun</td>\n",
       "      <td>1. Kat</td>\n",
       "      <td>1.0</td>\n",
       "      <td>Çankaya</td>\n",
       "      <td>925828.0</td>\n",
       "      <td>Lisans</td>\n",
       "      <td>0,7</td>\n",
       "    </tr>\n",
       "    <tr>\n",
       "      <th>2</th>\n",
       "      <td>149</td>\n",
       "      <td>149.0</td>\n",
       "      <td>980000</td>\n",
       "      <td>5.0</td>\n",
       "      <td>230.0</td>\n",
       "      <td>30.0</td>\n",
       "      <td>Kombi</td>\n",
       "      <td>Uygun</td>\n",
       "      <td>3. Kat</td>\n",
       "      <td>2.0</td>\n",
       "      <td>Çankaya</td>\n",
       "      <td>925828.0</td>\n",
       "      <td>liSans</td>\n",
       "      <td>0,7</td>\n",
       "    </tr>\n",
       "    <tr>\n",
       "      <th>3</th>\n",
       "      <td>3628</td>\n",
       "      <td>3628.0</td>\n",
       "      <td>385000</td>\n",
       "      <td>4.0</td>\n",
       "      <td>120.0</td>\n",
       "      <td>22.0</td>\n",
       "      <td>Kombi</td>\n",
       "      <td>Uygun</td>\n",
       "      <td>2. Kat</td>\n",
       "      <td>1.0</td>\n",
       "      <td>Keçiören</td>\n",
       "      <td>938565.0</td>\n",
       "      <td>Lise</td>\n",
       "      <td>1,43</td>\n",
       "    </tr>\n",
       "    <tr>\n",
       "      <th>4</th>\n",
       "      <td>3936</td>\n",
       "      <td>3936.0</td>\n",
       "      <td>700000</td>\n",
       "      <td>5.0</td>\n",
       "      <td>150.0</td>\n",
       "      <td>0.0</td>\n",
       "      <td>Kombi</td>\n",
       "      <td>Uygun</td>\n",
       "      <td>Ara Kat</td>\n",
       "      <td>2.0</td>\n",
       "      <td>Çankaya</td>\n",
       "      <td>925828.0</td>\n",
       "      <td>Lisans</td>\n",
       "      <td>0,7</td>\n",
       "    </tr>\n",
       "  </tbody>\n",
       "</table>\n",
       "</div>"
      ],
      "text/plain": [
       "   Sütun1      id   fiyat  oda_salon_sayisi  net_m2  bina_yasi  \\\n",
       "0    2612  2612.0  275000               4.0   120.0       12.0   \n",
       "1    4819  4819.0  700000               3.0    88.0        0.0   \n",
       "2     149   149.0  980000               5.0   230.0       30.0   \n",
       "3    3628  3628.0  385000               4.0   120.0       22.0   \n",
       "4    3936  3936.0  700000               5.0   150.0        0.0   \n",
       "\n",
       "         isinma_tipi krediye_uygunluk bulundugu_kat  banyo_sayisi      ilce  \\\n",
       "0              Kombi            Uygun         Kot 1           1.0   Çankaya   \n",
       "1  Merkezi(PayÖlçer)            Uygun        1. Kat           1.0   Çankaya   \n",
       "2              Kombi            Uygun        3. Kat           2.0   Çankaya   \n",
       "3              Kombi            Uygun        2. Kat           1.0  Keçiören   \n",
       "4              Kombi            Uygun       Ara Kat           2.0   Çankaya   \n",
       "\n",
       "      nüfus  eğitim okuma_yazma_bilmeyen  \n",
       "0  925828.0  Lisans                  0,7  \n",
       "1  925828.0  Lisans                  0,7  \n",
       "2  925828.0  liSans                  0,7  \n",
       "3  938565.0    Lise                 1,43  \n",
       "4  925828.0  Lisans                  0,7  "
      ]
     },
     "execution_count": 2,
     "metadata": {},
     "output_type": "execute_result"
    }
   ],
   "source": [
    "df.head()"
   ]
  },
  {
   "cell_type": "markdown",
   "id": "b9848b69",
   "metadata": {
    "papermill": {
     "duration": 0.040854,
     "end_time": "2022-03-14T19:03:09.329773",
     "exception": false,
     "start_time": "2022-03-14T19:03:09.288919",
     "status": "completed"
    },
    "tags": []
   },
   "source": [
    "##### The dtype of id is float and there are two nan values in id column. So I will drop that column and use \"Sütun1\" as \"id\" column. Because its dtype is int and doesn't include nan value. Furthermore, I change the name of \"Sütun1\" column as \"id\"."
   ]
  },
  {
   "cell_type": "code",
   "execution_count": 3,
   "id": "85d8ad34",
   "metadata": {
    "execution": {
     "iopub.execute_input": "2022-03-14T19:03:09.417913Z",
     "iopub.status.busy": "2022-03-14T19:03:09.417266Z",
     "iopub.status.idle": "2022-03-14T19:03:09.439936Z",
     "shell.execute_reply": "2022-03-14T19:03:09.440448Z",
     "shell.execute_reply.started": "2022-03-14T19:02:00.657543Z"
    },
    "papermill": {
     "duration": 0.070133,
     "end_time": "2022-03-14T19:03:09.440610",
     "exception": false,
     "start_time": "2022-03-14T19:03:09.370477",
     "status": "completed"
    },
    "tags": []
   },
   "outputs": [
    {
     "name": "stdout",
     "output_type": "stream",
     "text": [
      "<class 'pandas.core.frame.DataFrame'>\n",
      "RangeIndex: 4222 entries, 0 to 4221\n",
      "Data columns (total 14 columns):\n",
      " #   Column                Non-Null Count  Dtype  \n",
      "---  ------                --------------  -----  \n",
      " 0   Sütun1                4222 non-null   int64  \n",
      " 1   id                    4220 non-null   float64\n",
      " 2   fiyat                 4212 non-null   object \n",
      " 3   oda_salon_sayisi      4213 non-null   float64\n",
      " 4   net_m2                4213 non-null   float64\n",
      " 5   bina_yasi             4216 non-null   float64\n",
      " 6   isinma_tipi           4218 non-null   object \n",
      " 7   krediye_uygunluk      4218 non-null   object \n",
      " 8   bulundugu_kat         4218 non-null   object \n",
      " 9   banyo_sayisi          4214 non-null   float64\n",
      " 10  ilce                  4215 non-null   object \n",
      " 11  nüfus                 4214 non-null   float64\n",
      " 12  eğitim                4217 non-null   object \n",
      " 13  okuma_yazma_bilmeyen  4217 non-null   object \n",
      "dtypes: float64(6), int64(1), object(7)\n",
      "memory usage: 461.9+ KB\n"
     ]
    }
   ],
   "source": [
    "df.info()"
   ]
  },
  {
   "cell_type": "code",
   "execution_count": 4,
   "id": "28823a65",
   "metadata": {
    "execution": {
     "iopub.execute_input": "2022-03-14T19:03:09.528836Z",
     "iopub.status.busy": "2022-03-14T19:03:09.528207Z",
     "iopub.status.idle": "2022-03-14T19:03:09.548439Z",
     "shell.execute_reply": "2022-03-14T19:03:09.547866Z",
     "shell.execute_reply.started": "2022-03-14T19:02:00.686115Z"
    },
    "papermill": {
     "duration": 0.066575,
     "end_time": "2022-03-14T19:03:09.548574",
     "exception": false,
     "start_time": "2022-03-14T19:03:09.481999",
     "status": "completed"
    },
    "tags": []
   },
   "outputs": [
    {
     "data": {
      "text/html": [
       "<div>\n",
       "<style scoped>\n",
       "    .dataframe tbody tr th:only-of-type {\n",
       "        vertical-align: middle;\n",
       "    }\n",
       "\n",
       "    .dataframe tbody tr th {\n",
       "        vertical-align: top;\n",
       "    }\n",
       "\n",
       "    .dataframe thead th {\n",
       "        text-align: right;\n",
       "    }\n",
       "</style>\n",
       "<table border=\"1\" class=\"dataframe\">\n",
       "  <thead>\n",
       "    <tr style=\"text-align: right;\">\n",
       "      <th></th>\n",
       "      <th>id</th>\n",
       "      <th>fiyat</th>\n",
       "      <th>oda_salon_sayisi</th>\n",
       "      <th>net_m2</th>\n",
       "      <th>bina_yasi</th>\n",
       "      <th>isinma_tipi</th>\n",
       "      <th>krediye_uygunluk</th>\n",
       "      <th>bulundugu_kat</th>\n",
       "      <th>banyo_sayisi</th>\n",
       "      <th>ilce</th>\n",
       "      <th>nüfus</th>\n",
       "      <th>eğitim</th>\n",
       "      <th>okuma_yazma_bilmeyen</th>\n",
       "    </tr>\n",
       "  </thead>\n",
       "  <tbody>\n",
       "    <tr>\n",
       "      <th>0</th>\n",
       "      <td>2612</td>\n",
       "      <td>275000</td>\n",
       "      <td>4.0</td>\n",
       "      <td>120.0</td>\n",
       "      <td>12.0</td>\n",
       "      <td>Kombi</td>\n",
       "      <td>Uygun</td>\n",
       "      <td>Kot 1</td>\n",
       "      <td>1.0</td>\n",
       "      <td>Çankaya</td>\n",
       "      <td>925828.0</td>\n",
       "      <td>Lisans</td>\n",
       "      <td>0,7</td>\n",
       "    </tr>\n",
       "    <tr>\n",
       "      <th>1</th>\n",
       "      <td>4819</td>\n",
       "      <td>700000</td>\n",
       "      <td>3.0</td>\n",
       "      <td>88.0</td>\n",
       "      <td>0.0</td>\n",
       "      <td>Merkezi(PayÖlçer)</td>\n",
       "      <td>Uygun</td>\n",
       "      <td>1. Kat</td>\n",
       "      <td>1.0</td>\n",
       "      <td>Çankaya</td>\n",
       "      <td>925828.0</td>\n",
       "      <td>Lisans</td>\n",
       "      <td>0,7</td>\n",
       "    </tr>\n",
       "    <tr>\n",
       "      <th>2</th>\n",
       "      <td>149</td>\n",
       "      <td>980000</td>\n",
       "      <td>5.0</td>\n",
       "      <td>230.0</td>\n",
       "      <td>30.0</td>\n",
       "      <td>Kombi</td>\n",
       "      <td>Uygun</td>\n",
       "      <td>3. Kat</td>\n",
       "      <td>2.0</td>\n",
       "      <td>Çankaya</td>\n",
       "      <td>925828.0</td>\n",
       "      <td>liSans</td>\n",
       "      <td>0,7</td>\n",
       "    </tr>\n",
       "    <tr>\n",
       "      <th>3</th>\n",
       "      <td>3628</td>\n",
       "      <td>385000</td>\n",
       "      <td>4.0</td>\n",
       "      <td>120.0</td>\n",
       "      <td>22.0</td>\n",
       "      <td>Kombi</td>\n",
       "      <td>Uygun</td>\n",
       "      <td>2. Kat</td>\n",
       "      <td>1.0</td>\n",
       "      <td>Keçiören</td>\n",
       "      <td>938565.0</td>\n",
       "      <td>Lise</td>\n",
       "      <td>1,43</td>\n",
       "    </tr>\n",
       "    <tr>\n",
       "      <th>4</th>\n",
       "      <td>3936</td>\n",
       "      <td>700000</td>\n",
       "      <td>5.0</td>\n",
       "      <td>150.0</td>\n",
       "      <td>0.0</td>\n",
       "      <td>Kombi</td>\n",
       "      <td>Uygun</td>\n",
       "      <td>Ara Kat</td>\n",
       "      <td>2.0</td>\n",
       "      <td>Çankaya</td>\n",
       "      <td>925828.0</td>\n",
       "      <td>Lisans</td>\n",
       "      <td>0,7</td>\n",
       "    </tr>\n",
       "  </tbody>\n",
       "</table>\n",
       "</div>"
      ],
      "text/plain": [
       "     id   fiyat  oda_salon_sayisi  net_m2  bina_yasi        isinma_tipi  \\\n",
       "0  2612  275000               4.0   120.0       12.0              Kombi   \n",
       "1  4819  700000               3.0    88.0        0.0  Merkezi(PayÖlçer)   \n",
       "2   149  980000               5.0   230.0       30.0              Kombi   \n",
       "3  3628  385000               4.0   120.0       22.0              Kombi   \n",
       "4  3936  700000               5.0   150.0        0.0              Kombi   \n",
       "\n",
       "  krediye_uygunluk bulundugu_kat  banyo_sayisi      ilce     nüfus  eğitim  \\\n",
       "0            Uygun         Kot 1           1.0   Çankaya  925828.0  Lisans   \n",
       "1            Uygun        1. Kat           1.0   Çankaya  925828.0  Lisans   \n",
       "2            Uygun        3. Kat           2.0   Çankaya  925828.0  liSans   \n",
       "3            Uygun        2. Kat           1.0  Keçiören  938565.0    Lise   \n",
       "4            Uygun       Ara Kat           2.0   Çankaya  925828.0  Lisans   \n",
       "\n",
       "  okuma_yazma_bilmeyen  \n",
       "0                  0,7  \n",
       "1                  0,7  \n",
       "2                  0,7  \n",
       "3                 1,43  \n",
       "4                  0,7  "
      ]
     },
     "execution_count": 4,
     "metadata": {},
     "output_type": "execute_result"
    }
   ],
   "source": [
    "df = df.drop(labels=[\"id\"], axis=1)\n",
    "column_ls = list(df.columns)\n",
    "column_ls\n",
    "column_ls[0] = \"id\"\n",
    "df.columns = column_ls\n",
    "df.head()"
   ]
  },
  {
   "cell_type": "markdown",
   "id": "565e06f0",
   "metadata": {
    "papermill": {
     "duration": 0.041724,
     "end_time": "2022-03-14T19:03:09.632488",
     "exception": false,
     "start_time": "2022-03-14T19:03:09.590764",
     "status": "completed"
    },
    "tags": []
   },
   "source": [
    "##### There are duplicated ids. Some of them are more informative, i.e. includes more knowledge. So I will drop the less informative ones. For more clarity, look at the following cell."
   ]
  },
  {
   "cell_type": "code",
   "execution_count": 5,
   "id": "d5fc7bf4",
   "metadata": {
    "execution": {
     "iopub.execute_input": "2022-03-14T19:03:09.725393Z",
     "iopub.status.busy": "2022-03-14T19:03:09.724587Z",
     "iopub.status.idle": "2022-03-14T19:03:09.727747Z",
     "shell.execute_reply": "2022-03-14T19:03:09.728241Z",
     "shell.execute_reply.started": "2022-03-14T19:02:00.710554Z"
    },
    "papermill": {
     "duration": 0.053898,
     "end_time": "2022-03-14T19:03:09.728417",
     "exception": false,
     "start_time": "2022-03-14T19:03:09.674519",
     "status": "completed"
    },
    "tags": []
   },
   "outputs": [
    {
     "data": {
      "text/plain": [
       "396     2\n",
       "2603    2\n",
       "2671    2\n",
       "4815    2\n",
       "3977    2\n",
       "       ..\n",
       "2854    1\n",
       "425     1\n",
       "4693    1\n",
       "543     1\n",
       "762     1\n",
       "Name: id, Length: 3965, dtype: int64"
      ]
     },
     "execution_count": 5,
     "metadata": {},
     "output_type": "execute_result"
    }
   ],
   "source": [
    "df[\"id\"].value_counts()"
   ]
  },
  {
   "cell_type": "markdown",
   "id": "81d6a1f1",
   "metadata": {
    "papermill": {
     "duration": 0.043678,
     "end_time": "2022-03-14T19:03:09.814424",
     "exception": false,
     "start_time": "2022-03-14T19:03:09.770746",
     "status": "completed"
    },
    "tags": []
   },
   "source": [
    "##### For example, the second one includes a nan values whereas the first one doesn't. So it would be better to drop the second row. "
   ]
  },
  {
   "cell_type": "code",
   "execution_count": 6,
   "id": "600f89b8",
   "metadata": {
    "execution": {
     "iopub.execute_input": "2022-03-14T19:03:09.903178Z",
     "iopub.status.busy": "2022-03-14T19:03:09.902529Z",
     "iopub.status.idle": "2022-03-14T19:03:09.918289Z",
     "shell.execute_reply": "2022-03-14T19:03:09.918819Z",
     "shell.execute_reply.started": "2022-03-14T19:02:00.721048Z"
    },
    "papermill": {
     "duration": 0.061736,
     "end_time": "2022-03-14T19:03:09.918999",
     "exception": false,
     "start_time": "2022-03-14T19:03:09.857263",
     "status": "completed"
    },
    "tags": []
   },
   "outputs": [
    {
     "data": {
      "text/html": [
       "<div>\n",
       "<style scoped>\n",
       "    .dataframe tbody tr th:only-of-type {\n",
       "        vertical-align: middle;\n",
       "    }\n",
       "\n",
       "    .dataframe tbody tr th {\n",
       "        vertical-align: top;\n",
       "    }\n",
       "\n",
       "    .dataframe thead th {\n",
       "        text-align: right;\n",
       "    }\n",
       "</style>\n",
       "<table border=\"1\" class=\"dataframe\">\n",
       "  <thead>\n",
       "    <tr style=\"text-align: right;\">\n",
       "      <th></th>\n",
       "      <th>id</th>\n",
       "      <th>fiyat</th>\n",
       "      <th>oda_salon_sayisi</th>\n",
       "      <th>net_m2</th>\n",
       "      <th>bina_yasi</th>\n",
       "      <th>isinma_tipi</th>\n",
       "      <th>krediye_uygunluk</th>\n",
       "      <th>bulundugu_kat</th>\n",
       "      <th>banyo_sayisi</th>\n",
       "      <th>ilce</th>\n",
       "      <th>nüfus</th>\n",
       "      <th>eğitim</th>\n",
       "      <th>okuma_yazma_bilmeyen</th>\n",
       "    </tr>\n",
       "  </thead>\n",
       "  <tbody>\n",
       "    <tr>\n",
       "      <th>847</th>\n",
       "      <td>2603</td>\n",
       "      <td>595000</td>\n",
       "      <td>4.0</td>\n",
       "      <td>98.0</td>\n",
       "      <td>24.0</td>\n",
       "      <td>Merkezi</td>\n",
       "      <td>Uygun</td>\n",
       "      <td>4. Kat</td>\n",
       "      <td>1.0</td>\n",
       "      <td>Keçiören</td>\n",
       "      <td>938565.0</td>\n",
       "      <td>Lise</td>\n",
       "      <td>1,43</td>\n",
       "    </tr>\n",
       "    <tr>\n",
       "      <th>3634</th>\n",
       "      <td>2603</td>\n",
       "      <td>595000</td>\n",
       "      <td>4.0</td>\n",
       "      <td>NaN</td>\n",
       "      <td>24.0</td>\n",
       "      <td>Merkezi</td>\n",
       "      <td>Uygun</td>\n",
       "      <td>4. Kat</td>\n",
       "      <td>1.0</td>\n",
       "      <td>Keçiören</td>\n",
       "      <td>938565.0</td>\n",
       "      <td>Lise</td>\n",
       "      <td>1,43</td>\n",
       "    </tr>\n",
       "  </tbody>\n",
       "</table>\n",
       "</div>"
      ],
      "text/plain": [
       "        id   fiyat  oda_salon_sayisi  net_m2  bina_yasi isinma_tipi  \\\n",
       "847   2603  595000               4.0    98.0       24.0     Merkezi   \n",
       "3634  2603  595000               4.0     NaN       24.0     Merkezi   \n",
       "\n",
       "     krediye_uygunluk bulundugu_kat  banyo_sayisi      ilce     nüfus eğitim  \\\n",
       "847             Uygun        4. Kat           1.0  Keçiören  938565.0   Lise   \n",
       "3634            Uygun        4. Kat           1.0  Keçiören  938565.0   Lise   \n",
       "\n",
       "     okuma_yazma_bilmeyen  \n",
       "847                  1,43  \n",
       "3634                 1,43  "
      ]
     },
     "execution_count": 6,
     "metadata": {},
     "output_type": "execute_result"
    }
   ],
   "source": [
    "df[df[\"id\"] == 2603]"
   ]
  },
  {
   "cell_type": "markdown",
   "id": "cfa40a20",
   "metadata": {
    "papermill": {
     "duration": 0.043758,
     "end_time": "2022-03-14T19:03:10.005619",
     "exception": false,
     "start_time": "2022-03-14T19:03:09.961861",
     "status": "completed"
    },
    "tags": []
   },
   "source": [
    "##### Additionally, there can be bad formatting in fiyat column like the following. I will also fix this problem."
   ]
  },
  {
   "cell_type": "code",
   "execution_count": 7,
   "id": "5da95504",
   "metadata": {
    "execution": {
     "iopub.execute_input": "2022-03-14T19:03:10.097628Z",
     "iopub.status.busy": "2022-03-14T19:03:10.096993Z",
     "iopub.status.idle": "2022-03-14T19:03:10.113258Z",
     "shell.execute_reply": "2022-03-14T19:03:10.113764Z",
     "shell.execute_reply.started": "2022-03-14T19:02:00.745371Z"
    },
    "papermill": {
     "duration": 0.064748,
     "end_time": "2022-03-14T19:03:10.113953",
     "exception": false,
     "start_time": "2022-03-14T19:03:10.049205",
     "status": "completed"
    },
    "tags": []
   },
   "outputs": [
    {
     "data": {
      "text/html": [
       "<div>\n",
       "<style scoped>\n",
       "    .dataframe tbody tr th:only-of-type {\n",
       "        vertical-align: middle;\n",
       "    }\n",
       "\n",
       "    .dataframe tbody tr th {\n",
       "        vertical-align: top;\n",
       "    }\n",
       "\n",
       "    .dataframe thead th {\n",
       "        text-align: right;\n",
       "    }\n",
       "</style>\n",
       "<table border=\"1\" class=\"dataframe\">\n",
       "  <thead>\n",
       "    <tr style=\"text-align: right;\">\n",
       "      <th></th>\n",
       "      <th>id</th>\n",
       "      <th>fiyat</th>\n",
       "      <th>oda_salon_sayisi</th>\n",
       "      <th>net_m2</th>\n",
       "      <th>bina_yasi</th>\n",
       "      <th>isinma_tipi</th>\n",
       "      <th>krediye_uygunluk</th>\n",
       "      <th>bulundugu_kat</th>\n",
       "      <th>banyo_sayisi</th>\n",
       "      <th>ilce</th>\n",
       "      <th>nüfus</th>\n",
       "      <th>eğitim</th>\n",
       "      <th>okuma_yazma_bilmeyen</th>\n",
       "    </tr>\n",
       "  </thead>\n",
       "  <tbody>\n",
       "    <tr>\n",
       "      <th>1491</th>\n",
       "      <td>3342</td>\n",
       "      <td>725000</td>\n",
       "      <td>2.0</td>\n",
       "      <td>62.0</td>\n",
       "      <td>1.0</td>\n",
       "      <td>Merkezi</td>\n",
       "      <td>Uygun</td>\n",
       "      <td>19. Kat</td>\n",
       "      <td>1.0</td>\n",
       "      <td>Çankaya</td>\n",
       "      <td>925828.0</td>\n",
       "      <td>Lisans</td>\n",
       "      <td>0,7</td>\n",
       "    </tr>\n",
       "    <tr>\n",
       "      <th>3949</th>\n",
       "      <td>3342</td>\n",
       "      <td>7,25E+05</td>\n",
       "      <td>2.0</td>\n",
       "      <td>62.0</td>\n",
       "      <td>1.0</td>\n",
       "      <td>Merkezi</td>\n",
       "      <td>Uygun</td>\n",
       "      <td>19. Kat</td>\n",
       "      <td>1.0</td>\n",
       "      <td>Çankaya</td>\n",
       "      <td>925828.0</td>\n",
       "      <td>Lisans</td>\n",
       "      <td>0,7</td>\n",
       "    </tr>\n",
       "  </tbody>\n",
       "</table>\n",
       "</div>"
      ],
      "text/plain": [
       "        id     fiyat  oda_salon_sayisi  net_m2  bina_yasi isinma_tipi  \\\n",
       "1491  3342    725000               2.0    62.0        1.0     Merkezi   \n",
       "3949  3342  7,25E+05               2.0    62.0        1.0     Merkezi   \n",
       "\n",
       "     krediye_uygunluk bulundugu_kat  banyo_sayisi     ilce     nüfus  eğitim  \\\n",
       "1491            Uygun       19. Kat           1.0  Çankaya  925828.0  Lisans   \n",
       "3949            Uygun       19. Kat           1.0  Çankaya  925828.0  Lisans   \n",
       "\n",
       "     okuma_yazma_bilmeyen  \n",
       "1491                  0,7  \n",
       "3949                  0,7  "
      ]
     },
     "execution_count": 7,
     "metadata": {},
     "output_type": "execute_result"
    }
   ],
   "source": [
    "df[df[\"id\"] == 3342]"
   ]
  },
  {
   "cell_type": "markdown",
   "id": "85d28f44",
   "metadata": {
    "papermill": {
     "duration": 0.043151,
     "end_time": "2022-03-14T19:03:10.200597",
     "exception": false,
     "start_time": "2022-03-14T19:03:10.157446",
     "status": "completed"
    },
    "tags": []
   },
   "source": [
    "##### The following ids are the duplicated id numbers. Let us investigate them."
   ]
  },
  {
   "cell_type": "code",
   "execution_count": 8,
   "id": "a7a26a66",
   "metadata": {
    "execution": {
     "iopub.execute_input": "2022-03-14T19:03:10.290443Z",
     "iopub.status.busy": "2022-03-14T19:03:10.289825Z",
     "iopub.status.idle": "2022-03-14T19:03:10.298622Z",
     "shell.execute_reply": "2022-03-14T19:03:10.299211Z",
     "shell.execute_reply.started": "2022-03-14T19:02:00.767033Z"
    },
    "papermill": {
     "duration": 0.055285,
     "end_time": "2022-03-14T19:03:10.299374",
     "exception": false,
     "start_time": "2022-03-14T19:03:10.244089",
     "status": "completed"
    },
    "tags": []
   },
   "outputs": [
    {
     "name": "stdout",
     "output_type": "stream",
     "text": [
      "[ 396 2603 2671 4815 3977 4773 4448 4229 2620 1385 3942 2606 3520 1011\n",
      " 1030 3199  404 3364 3543 2264  394  973 3538 4641  681 1746  769 2829\n",
      "  595 1469  142 4940 3923 2339 4950 1123  503 1845 3469 3018  285 3069\n",
      " 4832 4157 2634 3241 2568  741 1539 1642  351 1282 3956 2873 2221 4865\n",
      "  114 3441 3002 1953 2163 3231 2629  405 4433  261 1278 3618 2762 1594\n",
      " 1320 2102 3983 2246 1650 4533  138  866 4208 1592 4636 1668 1976 1023\n",
      " 3074 4676 1989 1589 2647 4755 2028  357 3757 2314 3395 4482  495  635\n",
      " 1804 1144 4699 4912  721 2430 4191 4283 3982 4490 1168  744 1528 3342\n",
      " 1791 1608 1446 1961  615 3948 1936 3980  999 2948 3407 4936  627 4218\n",
      " 3361 3946 1584  433   24 3076   35  316 3566  777 2311 4092 2995 4480\n",
      " 1154 1963  941 2982  938 2925 1163 2139 1987  470 4082 3006 4451 4309\n",
      " 3107 2267 1731 4665   19 4638 2331 3666 2642  154 2985 3711 1884 1702\n",
      " 2644 2684 2901 1172 4525 2990 3287  853  828 4894 3128 1505 4014 4926\n",
      "  224  655 3153  304 4241 3059 1942  667 4452 1684 1641  844 1739 3175\n",
      " 4314 2185 4023 4286 3874 4721  843 4051 3123 3166 4367  165 2137 4217\n",
      " 3984  500 4856 2926 3293 4192 2798 2002 2608 1482 1392  879 2529 4357\n",
      " 3535  117 4224 3972 1548   90  674 2125 3696 1960 3313 3936 1090  672\n",
      " 4598 2923 3758 2444 4010 2905 4794  174 4226  499    1 1644 2858 1244\n",
      " 3531 1178 2188 4297    8]\n"
     ]
    }
   ],
   "source": [
    "np.set_printoptions(threshold=np.inf)\n",
    "duplicated_ids = df[\"id\"].value_counts()[df[\"id\"].value_counts() != 1].index.values\n",
    "print(duplicated_ids)\n",
    "np.set_printoptions(threshold=5)"
   ]
  },
  {
   "cell_type": "code",
   "execution_count": 9,
   "id": "6b56c023",
   "metadata": {
    "execution": {
     "iopub.execute_input": "2022-03-14T19:03:10.394500Z",
     "iopub.status.busy": "2022-03-14T19:03:10.392879Z",
     "iopub.status.idle": "2022-03-14T19:03:11.217184Z",
     "shell.execute_reply": "2022-03-14T19:03:11.216472Z",
     "shell.execute_reply.started": "2022-03-14T19:02:00.779779Z"
    },
    "papermill": {
     "duration": 0.87397,
     "end_time": "2022-03-14T19:03:11.217384",
     "exception": false,
     "start_time": "2022-03-14T19:03:10.343414",
     "status": "completed"
    },
    "tags": []
   },
   "outputs": [
    {
     "name": "stdout",
     "output_type": "stream",
     "text": [
      "2603\n",
      "4773\n",
      "4448\n",
      "3520\n",
      "1011\n",
      "404\n",
      "142\n",
      "1642\n",
      "1282\n",
      "2221\n",
      "114\n",
      "357\n",
      "4482\n",
      "3982\n",
      "1528\n",
      "3342\n",
      "2311\n",
      "2139\n",
      "4451\n",
      "4309\n",
      "828\n",
      "4926\n",
      "224\n",
      "4314\n",
      "4217\n",
      "3293\n",
      "1482\n"
     ]
    }
   ],
   "source": [
    "# The following ids are the duplicated ids and one of them includes nan values.\n",
    "# or one of them includes bad formatting like 9,50E+05 instead of 950000.\n",
    "def duplicated_id_printer():\n",
    "    for i in duplicated_ids:\n",
    "        sub_df = df[df[\"id\"] == i].drop_duplicates()\n",
    "        if len(sub_df) == 2:\n",
    "            # if len == 2 then they are not identical. if len == 1, they were identical, but one of them is dropped with .drop_duplicates() method.\n",
    "            # So the non-identical ones is printed. Note that their ids are identical.\n",
    "            print(i)\n",
    "duplicated_id_printer()"
   ]
  },
  {
   "cell_type": "markdown",
   "id": "7b8e5682",
   "metadata": {
    "papermill": {
     "duration": 0.046207,
     "end_time": "2022-03-14T19:03:11.310780",
     "exception": false,
     "start_time": "2022-03-14T19:03:11.264573",
     "status": "completed"
    },
    "tags": []
   },
   "source": [
    "##### The bad formatted rows in fiyat column are fixed an the data type is changed to float64."
   ]
  },
  {
   "cell_type": "code",
   "execution_count": 10,
   "id": "b3846562",
   "metadata": {
    "execution": {
     "iopub.execute_input": "2022-03-14T19:03:11.431634Z",
     "iopub.status.busy": "2022-03-14T19:03:11.430564Z",
     "iopub.status.idle": "2022-03-14T19:03:11.433409Z",
     "shell.execute_reply": "2022-03-14T19:03:11.432886Z",
     "shell.execute_reply.started": "2022-03-14T19:02:01.557258Z"
    },
    "papermill": {
     "duration": 0.074016,
     "end_time": "2022-03-14T19:03:11.433550",
     "exception": false,
     "start_time": "2022-03-14T19:03:11.359534",
     "status": "completed"
    },
    "tags": []
   },
   "outputs": [],
   "source": [
    "# So, now I will fix the data type and format of the \"fiyat\" column.\n",
    "# fiyat column is change to float64 from object.\n",
    "df[\"fiyat\"] = df[\"fiyat\"].replace(to_replace=\",\", value=\".\", regex=True).astype(\"float64\")\n",
    "df[\"okuma_yazma_bilmeyen\"] = df[\"okuma_yazma_bilmeyen\"].replace(to_replace=\",\", value=\".\", regex=True).astype(\"float64\")"
   ]
  },
  {
   "cell_type": "markdown",
   "id": "d0961378",
   "metadata": {
    "papermill": {
     "duration": 0.045648,
     "end_time": "2022-03-14T19:03:11.525032",
     "exception": false,
     "start_time": "2022-03-14T19:03:11.479384",
     "status": "completed"
    },
    "tags": []
   },
   "source": [
    "##### Manually, nan-included duplicated rows are dropped, and the other meaningful row is preserved."
   ]
  },
  {
   "cell_type": "code",
   "execution_count": 11,
   "id": "5507736b",
   "metadata": {
    "execution": {
     "iopub.execute_input": "2022-03-14T19:03:11.620793Z",
     "iopub.status.busy": "2022-03-14T19:03:11.619860Z",
     "iopub.status.idle": "2022-03-14T19:03:12.355756Z",
     "shell.execute_reply": "2022-03-14T19:03:12.354867Z",
     "shell.execute_reply.started": "2022-03-14T19:02:01.583609Z"
    },
    "papermill": {
     "duration": 0.785032,
     "end_time": "2022-03-14T19:03:12.355974",
     "exception": false,
     "start_time": "2022-03-14T19:03:11.570942",
     "status": "completed"
    },
    "tags": []
   },
   "outputs": [
    {
     "name": "stdout",
     "output_type": "stream",
     "text": [
      "These are the ids including nan values of duplicated rows.\n",
      "2603\n",
      "4773\n",
      "4448\n",
      "3520\n",
      "357\n",
      "828\n",
      "224\n",
      "\n",
      "These are the indexes including nan values of duplicated rows.\n",
      "3634\n",
      "2161\n",
      "1813\n",
      "4204\n",
      "2589\n",
      "1457\n",
      "3633\n"
     ]
    }
   ],
   "source": [
    "print(\"These are the ids including nan values of duplicated rows.\")\n",
    "duplicated_id_printer()\n",
    "print(\"\\nThese are the indexes including nan values of duplicated rows.\")\n",
    "\n",
    "# let us drop these them.\n",
    "for i in [2603, 4773, 4448, 3520, 357, 828, 224]:\n",
    "    temp_s = pd.isnull(df[df[\"id\"] == i]).sum(axis=1)\n",
    "    the_index = temp_s[temp_s == 1].index.values[0]\n",
    "    print(the_index)\n",
    "    df.drop(the_index, inplace=True)"
   ]
  },
  {
   "cell_type": "markdown",
   "id": "8eaea070",
   "metadata": {
    "papermill": {
     "duration": 0.046555,
     "end_time": "2022-03-14T19:03:12.450928",
     "exception": false,
     "start_time": "2022-03-14T19:03:12.404373",
     "status": "completed"
    },
    "tags": []
   },
   "source": [
    "##### Every distinct has a unique education level. So we can fill some of the nan values(nüfus, eğitim) by using the distinct names. But to do this properly, I have to fix some formatting problem in \"ilce\" and \"eğitim\" columns."
   ]
  },
  {
   "cell_type": "code",
   "execution_count": 12,
   "id": "db25c8ee",
   "metadata": {
    "execution": {
     "iopub.execute_input": "2022-03-14T19:03:12.553370Z",
     "iopub.status.busy": "2022-03-14T19:03:12.552656Z",
     "iopub.status.idle": "2022-03-14T19:03:12.619358Z",
     "shell.execute_reply": "2022-03-14T19:03:12.618808Z",
     "shell.execute_reply.started": "2022-03-14T19:02:02.364504Z"
    },
    "papermill": {
     "duration": 0.121846,
     "end_time": "2022-03-14T19:03:12.619514",
     "exception": false,
     "start_time": "2022-03-14T19:03:12.497668",
     "status": "completed"
    },
    "tags": []
   },
   "outputs": [
    {
     "name": "stdout",
     "output_type": "stream",
     "text": [
      "Before formatting 'eğitim' and 'nüfus' column\n",
      "Çankaya: Lisans, liSans\n",
      "Keçiören: liS3, Lise\n",
      "Sincan: liS3, Lise\n",
      "Mamak: Lise\n",
      "cankaya: Lisans\n",
      "nan: \n",
      "------------\n",
      "Çankaya: 925828.0\n",
      "Keçiören: 938565.0\n",
      "Sincan: 549108.0\n",
      "Mamak: 669465.0\n",
      "cankaya: 925828.0\n",
      "nan: \n",
      "###########\n",
      "After formatting 'eğitim' and 'nüfus' column\n",
      "çankaya: lisans\n",
      "keçiören: lise\n",
      "sincan: lise\n",
      "mamak: lise\n",
      "nan: \n",
      "------------\n",
      "çankaya: 925828.0\n",
      "keçiören: 938565.0\n",
      "sincan: 549108.0\n",
      "mamak: 669465.0\n",
      "nan: \n",
      "------------\n",
      "The illeteracy rate\n",
      "çankaya: 0.7, 0.0\n",
      "keçiören: 0.0, 1.43\n",
      "sincan: 0.0, 1.44\n",
      "mamak: 1.9\n",
      "nan: \n"
     ]
    }
   ],
   "source": [
    "print(\"Before formatting 'eğitim' and 'nüfus' column\")\n",
    "for i in df[\"ilce\"].unique():\n",
    "    print(str(i)+\":\", \", \".join( str(i) for i in list(set(df[df[\"ilce\"] == i][\"eğitim\"])) if not pd.isnull(i)))\n",
    "print(\"------------\")\n",
    "for i in df[\"ilce\"].unique():\n",
    "    print(str(i)+\":\", \", \".join( str(i) for i in list(set(df[df[\"ilce\"] == i][\"nüfus\"])) if not pd.isnull(i)))\n",
    "\n",
    "# cankaya becomes çankaya in the following series and ilce column data type is maden category.\n",
    "df[\"ilce\"] = df[\"ilce\"].str.lower().replace(\"(c)ank\", \"çank\", regex=True).astype(\"category\")\n",
    "# lis3 becomees lise in eğitim column.\n",
    "df[\"eğitim\"] = df[\"eğitim\"].str.lower().replace(\"lis3\", \"lise\").astype(\"category\")\n",
    "\n",
    "print(\"###########\")\n",
    "\n",
    "print(\"After formatting 'eğitim' and 'nüfus' column\")\n",
    "for i in df[\"ilce\"].unique():\n",
    "    print(str(i)+\":\", \", \".join( str(i) for i in list(set(df[df[\"ilce\"] == i][\"eğitim\"])) if not pd.isnull(i)))\n",
    "print(\"------------\")\n",
    "for i in df[\"ilce\"].unique():\n",
    "    print(str(i)+\":\", \", \".join( str(i) for i in list(set(df[df[\"ilce\"] == i][\"nüfus\"])) if not pd.isnull(i)))\n",
    "\n",
    "print(\"------------\")\n",
    "print(\"The illeteracy rate\")\n",
    "for i in df[\"ilce\"].unique():\n",
    "    print(str(i)+\":\", \", \".join( str(i) for i in list(set(df[df[\"ilce\"] == i][\"okuma_yazma_bilmeyen\"])) if not pd.isnull(i)))"
   ]
  },
  {
   "cell_type": "code",
   "execution_count": 13,
   "id": "24171983",
   "metadata": {
    "execution": {
     "iopub.execute_input": "2022-03-14T19:03:12.718037Z",
     "iopub.status.busy": "2022-03-14T19:03:12.717031Z",
     "iopub.status.idle": "2022-03-14T19:03:13.768386Z",
     "shell.execute_reply": "2022-03-14T19:03:13.767309Z",
     "shell.execute_reply.started": "2022-03-14T19:02:02.448299Z"
    },
    "papermill": {
     "duration": 1.101548,
     "end_time": "2022-03-14T19:03:13.768556",
     "exception": false,
     "start_time": "2022-03-14T19:03:12.667008",
     "status": "completed"
    },
    "tags": []
   },
   "outputs": [],
   "source": [
    "# Nan values of \"nüfus\" and \"eğitim\", \"ilce\" and \"okuma_yazma_bilmeyen\" columns are filled.\n",
    "\n",
    "educ_dict = {\"çankaya\": \"lisans\", \"keçiören\": \"lise\", \"sincan\": \"lise\", \"mamak\": \"lise\"}\n",
    "cons_dict = {\"çankaya\": 925828.0, \"keçiören\": 938565.0, \"sincan\": 549108.0, \"mamak\": 669465.0}\n",
    "cons2_dict = {925828.0: 'çankaya', 938565.0: 'keçiören', 549108.0: 'sincan', 669465.0: 'mamak'}\n",
    "\n",
    "\n",
    "def nan_filler(row, target_col_name, base_col_name, d):\n",
    "    \"\"\"This function is used to fill nan values of target_col_name column based on base_col_name column.\"\"\"\n",
    "    if pd.isnull(row[target_col_name]):\n",
    "        row[target_col_name] = d[row[base_col_name]]\n",
    "    return row\n",
    "\n",
    "df = df.apply(func=nan_filler, args=(\"nüfus\", \"ilce\", cons_dict) ,axis=1)\n",
    "df = df.apply(func=nan_filler, args=(\"eğitim\", \"ilce\", educ_dict) ,axis=1)\n",
    "df = df.apply(func=nan_filler, args=(\"ilce\", \"nüfus\", cons2_dict) ,axis=1)"
   ]
  },
  {
   "cell_type": "markdown",
   "id": "d5d27a85",
   "metadata": {
    "papermill": {
     "duration": 0.049066,
     "end_time": "2022-03-14T19:03:13.866266",
     "exception": false,
     "start_time": "2022-03-14T19:03:13.817200",
     "status": "completed"
    },
    "tags": []
   },
   "source": [
    "##### I also fill the nan and zero values of \"okuma_yazma_bilmeyen\" column because the illeteracy rate of a specific distict should be same but these are filled with 0 instead of the correct values."
   ]
  },
  {
   "cell_type": "code",
   "execution_count": 14,
   "id": "0387445b",
   "metadata": {
    "execution": {
     "iopub.execute_input": "2022-03-14T19:03:13.968506Z",
     "iopub.status.busy": "2022-03-14T19:03:13.967834Z",
     "iopub.status.idle": "2022-03-14T19:03:14.370578Z",
     "shell.execute_reply": "2022-03-14T19:03:14.371062Z",
     "shell.execute_reply.started": "2022-03-14T19:02:03.528872Z"
    },
    "papermill": {
     "duration": 0.457023,
     "end_time": "2022-03-14T19:03:14.371244",
     "exception": false,
     "start_time": "2022-03-14T19:03:13.914221",
     "status": "completed"
    },
    "tags": []
   },
   "outputs": [
    {
     "data": {
      "text/html": [
       "<div>\n",
       "<style scoped>\n",
       "    .dataframe tbody tr th:only-of-type {\n",
       "        vertical-align: middle;\n",
       "    }\n",
       "\n",
       "    .dataframe tbody tr th {\n",
       "        vertical-align: top;\n",
       "    }\n",
       "\n",
       "    .dataframe thead th {\n",
       "        text-align: right;\n",
       "    }\n",
       "</style>\n",
       "<table border=\"1\" class=\"dataframe\">\n",
       "  <thead>\n",
       "    <tr style=\"text-align: right;\">\n",
       "      <th></th>\n",
       "      <th>id</th>\n",
       "      <th>fiyat</th>\n",
       "      <th>oda_salon_sayisi</th>\n",
       "      <th>net_m2</th>\n",
       "      <th>bina_yasi</th>\n",
       "      <th>isinma_tipi</th>\n",
       "      <th>krediye_uygunluk</th>\n",
       "      <th>bulundugu_kat</th>\n",
       "      <th>banyo_sayisi</th>\n",
       "      <th>ilce</th>\n",
       "      <th>nüfus</th>\n",
       "      <th>eğitim</th>\n",
       "      <th>okuma_yazma_bilmeyen</th>\n",
       "    </tr>\n",
       "  </thead>\n",
       "  <tbody>\n",
       "    <tr>\n",
       "      <th>25</th>\n",
       "      <td>4898</td>\n",
       "      <td>4250000.0</td>\n",
       "      <td>5.0</td>\n",
       "      <td>280.0</td>\n",
       "      <td>30.0</td>\n",
       "      <td>Merkezi</td>\n",
       "      <td>Uygun</td>\n",
       "      <td>4. Kat</td>\n",
       "      <td>4.0</td>\n",
       "      <td>keçiören</td>\n",
       "      <td>938565.0</td>\n",
       "      <td>lise</td>\n",
       "      <td>0.0</td>\n",
       "    </tr>\n",
       "    <tr>\n",
       "      <th>409</th>\n",
       "      <td>2389</td>\n",
       "      <td>780000.0</td>\n",
       "      <td>4.0</td>\n",
       "      <td>90.0</td>\n",
       "      <td>5.0</td>\n",
       "      <td>Kombi</td>\n",
       "      <td>Uygun</td>\n",
       "      <td>Yüksek Giriş</td>\n",
       "      <td>1.0</td>\n",
       "      <td>keçiören</td>\n",
       "      <td>938565.0</td>\n",
       "      <td>lise</td>\n",
       "      <td>0.0</td>\n",
       "    </tr>\n",
       "    <tr>\n",
       "      <th>503</th>\n",
       "      <td>3591</td>\n",
       "      <td>575000.0</td>\n",
       "      <td>5.0</td>\n",
       "      <td>155.0</td>\n",
       "      <td>14.0</td>\n",
       "      <td>Kombi</td>\n",
       "      <td>Uygun</td>\n",
       "      <td>3. Kat</td>\n",
       "      <td>2.0</td>\n",
       "      <td>çankaya</td>\n",
       "      <td>925828.0</td>\n",
       "      <td>lisans</td>\n",
       "      <td>0.0</td>\n",
       "    </tr>\n",
       "    <tr>\n",
       "      <th>587</th>\n",
       "      <td>3319</td>\n",
       "      <td>260000.0</td>\n",
       "      <td>4.0</td>\n",
       "      <td>110.0</td>\n",
       "      <td>27.0</td>\n",
       "      <td>Kombi</td>\n",
       "      <td>Uygun</td>\n",
       "      <td>Kot 1</td>\n",
       "      <td>1.0</td>\n",
       "      <td>keçiören</td>\n",
       "      <td>938565.0</td>\n",
       "      <td>lise</td>\n",
       "      <td>0.0</td>\n",
       "    </tr>\n",
       "    <tr>\n",
       "      <th>604</th>\n",
       "      <td>3454</td>\n",
       "      <td>695000.0</td>\n",
       "      <td>7.0</td>\n",
       "      <td>NaN</td>\n",
       "      <td>25.0</td>\n",
       "      <td>Kombi</td>\n",
       "      <td>Uygun</td>\n",
       "      <td>3. Kat</td>\n",
       "      <td>2.0</td>\n",
       "      <td>çankaya</td>\n",
       "      <td>925828.0</td>\n",
       "      <td>lisans</td>\n",
       "      <td>0.0</td>\n",
       "    </tr>\n",
       "  </tbody>\n",
       "</table>\n",
       "</div>"
      ],
      "text/plain": [
       "       id      fiyat  oda_salon_sayisi  net_m2  bina_yasi isinma_tipi  \\\n",
       "25   4898  4250000.0               5.0   280.0       30.0     Merkezi   \n",
       "409  2389   780000.0               4.0    90.0        5.0       Kombi   \n",
       "503  3591   575000.0               5.0   155.0       14.0       Kombi   \n",
       "587  3319   260000.0               4.0   110.0       27.0       Kombi   \n",
       "604  3454   695000.0               7.0     NaN       25.0       Kombi   \n",
       "\n",
       "    krediye_uygunluk bulundugu_kat  banyo_sayisi      ilce     nüfus  eğitim  \\\n",
       "25             Uygun        4. Kat           4.0  keçiören  938565.0    lise   \n",
       "409            Uygun  Yüksek Giriş           1.0  keçiören  938565.0    lise   \n",
       "503            Uygun        3. Kat           2.0   çankaya  925828.0  lisans   \n",
       "587            Uygun         Kot 1           1.0  keçiören  938565.0    lise   \n",
       "604            Uygun        3. Kat           2.0   çankaya  925828.0  lisans   \n",
       "\n",
       "     okuma_yazma_bilmeyen  \n",
       "25                    0.0  \n",
       "409                   0.0  \n",
       "503                   0.0  \n",
       "587                   0.0  \n",
       "604                   0.0  "
      ]
     },
     "execution_count": 14,
     "metadata": {},
     "output_type": "execute_result"
    }
   ],
   "source": [
    "illetracy_dict = {\"çankaya\": 0.70, \"keçiören\": 1.43, \"sincan\": 1.44, \"mamak\": 1.90}\n",
    "\n",
    "# First let us fill the nan values in \"okuma_yazma_bilmeyen\" column\n",
    "df = df.apply(func=nan_filler, args=(\"okuma_yazma_bilmeyen\", \"ilce\", illetracy_dict), axis=1)\n",
    "\n",
    "# Then let us continue with zeros. \n",
    "df[df[\"okuma_yazma_bilmeyen\"] == 0].head()"
   ]
  },
  {
   "cell_type": "code",
   "execution_count": 15,
   "id": "30e64717",
   "metadata": {
    "execution": {
     "iopub.execute_input": "2022-03-14T19:03:14.470709Z",
     "iopub.status.busy": "2022-03-14T19:03:14.469771Z",
     "iopub.status.idle": "2022-03-14T19:03:14.858589Z",
     "shell.execute_reply": "2022-03-14T19:03:14.858002Z",
     "shell.execute_reply.started": "2022-03-14T19:02:03.936393Z"
    },
    "papermill": {
     "duration": 0.439549,
     "end_time": "2022-03-14T19:03:14.858737",
     "exception": false,
     "start_time": "2022-03-14T19:03:14.419188",
     "status": "completed"
    },
    "tags": []
   },
   "outputs": [],
   "source": [
    "def zero_filler(row, target_col_name, base_col_name, d):\n",
    "    if row[target_col_name] == 0:\n",
    "        row[target_col_name] = d[row[base_col_name]]\n",
    "    return row\n",
    "df = df.apply(func=zero_filler, args=(\"okuma_yazma_bilmeyen\", \"ilce\", illetracy_dict), axis=1)"
   ]
  },
  {
   "cell_type": "markdown",
   "id": "07b9ea3b",
   "metadata": {
    "papermill": {
     "duration": 0.047747,
     "end_time": "2022-03-14T19:03:14.954624",
     "exception": false,
     "start_time": "2022-03-14T19:03:14.906877",
     "status": "completed"
    },
    "tags": []
   },
   "source": [
    "##### From now on, I drop nan values and duplicates."
   ]
  },
  {
   "cell_type": "code",
   "execution_count": 16,
   "id": "a8cee708",
   "metadata": {
    "execution": {
     "iopub.execute_input": "2022-03-14T19:03:15.058780Z",
     "iopub.status.busy": "2022-03-14T19:03:15.057788Z",
     "iopub.status.idle": "2022-03-14T19:03:15.072752Z",
     "shell.execute_reply": "2022-03-14T19:03:15.072136Z",
     "shell.execute_reply.started": "2022-03-14T19:02:04.327232Z"
    },
    "papermill": {
     "duration": 0.070049,
     "end_time": "2022-03-14T19:03:15.072885",
     "exception": false,
     "start_time": "2022-03-14T19:03:15.002836",
     "status": "completed"
    },
    "tags": []
   },
   "outputs": [],
   "source": [
    "df = df.drop_duplicates()\n",
    "df = df.dropna()"
   ]
  },
  {
   "cell_type": "markdown",
   "id": "4c6c1e78",
   "metadata": {
    "papermill": {
     "duration": 0.047805,
     "end_time": "2022-03-14T19:03:15.174648",
     "exception": false,
     "start_time": "2022-03-14T19:03:15.126843",
     "status": "completed"
    },
    "tags": []
   },
   "source": [
    "##### Some of the values in \"net_m2\" column are too small for a house and even some of them have negative values. So I drop the houses whose are is less than 5 meter square, which is just an arbitrary small number."
   ]
  },
  {
   "cell_type": "code",
   "execution_count": 17,
   "id": "05fe1e36",
   "metadata": {
    "execution": {
     "iopub.execute_input": "2022-03-14T19:03:15.277569Z",
     "iopub.status.busy": "2022-03-14T19:03:15.276930Z",
     "iopub.status.idle": "2022-03-14T19:03:15.278872Z",
     "shell.execute_reply": "2022-03-14T19:03:15.278288Z",
     "shell.execute_reply.started": "2022-03-14T19:02:04.347149Z"
    },
    "papermill": {
     "duration": 0.056409,
     "end_time": "2022-03-14T19:03:15.279028",
     "exception": false,
     "start_time": "2022-03-14T19:03:15.222619",
     "status": "completed"
    },
    "tags": []
   },
   "outputs": [],
   "source": [
    "df = df.drop(df[df[\"net_m2\"] <= 5].index)"
   ]
  },
  {
   "cell_type": "markdown",
   "id": "cc0db795",
   "metadata": {
    "papermill": {
     "duration": 0.047947,
     "end_time": "2022-03-14T19:03:15.374942",
     "exception": false,
     "start_time": "2022-03-14T19:03:15.326995",
     "status": "completed"
    },
    "tags": []
   },
   "source": [
    "### <b style=\"color:blue\">SORU 2: Verilen veri seti üzerinden iki tane sayısal veri belirleyin ve bu değişkenler arasındaki ilişkiyi inceleyin. İncelerken kullandığınız yöntemleri ve yorumları açıklayın. </b>"
   ]
  },
  {
   "cell_type": "markdown",
   "id": "70bad930",
   "metadata": {
    "papermill": {
     "duration": 0.047819,
     "end_time": "2022-03-14T19:03:15.470749",
     "exception": false,
     "start_time": "2022-03-14T19:03:15.422930",
     "status": "completed"
    },
    "tags": []
   },
   "source": [
    "#### Let us inverstigate the relationship between \"fiyat\" and \"net_m2\" by using seaborn library and pearsonr correlation coeefficient function."
   ]
  },
  {
   "cell_type": "code",
   "execution_count": 18,
   "id": "67515860",
   "metadata": {
    "execution": {
     "iopub.execute_input": "2022-03-14T19:03:15.573865Z",
     "iopub.status.busy": "2022-03-14T19:03:15.573231Z",
     "iopub.status.idle": "2022-03-14T19:03:16.419494Z",
     "shell.execute_reply": "2022-03-14T19:03:16.420136Z",
     "shell.execute_reply.started": "2022-03-14T19:02:04.354853Z"
    },
    "papermill": {
     "duration": 0.901424,
     "end_time": "2022-03-14T19:03:16.420311",
     "exception": false,
     "start_time": "2022-03-14T19:03:15.518887",
     "status": "completed"
    },
    "tags": []
   },
   "outputs": [
    {
     "data": {
      "image/png": "[encoded data removed]",
      "text/plain": [
       "<Figure size 1440x480 with 1 Axes>"
      ]
     },
     "metadata": {
      "needs_background": "light"
     },
     "output_type": "display_data"
    }
   ],
   "source": [
    "fiyat = df[\"fiyat\"]\n",
    "m2 = df[\"net_m2\"]\n",
    "fig, ax = plt.subplots(figsize=(12,4), dpi=120)\n",
    "sns.regplot(x=\"fiyat\", y=\"net_m2\", data=df, ax=ax, \n",
    "            scatter_kws={\"alpha\": 0.4, \"color\":\"#0E185F\"}, \n",
    "            line_kws={\"color\": \"#2FA4FF\"}\n",
    ")\n",
    "\n",
    "# setting the texts on the graph.\n",
    "ax.set_title(\"Area & Price of Home\", alpha=0.7)\n",
    "ax.set_xlabel(\"The price of the property (TL)\")\n",
    "ax.set_ylabel(\"Area $m^2$\")\n",
    "\n",
    "# set the limits of the axes for visualization concerns.\n",
    "ax.axis([0, 8e6, 0, 700])\n",
    "plt.show()"
   ]
  },
  {
   "cell_type": "code",
   "execution_count": 19,
   "id": "61fb1b68",
   "metadata": {
    "execution": {
     "iopub.execute_input": "2022-03-14T19:03:16.529771Z",
     "iopub.status.busy": "2022-03-14T19:03:16.529114Z",
     "iopub.status.idle": "2022-03-14T19:03:16.532781Z",
     "shell.execute_reply": "2022-03-14T19:03:16.533347Z",
     "shell.execute_reply.started": "2022-03-14T19:02:05.225449Z"
    },
    "papermill": {
     "duration": 0.060721,
     "end_time": "2022-03-14T19:03:16.533517",
     "exception": false,
     "start_time": "2022-03-14T19:03:16.472796",
     "status": "completed"
    },
    "tags": []
   },
   "outputs": [
    {
     "name": "stdout",
     "output_type": "stream",
     "text": [
      "The pearson correleation coefficient is 0.6315191308853846. We can say that area and the price of a house are moderately correlated.\n"
     ]
    }
   ],
   "source": [
    "r, p_value = pearsonr(df[\"fiyat\"], df[\"net_m2\"])\n",
    "print(f\"The pearson correleation coefficient is {r}. We can say that area and the price of a house are moderately correlated.\")"
   ]
  },
  {
   "cell_type": "markdown",
   "id": "c7501734",
   "metadata": {
    "papermill": {
     "duration": 0.051043,
     "end_time": "2022-03-14T19:03:16.636099",
     "exception": false,
     "start_time": "2022-03-14T19:03:16.585056",
     "status": "completed"
    },
    "tags": []
   },
   "source": [
    "### <b style=\"color:blue\"> SORU 3: Verilen ilçelere göre kaç tane merkezi ısınmaya sahip 2.kat ve üzeri katlarda bulunan evler vardır? Grafik üzerinde gösteriniz. Grafiğinizi oluştururken yaptığınız operasyonları açıklayın.</b>"
   ]
  },
  {
   "cell_type": "markdown",
   "id": "4a7f5b92",
   "metadata": {
    "papermill": {
     "duration": 0.050999,
     "end_time": "2022-03-14T19:03:16.738323",
     "exception": false,
     "start_time": "2022-03-14T19:03:16.687324",
     "status": "completed"
    },
    "tags": []
   },
   "source": [
    "#### Let us make ordered categorical data type for \"bulundugu_kat\" column in order to select the above floors of the 2nd floor and filter \"Merkezi\" heating method."
   ]
  },
  {
   "cell_type": "code",
   "execution_count": 20,
   "id": "9694fb26",
   "metadata": {
    "execution": {
     "iopub.execute_input": "2022-03-14T19:03:16.845885Z",
     "iopub.status.busy": "2022-03-14T19:03:16.845245Z",
     "iopub.status.idle": "2022-03-14T19:03:16.852974Z",
     "shell.execute_reply": "2022-03-14T19:03:16.853464Z",
     "shell.execute_reply.started": "2022-03-14T19:02:05.232903Z"
    },
    "papermill": {
     "duration": 0.063712,
     "end_time": "2022-03-14T19:03:16.853653",
     "exception": false,
     "start_time": "2022-03-14T19:03:16.789941",
     "status": "completed"
    },
    "tags": []
   },
   "outputs": [],
   "source": [
    "ls = ['Kot 3', 'Kot 2', 'Kot 1', 'Bodrum', 'Zemin', 'Giriş Katı', 'Ara Kat', 'Bahçe Katı', 'Yüksek Giriş', '1. Kat', '2. Kat', \n",
    "      '3. Kat', '4. Kat', 'Villa Katı', '5. Kat', '6. Kat', '7. Kat', '8. Kat', '9. Kat', '10. Kat', '11. Kat', '12. Kat', \n",
    "      '13. Kat', '14. Kat', '15. Kat', '16. Kat', '17. Kat', '18. Kat', '19. Kat', '20. Kat', '21 ve üzeri', 'Çatı Katı', \n",
    "      'En Üst Kat', 'Teras Katı']\n",
    "\n",
    "df[\"bulundugu_kat\"] = df[\"bulundugu_kat\"].astype(pd.CategoricalDtype(ls, ordered=True))"
   ]
  },
  {
   "cell_type": "code",
   "execution_count": 21,
   "id": "891cff8d",
   "metadata": {
    "execution": {
     "iopub.execute_input": "2022-03-14T19:03:16.961260Z",
     "iopub.status.busy": "2022-03-14T19:03:16.960561Z",
     "iopub.status.idle": "2022-03-14T19:03:16.986151Z",
     "shell.execute_reply": "2022-03-14T19:03:16.986936Z",
     "shell.execute_reply.started": "2022-03-14T19:02:05.247545Z"
    },
    "papermill": {
     "duration": 0.081587,
     "end_time": "2022-03-14T19:03:16.987138",
     "exception": false,
     "start_time": "2022-03-14T19:03:16.905551",
     "status": "completed"
    },
    "tags": []
   },
   "outputs": [
    {
     "data": {
      "text/html": [
       "<div>\n",
       "<style scoped>\n",
       "    .dataframe tbody tr th:only-of-type {\n",
       "        vertical-align: middle;\n",
       "    }\n",
       "\n",
       "    .dataframe tbody tr th {\n",
       "        vertical-align: top;\n",
       "    }\n",
       "\n",
       "    .dataframe thead th {\n",
       "        text-align: right;\n",
       "    }\n",
       "</style>\n",
       "<table border=\"1\" class=\"dataframe\">\n",
       "  <thead>\n",
       "    <tr style=\"text-align: right;\">\n",
       "      <th></th>\n",
       "      <th>id</th>\n",
       "      <th>fiyat</th>\n",
       "      <th>oda_salon_sayisi</th>\n",
       "      <th>net_m2</th>\n",
       "      <th>bina_yasi</th>\n",
       "      <th>isinma_tipi</th>\n",
       "      <th>krediye_uygunluk</th>\n",
       "      <th>bulundugu_kat</th>\n",
       "      <th>banyo_sayisi</th>\n",
       "      <th>ilce</th>\n",
       "      <th>nüfus</th>\n",
       "      <th>eğitim</th>\n",
       "      <th>okuma_yazma_bilmeyen</th>\n",
       "    </tr>\n",
       "  </thead>\n",
       "  <tbody>\n",
       "    <tr>\n",
       "      <th>8</th>\n",
       "      <td>3313</td>\n",
       "      <td>1250000.0</td>\n",
       "      <td>5.0</td>\n",
       "      <td>195.0</td>\n",
       "      <td>0.0</td>\n",
       "      <td>Merkezi(PayÖlçer)</td>\n",
       "      <td>Uygun</td>\n",
       "      <td>4. Kat</td>\n",
       "      <td>2.0</td>\n",
       "      <td>keçiören</td>\n",
       "      <td>938565.0</td>\n",
       "      <td>lise</td>\n",
       "      <td>1.43</td>\n",
       "    </tr>\n",
       "    <tr>\n",
       "      <th>18</th>\n",
       "      <td>2053</td>\n",
       "      <td>850000.0</td>\n",
       "      <td>3.0</td>\n",
       "      <td>110.0</td>\n",
       "      <td>3.0</td>\n",
       "      <td>Merkezi(PayÖlçer)</td>\n",
       "      <td>Uygun</td>\n",
       "      <td>7. Kat</td>\n",
       "      <td>2.0</td>\n",
       "      <td>keçiören</td>\n",
       "      <td>938565.0</td>\n",
       "      <td>lise</td>\n",
       "      <td>1.43</td>\n",
       "    </tr>\n",
       "    <tr>\n",
       "      <th>19</th>\n",
       "      <td>2125</td>\n",
       "      <td>739000.0</td>\n",
       "      <td>5.0</td>\n",
       "      <td>150.0</td>\n",
       "      <td>22.0</td>\n",
       "      <td>Merkezi</td>\n",
       "      <td>Uygun</td>\n",
       "      <td>2. Kat</td>\n",
       "      <td>2.0</td>\n",
       "      <td>çankaya</td>\n",
       "      <td>925828.0</td>\n",
       "      <td>lisans</td>\n",
       "      <td>0.70</td>\n",
       "    </tr>\n",
       "    <tr>\n",
       "      <th>22</th>\n",
       "      <td>1041</td>\n",
       "      <td>1875000.0</td>\n",
       "      <td>6.0</td>\n",
       "      <td>350.0</td>\n",
       "      <td>7.0</td>\n",
       "      <td>Merkezi(PayÖlçer)</td>\n",
       "      <td>Uygun</td>\n",
       "      <td>21 ve üzeri</td>\n",
       "      <td>2.0</td>\n",
       "      <td>çankaya</td>\n",
       "      <td>925828.0</td>\n",
       "      <td>lisans</td>\n",
       "      <td>0.70</td>\n",
       "    </tr>\n",
       "    <tr>\n",
       "      <th>23</th>\n",
       "      <td>4595</td>\n",
       "      <td>710000.0</td>\n",
       "      <td>4.0</td>\n",
       "      <td>110.0</td>\n",
       "      <td>40.0</td>\n",
       "      <td>Merkezi</td>\n",
       "      <td>Uygun</td>\n",
       "      <td>2. Kat</td>\n",
       "      <td>1.0</td>\n",
       "      <td>keçiören</td>\n",
       "      <td>938565.0</td>\n",
       "      <td>lise</td>\n",
       "      <td>1.43</td>\n",
       "    </tr>\n",
       "  </tbody>\n",
       "</table>\n",
       "</div>"
      ],
      "text/plain": [
       "      id      fiyat  oda_salon_sayisi  net_m2  bina_yasi        isinma_tipi  \\\n",
       "8   3313  1250000.0               5.0   195.0        0.0  Merkezi(PayÖlçer)   \n",
       "18  2053   850000.0               3.0   110.0        3.0  Merkezi(PayÖlçer)   \n",
       "19  2125   739000.0               5.0   150.0       22.0            Merkezi   \n",
       "22  1041  1875000.0               6.0   350.0        7.0  Merkezi(PayÖlçer)   \n",
       "23  4595   710000.0               4.0   110.0       40.0            Merkezi   \n",
       "\n",
       "   krediye_uygunluk bulundugu_kat  banyo_sayisi      ilce     nüfus  eğitim  \\\n",
       "8             Uygun        4. Kat           2.0  keçiören  938565.0    lise   \n",
       "18            Uygun        7. Kat           2.0  keçiören  938565.0    lise   \n",
       "19            Uygun        2. Kat           2.0   çankaya  925828.0  lisans   \n",
       "22            Uygun   21 ve üzeri           2.0   çankaya  925828.0  lisans   \n",
       "23            Uygun        2. Kat           1.0  keçiören  938565.0    lise   \n",
       "\n",
       "    okuma_yazma_bilmeyen  \n",
       "8                   1.43  \n",
       "18                  1.43  \n",
       "19                  0.70  \n",
       "22                  0.70  \n",
       "23                  1.43  "
      ]
     },
     "execution_count": 21,
     "metadata": {},
     "output_type": "execute_result"
    }
   ],
   "source": [
    "merkezi_df = df[(df[\"bulundugu_kat\"] >= \"2. Kat\") & ( df[\"isinma_tipi\"].str.contains(\"Merkezi\") )]\n",
    "merkezi_df.head()"
   ]
  },
  {
   "cell_type": "code",
   "execution_count": 22,
   "id": "30fdd17b",
   "metadata": {
    "execution": {
     "iopub.execute_input": "2022-03-14T19:03:17.107652Z",
     "iopub.status.busy": "2022-03-14T19:03:17.107019Z",
     "iopub.status.idle": "2022-03-14T19:03:17.117720Z",
     "shell.execute_reply": "2022-03-14T19:03:17.118296Z",
     "shell.execute_reply.started": "2022-03-14T19:02:05.277082Z"
    },
    "papermill": {
     "duration": 0.073386,
     "end_time": "2022-03-14T19:03:17.118481",
     "exception": false,
     "start_time": "2022-03-14T19:03:17.045095",
     "status": "completed"
    },
    "tags": []
   },
   "outputs": [
    {
     "data": {
      "text/html": [
       "<div>\n",
       "<style scoped>\n",
       "    .dataframe tbody tr th:only-of-type {\n",
       "        vertical-align: middle;\n",
       "    }\n",
       "\n",
       "    .dataframe tbody tr th {\n",
       "        vertical-align: top;\n",
       "    }\n",
       "\n",
       "    .dataframe thead th {\n",
       "        text-align: right;\n",
       "    }\n",
       "</style>\n",
       "<table border=\"1\" class=\"dataframe\">\n",
       "  <thead>\n",
       "    <tr style=\"text-align: right;\">\n",
       "      <th></th>\n",
       "      <th>ilce</th>\n",
       "      <th>id</th>\n",
       "    </tr>\n",
       "  </thead>\n",
       "  <tbody>\n",
       "    <tr>\n",
       "      <th>0</th>\n",
       "      <td>keçiören</td>\n",
       "      <td>314</td>\n",
       "    </tr>\n",
       "    <tr>\n",
       "      <th>1</th>\n",
       "      <td>mamak</td>\n",
       "      <td>1</td>\n",
       "    </tr>\n",
       "    <tr>\n",
       "      <th>2</th>\n",
       "      <td>sincan</td>\n",
       "      <td>71</td>\n",
       "    </tr>\n",
       "    <tr>\n",
       "      <th>3</th>\n",
       "      <td>çankaya</td>\n",
       "      <td>317</td>\n",
       "    </tr>\n",
       "  </tbody>\n",
       "</table>\n",
       "</div>"
      ],
      "text/plain": [
       "       ilce   id\n",
       "0  keçiören  314\n",
       "1     mamak    1\n",
       "2    sincan   71\n",
       "3   çankaya  317"
      ]
     },
     "execution_count": 22,
     "metadata": {},
     "output_type": "execute_result"
    }
   ],
   "source": [
    "df_for_hist = merkezi_df.groupby(\"ilce\").agg({\"id\": \"count\"}).reset_index()\n",
    "df_for_hist"
   ]
  },
  {
   "cell_type": "code",
   "execution_count": 23,
   "id": "fb4906cf",
   "metadata": {
    "execution": {
     "iopub.execute_input": "2022-03-14T19:03:17.231219Z",
     "iopub.status.busy": "2022-03-14T19:03:17.230584Z",
     "iopub.status.idle": "2022-03-14T19:03:17.454998Z",
     "shell.execute_reply": "2022-03-14T19:03:17.455490Z",
     "shell.execute_reply.started": "2022-03-14T19:02:05.300136Z"
    },
    "papermill": {
     "duration": 0.282503,
     "end_time": "2022-03-14T19:03:17.455654",
     "exception": false,
     "start_time": "2022-03-14T19:03:17.173151",
     "status": "completed"
    },
    "tags": []
   },
   "outputs": [
    {
     "data": {
      "image/png": "[encoded data removed]",
      "text/plain": [
       "<Figure size 1440x480 with 1 Axes>"
      ]
     },
     "metadata": {
      "needs_background": "light"
     },
     "output_type": "display_data"
    }
   ],
   "source": [
    "fig, ax = plt.subplots(figsize=(12,4), dpi=120)\n",
    "sns.barplot(x=\"ilce\", y=\"id\", data=df_for_hist, ax=ax)\n",
    "ax.set_xlabel(\"İlce İsimleri\")\n",
    "ax.set_ylabel(\"Merkezi Isıtmalı Ev Sayısı\")\n",
    "\n",
    "# putting the values of the bars on top of it.\n",
    "for rec in ax.patches:\n",
    "    ax.text(x=rec.get_xy()[0]+0.35, y=rec.get_height()+4, s=int(rec.get_height()))\n",
    "ax.set_ylim([0, 360])\n",
    "plt.show()\n",
    "# Interestingly, there is only 1 house in mamak with Merkezi heating. "
   ]
  },
  {
   "cell_type": "markdown",
   "id": "f69436a8",
   "metadata": {
    "papermill": {
     "duration": 0.054406,
     "end_time": "2022-03-14T19:03:17.564243",
     "exception": false,
     "start_time": "2022-03-14T19:03:17.509837",
     "status": "completed"
    },
    "tags": []
   },
   "source": [
    "### <b style=\"color:blue\"> SORU 4: Eğitim düzeyi lisans olanların oranının yüksek olduğu ve fiyatı 5000’den az olan bir evde oturmak isteyen biri hangi ilçedeki evlere bakmalıdır? Grafik çıkartarak, çıkarımlarınızı yazılı olarak ifade edin ve grafiğinizi oluştururken yaptığınız operasyonları açıklayın. </b>"
   ]
  },
  {
   "cell_type": "markdown",
   "id": "e41d32fc",
   "metadata": {
    "papermill": {
     "duration": 0.05425,
     "end_time": "2022-03-14T19:03:17.672670",
     "exception": false,
     "start_time": "2022-03-14T19:03:17.618420",
     "status": "completed"
    },
    "tags": []
   },
   "source": [
    "#### Eğitim düzeyi lisans olan tek ilçe çankaya ilçesidir. Bu ilçedeki fiyatı 5000'den az olan evler aşağıdaki evlerdir."
   ]
  },
  {
   "cell_type": "code",
   "execution_count": 24,
   "id": "5106ab52",
   "metadata": {
    "execution": {
     "iopub.execute_input": "2022-03-14T19:03:17.850201Z",
     "iopub.status.busy": "2022-03-14T19:03:17.849159Z",
     "iopub.status.idle": "2022-03-14T19:03:17.872799Z",
     "shell.execute_reply": "2022-03-14T19:03:17.873396Z",
     "shell.execute_reply.started": "2022-03-14T19:02:05.535839Z"
    },
    "papermill": {
     "duration": 0.112947,
     "end_time": "2022-03-14T19:03:17.873584",
     "exception": false,
     "start_time": "2022-03-14T19:03:17.760637",
     "status": "completed"
    },
    "tags": []
   },
   "outputs": [
    {
     "data": {
      "text/html": [
       "<div>\n",
       "<style scoped>\n",
       "    .dataframe tbody tr th:only-of-type {\n",
       "        vertical-align: middle;\n",
       "    }\n",
       "\n",
       "    .dataframe tbody tr th {\n",
       "        vertical-align: top;\n",
       "    }\n",
       "\n",
       "    .dataframe thead th {\n",
       "        text-align: right;\n",
       "    }\n",
       "</style>\n",
       "<table border=\"1\" class=\"dataframe\">\n",
       "  <thead>\n",
       "    <tr style=\"text-align: right;\">\n",
       "      <th></th>\n",
       "      <th>id</th>\n",
       "      <th>fiyat</th>\n",
       "      <th>oda_salon_sayisi</th>\n",
       "      <th>net_m2</th>\n",
       "      <th>bina_yasi</th>\n",
       "      <th>isinma_tipi</th>\n",
       "      <th>krediye_uygunluk</th>\n",
       "      <th>bulundugu_kat</th>\n",
       "      <th>banyo_sayisi</th>\n",
       "      <th>ilce</th>\n",
       "      <th>nüfus</th>\n",
       "      <th>eğitim</th>\n",
       "      <th>okuma_yazma_bilmeyen</th>\n",
       "    </tr>\n",
       "  </thead>\n",
       "  <tbody>\n",
       "    <tr>\n",
       "      <th>1031</th>\n",
       "      <td>3090</td>\n",
       "      <td>1085.0</td>\n",
       "      <td>4.0</td>\n",
       "      <td>128.0</td>\n",
       "      <td>15.0</td>\n",
       "      <td>Merkezi</td>\n",
       "      <td>Uygun</td>\n",
       "      <td>10. Kat</td>\n",
       "      <td>2.0</td>\n",
       "      <td>çankaya</td>\n",
       "      <td>925828.0</td>\n",
       "      <td>lisans</td>\n",
       "      <td>0.7</td>\n",
       "    </tr>\n",
       "    <tr>\n",
       "      <th>1561</th>\n",
       "      <td>2857</td>\n",
       "      <td>355.0</td>\n",
       "      <td>3.0</td>\n",
       "      <td>115.0</td>\n",
       "      <td>13.0</td>\n",
       "      <td>Kombi</td>\n",
       "      <td>Uygun</td>\n",
       "      <td>4. Kat</td>\n",
       "      <td>1.0</td>\n",
       "      <td>çankaya</td>\n",
       "      <td>925828.0</td>\n",
       "      <td>lisans</td>\n",
       "      <td>0.7</td>\n",
       "    </tr>\n",
       "    <tr>\n",
       "      <th>2300</th>\n",
       "      <td>1156</td>\n",
       "      <td>325.0</td>\n",
       "      <td>4.0</td>\n",
       "      <td>95.0</td>\n",
       "      <td>0.0</td>\n",
       "      <td>Kombi</td>\n",
       "      <td>Uygun</td>\n",
       "      <td>4. Kat</td>\n",
       "      <td>2.0</td>\n",
       "      <td>çankaya</td>\n",
       "      <td>925828.0</td>\n",
       "      <td>lisans</td>\n",
       "      <td>0.7</td>\n",
       "    </tr>\n",
       "    <tr>\n",
       "      <th>2333</th>\n",
       "      <td>2163</td>\n",
       "      <td>415.0</td>\n",
       "      <td>4.0</td>\n",
       "      <td>110.0</td>\n",
       "      <td>0.0</td>\n",
       "      <td>Kombi</td>\n",
       "      <td>Uygun</td>\n",
       "      <td>2. Kat</td>\n",
       "      <td>1.0</td>\n",
       "      <td>çankaya</td>\n",
       "      <td>925828.0</td>\n",
       "      <td>lisans</td>\n",
       "      <td>0.7</td>\n",
       "    </tr>\n",
       "    <tr>\n",
       "      <th>2413</th>\n",
       "      <td>3741</td>\n",
       "      <td>1000.0</td>\n",
       "      <td>4.0</td>\n",
       "      <td>140.0</td>\n",
       "      <td>0.0</td>\n",
       "      <td>Kombi</td>\n",
       "      <td>Uygun</td>\n",
       "      <td>4. Kat</td>\n",
       "      <td>2.0</td>\n",
       "      <td>çankaya</td>\n",
       "      <td>925828.0</td>\n",
       "      <td>lisans</td>\n",
       "      <td>0.7</td>\n",
       "    </tr>\n",
       "  </tbody>\n",
       "</table>\n",
       "</div>"
      ],
      "text/plain": [
       "        id   fiyat  oda_salon_sayisi  net_m2  bina_yasi isinma_tipi  \\\n",
       "1031  3090  1085.0               4.0   128.0       15.0     Merkezi   \n",
       "1561  2857   355.0               3.0   115.0       13.0       Kombi   \n",
       "2300  1156   325.0               4.0    95.0        0.0       Kombi   \n",
       "2333  2163   415.0               4.0   110.0        0.0       Kombi   \n",
       "2413  3741  1000.0               4.0   140.0        0.0       Kombi   \n",
       "\n",
       "     krediye_uygunluk bulundugu_kat  banyo_sayisi     ilce     nüfus  eğitim  \\\n",
       "1031            Uygun       10. Kat           2.0  çankaya  925828.0  lisans   \n",
       "1561            Uygun        4. Kat           1.0  çankaya  925828.0  lisans   \n",
       "2300            Uygun        4. Kat           2.0  çankaya  925828.0  lisans   \n",
       "2333            Uygun        2. Kat           1.0  çankaya  925828.0  lisans   \n",
       "2413            Uygun        4. Kat           2.0  çankaya  925828.0  lisans   \n",
       "\n",
       "      okuma_yazma_bilmeyen  \n",
       "1031                   0.7  \n",
       "1561                   0.7  \n",
       "2300                   0.7  \n",
       "2333                   0.7  \n",
       "2413                   0.7  "
      ]
     },
     "execution_count": 24,
     "metadata": {},
     "output_type": "execute_result"
    }
   ],
   "source": [
    "lisans_df = df[(df[\"eğitim\"] == \"lisans\") & (df[\"fiyat\"] < 5000)]\n",
    "lisans_df.head()"
   ]
  },
  {
   "cell_type": "markdown",
   "id": "67e727ef",
   "metadata": {
    "papermill": {
     "duration": 0.057137,
     "end_time": "2022-03-14T19:03:17.996805",
     "exception": false,
     "start_time": "2022-03-14T19:03:17.939668",
     "status": "completed"
    },
    "tags": []
   },
   "source": [
    "#### The only distinct is çankaya. So I just plot a bar plot."
   ]
  },
  {
   "cell_type": "code",
   "execution_count": 25,
   "id": "8c041d21",
   "metadata": {
    "execution": {
     "iopub.execute_input": "2022-03-14T19:03:18.113231Z",
     "iopub.status.busy": "2022-03-14T19:03:18.112265Z",
     "iopub.status.idle": "2022-03-14T19:03:18.317152Z",
     "shell.execute_reply": "2022-03-14T19:03:18.317600Z",
     "shell.execute_reply.started": "2022-03-14T19:02:05.563728Z"
    },
    "papermill": {
     "duration": 0.264744,
     "end_time": "2022-03-14T19:03:18.317765",
     "exception": false,
     "start_time": "2022-03-14T19:03:18.053021",
     "status": "completed"
    },
    "tags": []
   },
   "outputs": [
    {
     "data": {
      "image/png": "[encoded data removed]",
      "text/plain": [
       "<Figure size 1440x450 with 1 Axes>"
      ]
     },
     "metadata": {
      "needs_background": "light"
     },
     "output_type": "display_data"
    }
   ],
   "source": [
    "fig, ax = plt.subplots(figsize=(16,5), dpi=90)\n",
    "sns.barplot(x=\"ilce\", y=\"fiyat\", data=lisans_df, ax=ax, errwidth=0)\n",
    "plt.show()"
   ]
  },
  {
   "cell_type": "markdown",
   "id": "4f3e5b6d",
   "metadata": {
    "papermill": {
     "duration": 0.055108,
     "end_time": "2022-03-14T19:03:18.428255",
     "exception": false,
     "start_time": "2022-03-14T19:03:18.373147",
     "status": "completed"
    },
    "tags": []
   },
   "source": [
    "### <b style=\"color:blue\"> SORU 5: İlçelere göre ısınma türlerinden hangisinin daha uygun fiyata sahip olduğunu bulun. Grafik çıkartarak, çıkarımlarınızı yazılı olarak ifade edin ve grafiğinizi oluştururken yaptığınız operasyonları açıklayın. </b>"
   ]
  },
  {
   "cell_type": "markdown",
   "id": "9d1096c2",
   "metadata": {
    "papermill": {
     "duration": 0.055054,
     "end_time": "2022-03-14T19:03:18.538533",
     "exception": false,
     "start_time": "2022-03-14T19:03:18.483479",
     "status": "completed"
    },
    "tags": []
   },
   "source": [
    "#### A Multi-indexed(ilce, ısınma_tipi) DataFrame is created for separating out distinct names and their heating type with the column of the mean value of \"fiyat\" column."
   ]
  },
  {
   "cell_type": "code",
   "execution_count": 26,
   "id": "86eb24c5",
   "metadata": {
    "execution": {
     "iopub.execute_input": "2022-03-14T19:03:18.655647Z",
     "iopub.status.busy": "2022-03-14T19:03:18.654669Z",
     "iopub.status.idle": "2022-03-14T19:03:18.668720Z",
     "shell.execute_reply": "2022-03-14T19:03:18.669330Z",
     "shell.execute_reply.started": "2022-03-14T19:02:05.779790Z"
    },
    "papermill": {
     "duration": 0.07538,
     "end_time": "2022-03-14T19:03:18.669509",
     "exception": false,
     "start_time": "2022-03-14T19:03:18.594129",
     "status": "completed"
    },
    "tags": []
   },
   "outputs": [
    {
     "data": {
      "text/html": [
       "<div>\n",
       "<style scoped>\n",
       "    .dataframe tbody tr th:only-of-type {\n",
       "        vertical-align: middle;\n",
       "    }\n",
       "\n",
       "    .dataframe tbody tr th {\n",
       "        vertical-align: top;\n",
       "    }\n",
       "\n",
       "    .dataframe thead th {\n",
       "        text-align: right;\n",
       "    }\n",
       "</style>\n",
       "<table border=\"1\" class=\"dataframe\">\n",
       "  <thead>\n",
       "    <tr style=\"text-align: right;\">\n",
       "      <th></th>\n",
       "      <th></th>\n",
       "      <th>mean_fiyat</th>\n",
       "    </tr>\n",
       "    <tr>\n",
       "      <th>ilce</th>\n",
       "      <th>isinma_tipi</th>\n",
       "      <th></th>\n",
       "    </tr>\n",
       "  </thead>\n",
       "  <tbody>\n",
       "    <tr>\n",
       "      <th rowspan=\"5\" valign=\"top\">keçiören</th>\n",
       "      <th>KatKaloriferi</th>\n",
       "      <td>2.074500e+06</td>\n",
       "    </tr>\n",
       "    <tr>\n",
       "      <th>Klima</th>\n",
       "      <td>4.970000e+05</td>\n",
       "    </tr>\n",
       "    <tr>\n",
       "      <th>Kombi</th>\n",
       "      <td>5.612304e+05</td>\n",
       "    </tr>\n",
       "    <tr>\n",
       "      <th>Merkezi</th>\n",
       "      <td>7.438639e+05</td>\n",
       "    </tr>\n",
       "    <tr>\n",
       "      <th>Merkezi(PayÖlçer)</th>\n",
       "      <td>1.225402e+06</td>\n",
       "    </tr>\n",
       "    <tr>\n",
       "      <th rowspan=\"2\" valign=\"top\">mamak</th>\n",
       "      <th>Kombi</th>\n",
       "      <td>2.884390e+05</td>\n",
       "    </tr>\n",
       "    <tr>\n",
       "      <th>Merkezi</th>\n",
       "      <td>3.395000e+05</td>\n",
       "    </tr>\n",
       "    <tr>\n",
       "      <th rowspan=\"4\" valign=\"top\">sincan</th>\n",
       "      <th>KatKaloriferi</th>\n",
       "      <td>4.500000e+05</td>\n",
       "    </tr>\n",
       "    <tr>\n",
       "      <th>Kombi</th>\n",
       "      <td>2.730517e+05</td>\n",
       "    </tr>\n",
       "    <tr>\n",
       "      <th>Merkezi</th>\n",
       "      <td>3.135417e+05</td>\n",
       "    </tr>\n",
       "    <tr>\n",
       "      <th>Merkezi(PayÖlçer)</th>\n",
       "      <td>4.221705e+05</td>\n",
       "    </tr>\n",
       "    <tr>\n",
       "      <th rowspan=\"5\" valign=\"top\">çankaya</th>\n",
       "      <th>KatKaloriferi</th>\n",
       "      <td>2.074500e+06</td>\n",
       "    </tr>\n",
       "    <tr>\n",
       "      <th>Klima</th>\n",
       "      <td>7.000000e+05</td>\n",
       "    </tr>\n",
       "    <tr>\n",
       "      <th>Kombi</th>\n",
       "      <td>5.537179e+05</td>\n",
       "    </tr>\n",
       "    <tr>\n",
       "      <th>Merkezi</th>\n",
       "      <td>7.393321e+05</td>\n",
       "    </tr>\n",
       "    <tr>\n",
       "      <th>Merkezi(PayÖlçer)</th>\n",
       "      <td>1.259098e+06</td>\n",
       "    </tr>\n",
       "  </tbody>\n",
       "</table>\n",
       "</div>"
      ],
      "text/plain": [
       "                              mean_fiyat\n",
       "ilce     isinma_tipi                    \n",
       "keçiören KatKaloriferi      2.074500e+06\n",
       "         Klima              4.970000e+05\n",
       "         Kombi              5.612304e+05\n",
       "         Merkezi            7.438639e+05\n",
       "         Merkezi(PayÖlçer)  1.225402e+06\n",
       "mamak    Kombi              2.884390e+05\n",
       "         Merkezi            3.395000e+05\n",
       "sincan   KatKaloriferi      4.500000e+05\n",
       "         Kombi              2.730517e+05\n",
       "         Merkezi            3.135417e+05\n",
       "         Merkezi(PayÖlçer)  4.221705e+05\n",
       "çankaya  KatKaloriferi      2.074500e+06\n",
       "         Klima              7.000000e+05\n",
       "         Kombi              5.537179e+05\n",
       "         Merkezi            7.393321e+05\n",
       "         Merkezi(PayÖlçer)  1.259098e+06"
      ]
     },
     "execution_count": 26,
     "metadata": {},
     "output_type": "execute_result"
    }
   ],
   "source": [
    "isinma_df = df.groupby(by=[\"ilce\", \"isinma_tipi\"]).agg({\"fiyat\":\"mean\"})\n",
    "isinma_df.columns = [\"mean_fiyat\"]\n",
    "isinma_df"
   ]
  },
  {
   "cell_type": "markdown",
   "id": "efaf213e",
   "metadata": {
    "papermill": {
     "duration": 0.055769,
     "end_time": "2022-03-14T19:03:18.781266",
     "exception": false,
     "start_time": "2022-03-14T19:03:18.725497",
     "status": "completed"
    },
    "tags": []
   },
   "source": [
    "#### For keçiören: Klima. For mamak: Kombi. For sincan: Kombi. For çankaya: Kombi"
   ]
  },
  {
   "cell_type": "code",
   "execution_count": 27,
   "id": "069d5157",
   "metadata": {
    "execution": {
     "iopub.execute_input": "2022-03-14T19:03:18.898653Z",
     "iopub.status.busy": "2022-03-14T19:03:18.897578Z",
     "iopub.status.idle": "2022-03-14T19:03:19.248804Z",
     "shell.execute_reply": "2022-03-14T19:03:19.249362Z",
     "shell.execute_reply.started": "2022-03-14T19:02:05.803257Z"
    },
    "papermill": {
     "duration": 0.411737,
     "end_time": "2022-03-14T19:03:19.249541",
     "exception": false,
     "start_time": "2022-03-14T19:03:18.837804",
     "status": "completed"
    },
    "tags": []
   },
   "outputs": [
    {
     "data": {
      "image/png": "[encoded data removed]",
      "text/plain": [
       "<Figure size 1440x450 with 1 Axes>"
      ]
     },
     "metadata": {
      "needs_background": "light"
     },
     "output_type": "display_data"
    }
   ],
   "source": [
    "fig, ax = plt.subplots(figsize=(16,5), dpi=90)\n",
    "sns.set_palette(\"colorblind\", 5)\n",
    "sns.barplot(x=\"ilce\", y=\"mean_fiyat\", hue=\"isinma_tipi\", data=isinma_df.reset_index(), ax=ax)\n",
    "ax.legend(loc=\"upper center\")\n",
    "ax.grid(linestyle=\"dotted\")\n",
    "ax.set_xlabel(\"İlçe İsimleri\")\n",
    "ax.set_ylabel(\"Ortalama Ev Fiyatı\")\n",
    "ax.set_title(\"Isınma Tiplerine Göre Ortalama Ev Fiyatları\")\n",
    "plt.show()"
   ]
  }
 ],
 "metadata": {
  "kernelspec": {
   "display_name": "Python 3",
   "language": "python",
   "name": "python3"
  },
  "language_info": {
   "codemirror_mode": {
    "name": "ipython",
    "version": 3
   },
   "file_extension": ".py",
   "mimetype": "text/x-python",
   "name": "python",
   "nbconvert_exporter": "python",
   "pygments_lexer": "ipython3",
   "version": "3.7.12"
  },
  "papermill": {
   "default_parameters": {},
   "duration": 21.577454,
   "end_time": "2022-03-14T19:03:20.017128",
   "environment_variables": {},
   "exception": null,
   "input_path": "__notebook__.ipynb",
   "output_path": "__notebook__.ipynb",
   "parameters": {},
   "start_time": "2022-03-14T19:02:58.439674",
   "version": "2.3.3"
  }
 },
 "nbformat": 4,
 "nbformat_minor": 5
}
